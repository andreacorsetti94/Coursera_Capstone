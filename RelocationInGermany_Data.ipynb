{
 "cells": [
  {
   "cell_type": "markdown",
   "metadata": {},
   "source": [
    "# Relocation in Germany Data - Capstone Project\n",
    "\n",
    "The purpose of this notebook is to describe and gather the data that will be used to solve the business problem defined in the RelocationInGermany_BusinessProblem notebook.\n",
    "\n",
    "Now that the business requiremnts are clear, we need to look for the relevant data in order to build a model that determines which are the best cities in Germany to relocate to."
   ]
  },
  {
   "cell_type": "markdown",
   "metadata": {},
   "source": [
    "Let's show again the requirements matrix defined in the Business Problem notebook, along with the weight of each requiment"
   ]
  },
  {
   "cell_type": "markdown",
   "metadata": {},
   "source": [
    "Since not each one of these attributes is a positive one (for example unemployment rate), we need a wish matrix like this:\n",
    "\n",
    "- Number of citizens : Weight = +0,7\n",
    "- Number of Italian Restaurants and cafès : Weight = +0,5\n",
    "- Unemployment Rate : Weight = -0,9\n",
    "- Wealth indexes (like GDP and Average income per employer) : Weight = +0,8\n"
   ]
  },
  {
   "cell_type": "markdown",
   "metadata": {},
   "source": [
    "Now all we need to do is to gather this data from the Web.\n",
    "\n",
    "For indicators like wealth index, population and unemployment rate, we are going to use the tables shown here:\n",
    "- https://en.wikipedia.org/wiki/List_of_cities_in_Germany_by_population\n",
    "- https://en.wikipedia.org/wiki/List_of_German_cities_by_GDP\n",
    "- https://en.wikipedia.org/wiki/List_of_German_states_by_household_income\n",
    "- https://en.wikipedia.org/wiki/List_of_German_states_by_unemployment_rate\n",
    "\n",
    "While, for obtaining data about the italian restaurants and cafès we will use the Foursquare API"
   ]
  },
  {
   "cell_type": "markdown",
   "metadata": {},
   "source": [
    "# German cities by Population"
   ]
  },
  {
   "cell_type": "code",
   "execution_count": 1,
   "metadata": {},
   "outputs": [],
   "source": [
    "import pandas as pd"
   ]
  },
  {
   "cell_type": "code",
   "execution_count": 2,
   "metadata": {},
   "outputs": [
    {
     "data": {
      "text/html": [
       "<div>\n",
       "<style scoped>\n",
       "    .dataframe tbody tr th:only-of-type {\n",
       "        vertical-align: middle;\n",
       "    }\n",
       "\n",
       "    .dataframe tbody tr th {\n",
       "        vertical-align: top;\n",
       "    }\n",
       "\n",
       "    .dataframe thead th {\n",
       "        text-align: right;\n",
       "    }\n",
       "</style>\n",
       "<table border=\"1\" class=\"dataframe\">\n",
       "  <thead>\n",
       "    <tr style=\"text-align: right;\">\n",
       "      <th></th>\n",
       "      <th>2015rank</th>\n",
       "      <th>City</th>\n",
       "      <th>State</th>\n",
       "      <th>2015estimate</th>\n",
       "      <th>2011census</th>\n",
       "      <th>Change</th>\n",
       "      <th>2015land area</th>\n",
       "      <th>2015populationdensity</th>\n",
       "      <th>Location</th>\n",
       "    </tr>\n",
       "  </thead>\n",
       "  <tbody>\n",
       "    <tr>\n",
       "      <th>0</th>\n",
       "      <td>1</td>\n",
       "      <td>Berlin</td>\n",
       "      <td>Berlin</td>\n",
       "      <td>3520031</td>\n",
       "      <td>3292365</td>\n",
       "      <td>+6.91%</td>\n",
       "      <td>891.68 km2344.28 sq mi</td>\n",
       "      <td>3,948/km210,230/sq mi</td>\n",
       "      <td>52°31′N 13°23′E﻿ / ﻿52.517°N 13.383°E</td>\n",
       "    </tr>\n",
       "    <tr>\n",
       "      <th>1</th>\n",
       "      <td>2</td>\n",
       "      <td>Hamburg</td>\n",
       "      <td>Hamburg</td>\n",
       "      <td>1787408</td>\n",
       "      <td>1706696</td>\n",
       "      <td>+4.73%</td>\n",
       "      <td>755.3 km2291.6 sq mi</td>\n",
       "      <td>2,366/km26,130/sq mi</td>\n",
       "      <td>53°33′N 10°0′E﻿ / ﻿53.550°N 10.000°E</td>\n",
       "    </tr>\n",
       "    <tr>\n",
       "      <th>2</th>\n",
       "      <td>3</td>\n",
       "      <td>Munich (München)</td>\n",
       "      <td>Bavaria</td>\n",
       "      <td>1450381</td>\n",
       "      <td>1348335</td>\n",
       "      <td>+7.57%</td>\n",
       "      <td>310.7 km2120.0 sq mi</td>\n",
       "      <td>4,668/km212,090/sq mi</td>\n",
       "      <td>48°8′N 11°34′E﻿ / ﻿48.133°N 11.567°E</td>\n",
       "    </tr>\n",
       "    <tr>\n",
       "      <th>3</th>\n",
       "      <td>4</td>\n",
       "      <td>Cologne (Köln)</td>\n",
       "      <td>North Rhine-Westphalia</td>\n",
       "      <td>1060582</td>\n",
       "      <td>1005775</td>\n",
       "      <td>+5.45%</td>\n",
       "      <td>405.02 km2156.38 sq mi</td>\n",
       "      <td>2,619/km26,780/sq mi</td>\n",
       "      <td>50°56′N 6°57′E﻿ / ﻿50.933°N 6.950°E</td>\n",
       "    </tr>\n",
       "    <tr>\n",
       "      <th>4</th>\n",
       "      <td>5</td>\n",
       "      <td>Frankfurt am Main</td>\n",
       "      <td>Hesse</td>\n",
       "      <td>732688</td>\n",
       "      <td>667925</td>\n",
       "      <td>+9.70%</td>\n",
       "      <td>248.31 km295.87 sq mi</td>\n",
       "      <td>2,951/km27,640/sq mi</td>\n",
       "      <td>50°7′N 8°41′E﻿ / ﻿50.117°N 8.683°E</td>\n",
       "    </tr>\n",
       "  </tbody>\n",
       "</table>\n",
       "</div>"
      ],
      "text/plain": [
       "   2015rank               City                   State  2015estimate  \\\n",
       "0         1             Berlin                  Berlin       3520031   \n",
       "1         2            Hamburg                 Hamburg       1787408   \n",
       "2         3   Munich (München)                 Bavaria       1450381   \n",
       "3         4     Cologne (Köln)  North Rhine-Westphalia       1060582   \n",
       "4         5  Frankfurt am Main                   Hesse        732688   \n",
       "\n",
       "   2011census  Change           2015land area  2015populationdensity  \\\n",
       "0     3292365  +6.91%  891.68 km2344.28 sq mi  3,948/km210,230/sq mi   \n",
       "1     1706696  +4.73%    755.3 km2291.6 sq mi   2,366/km26,130/sq mi   \n",
       "2     1348335  +7.57%    310.7 km2120.0 sq mi  4,668/km212,090/sq mi   \n",
       "3     1005775  +5.45%  405.02 km2156.38 sq mi   2,619/km26,780/sq mi   \n",
       "4      667925  +9.70%   248.31 km295.87 sq mi   2,951/km27,640/sq mi   \n",
       "\n",
       "                                Location  \n",
       "0  52°31′N 13°23′E﻿ / ﻿52.517°N 13.383°E  \n",
       "1   53°33′N 10°0′E﻿ / ﻿53.550°N 10.000°E  \n",
       "2   48°8′N 11°34′E﻿ / ﻿48.133°N 11.567°E  \n",
       "3    50°56′N 6°57′E﻿ / ﻿50.933°N 6.950°E  \n",
       "4     50°7′N 8°41′E﻿ / ﻿50.117°N 8.683°E  "
      ]
     },
     "execution_count": 2,
     "metadata": {},
     "output_type": "execute_result"
    }
   ],
   "source": [
    "population_table_list = pd.read_html(\"https://en.wikipedia.org/wiki/List_of_cities_in_Germany_by_population\")\n",
    "population_df = population_table_list[0]\n",
    "population_df.head()"
   ]
  },
  {
   "cell_type": "markdown",
   "metadata": {},
   "source": [
    "The only fields that interests us are: 'City', 'State' and '2015 estimate'. So let's drop other columns and rename '2015estimate' in 'Population'"
   ]
  },
  {
   "cell_type": "code",
   "execution_count": 3,
   "metadata": {},
   "outputs": [],
   "source": [
    "population_df.drop(['2015rank','2011census','Change','2015land area','2015populationdensity',\n",
    "                    'Location'],axis=1, inplace = True)\n",
    "population_df.rename(columns={'2015estimate':'Population'},inplace=True)"
   ]
  },
  {
   "cell_type": "code",
   "execution_count": 4,
   "metadata": {
    "scrolled": true
   },
   "outputs": [
    {
     "data": {
      "text/html": [
       "<div>\n",
       "<style scoped>\n",
       "    .dataframe tbody tr th:only-of-type {\n",
       "        vertical-align: middle;\n",
       "    }\n",
       "\n",
       "    .dataframe tbody tr th {\n",
       "        vertical-align: top;\n",
       "    }\n",
       "\n",
       "    .dataframe thead th {\n",
       "        text-align: right;\n",
       "    }\n",
       "</style>\n",
       "<table border=\"1\" class=\"dataframe\">\n",
       "  <thead>\n",
       "    <tr style=\"text-align: right;\">\n",
       "      <th></th>\n",
       "      <th>City</th>\n",
       "      <th>State</th>\n",
       "      <th>Population</th>\n",
       "    </tr>\n",
       "  </thead>\n",
       "  <tbody>\n",
       "    <tr>\n",
       "      <th>0</th>\n",
       "      <td>Berlin</td>\n",
       "      <td>Berlin</td>\n",
       "      <td>3520031</td>\n",
       "    </tr>\n",
       "    <tr>\n",
       "      <th>1</th>\n",
       "      <td>Hamburg</td>\n",
       "      <td>Hamburg</td>\n",
       "      <td>1787408</td>\n",
       "    </tr>\n",
       "    <tr>\n",
       "      <th>2</th>\n",
       "      <td>Munich (München)</td>\n",
       "      <td>Bavaria</td>\n",
       "      <td>1450381</td>\n",
       "    </tr>\n",
       "    <tr>\n",
       "      <th>3</th>\n",
       "      <td>Cologne (Köln)</td>\n",
       "      <td>North Rhine-Westphalia</td>\n",
       "      <td>1060582</td>\n",
       "    </tr>\n",
       "    <tr>\n",
       "      <th>4</th>\n",
       "      <td>Frankfurt am Main</td>\n",
       "      <td>Hesse</td>\n",
       "      <td>732688</td>\n",
       "    </tr>\n",
       "  </tbody>\n",
       "</table>\n",
       "</div>"
      ],
      "text/plain": [
       "                City                   State  Population\n",
       "0             Berlin                  Berlin     3520031\n",
       "1            Hamburg                 Hamburg     1787408\n",
       "2   Munich (München)                 Bavaria     1450381\n",
       "3     Cologne (Köln)  North Rhine-Westphalia     1060582\n",
       "4  Frankfurt am Main                   Hesse      732688"
      ]
     },
     "execution_count": 4,
     "metadata": {},
     "output_type": "execute_result"
    }
   ],
   "source": [
    "population_df.head()"
   ]
  },
  {
   "cell_type": "markdown",
   "metadata": {},
   "source": [
    "Let's clean the 'City' column. In fact, some city names values contain the respective german name of the city.\n",
    "We will change this names leaving only the first part of the name"
   ]
  },
  {
   "cell_type": "code",
   "execution_count": 5,
   "metadata": {},
   "outputs": [],
   "source": [
    "population_df['City'] = population_df['City'].str.replace(' \\\\(.*', '', regex=True)"
   ]
  },
  {
   "cell_type": "code",
   "execution_count": 6,
   "metadata": {},
   "outputs": [
    {
     "data": {
      "text/html": [
       "<div>\n",
       "<style scoped>\n",
       "    .dataframe tbody tr th:only-of-type {\n",
       "        vertical-align: middle;\n",
       "    }\n",
       "\n",
       "    .dataframe tbody tr th {\n",
       "        vertical-align: top;\n",
       "    }\n",
       "\n",
       "    .dataframe thead th {\n",
       "        text-align: right;\n",
       "    }\n",
       "</style>\n",
       "<table border=\"1\" class=\"dataframe\">\n",
       "  <thead>\n",
       "    <tr style=\"text-align: right;\">\n",
       "      <th></th>\n",
       "      <th>City</th>\n",
       "      <th>State</th>\n",
       "      <th>Population</th>\n",
       "    </tr>\n",
       "  </thead>\n",
       "  <tbody>\n",
       "    <tr>\n",
       "      <th>0</th>\n",
       "      <td>Berlin</td>\n",
       "      <td>Berlin</td>\n",
       "      <td>3520031</td>\n",
       "    </tr>\n",
       "    <tr>\n",
       "      <th>1</th>\n",
       "      <td>Hamburg</td>\n",
       "      <td>Hamburg</td>\n",
       "      <td>1787408</td>\n",
       "    </tr>\n",
       "    <tr>\n",
       "      <th>2</th>\n",
       "      <td>Munich</td>\n",
       "      <td>Bavaria</td>\n",
       "      <td>1450381</td>\n",
       "    </tr>\n",
       "    <tr>\n",
       "      <th>3</th>\n",
       "      <td>Cologne</td>\n",
       "      <td>North Rhine-Westphalia</td>\n",
       "      <td>1060582</td>\n",
       "    </tr>\n",
       "    <tr>\n",
       "      <th>4</th>\n",
       "      <td>Frankfurt am Main</td>\n",
       "      <td>Hesse</td>\n",
       "      <td>732688</td>\n",
       "    </tr>\n",
       "  </tbody>\n",
       "</table>\n",
       "</div>"
      ],
      "text/plain": [
       "                City                   State  Population\n",
       "0             Berlin                  Berlin     3520031\n",
       "1            Hamburg                 Hamburg     1787408\n",
       "2             Munich                 Bavaria     1450381\n",
       "3            Cologne  North Rhine-Westphalia     1060582\n",
       "4  Frankfurt am Main                   Hesse      732688"
      ]
     },
     "execution_count": 6,
     "metadata": {},
     "output_type": "execute_result"
    }
   ],
   "source": [
    "population_df.head()"
   ]
  },
  {
   "cell_type": "markdown",
   "metadata": {},
   "source": [
    "# German cities by GPD (Gross Domestic Product)"
   ]
  },
  {
   "cell_type": "markdown",
   "metadata": {},
   "source": [
    "Now we build another dataframe from Wikipedia, containing the city with the highest GPD for city"
   ]
  },
  {
   "cell_type": "code",
   "execution_count": 7,
   "metadata": {},
   "outputs": [],
   "source": [
    "gpd_df_list = pd.read_html(\"https://en.wikipedia.org/wiki/List_of_German_cities_by_GDP\")\n",
    "gpd_df = gpd_df_list[0]"
   ]
  },
  {
   "cell_type": "code",
   "execution_count": 8,
   "metadata": {},
   "outputs": [
    {
     "data": {
      "text/html": [
       "<div>\n",
       "<style scoped>\n",
       "    .dataframe tbody tr th:only-of-type {\n",
       "        vertical-align: middle;\n",
       "    }\n",
       "\n",
       "    .dataframe tbody tr th {\n",
       "        vertical-align: top;\n",
       "    }\n",
       "\n",
       "    .dataframe thead th {\n",
       "        text-align: right;\n",
       "    }\n",
       "</style>\n",
       "<table border=\"1\" class=\"dataframe\">\n",
       "  <thead>\n",
       "    <tr style=\"text-align: right;\">\n",
       "      <th></th>\n",
       "      <th>Rank</th>\n",
       "      <th>City</th>\n",
       "      <th>State</th>\n",
       "      <th>Gross Domestic Productin million €</th>\n",
       "      <th>Gross Domestic Productper capita in €</th>\n",
       "      <th>Gross Domestic Productper employee in €</th>\n",
       "    </tr>\n",
       "  </thead>\n",
       "  <tbody>\n",
       "    <tr>\n",
       "      <th>0</th>\n",
       "      <td>1</td>\n",
       "      <td>Berlin</td>\n",
       "      <td>Berlin</td>\n",
       "      <td>130.537</td>\n",
       "      <td>36798</td>\n",
       "      <td>68906</td>\n",
       "    </tr>\n",
       "    <tr>\n",
       "      <th>1</th>\n",
       "      <td>2</td>\n",
       "      <td>Hamburg</td>\n",
       "      <td>Hamburg</td>\n",
       "      <td>112.959</td>\n",
       "      <td>62793</td>\n",
       "      <td>92163</td>\n",
       "    </tr>\n",
       "    <tr>\n",
       "      <th>2</th>\n",
       "      <td>3</td>\n",
       "      <td>Munich</td>\n",
       "      <td>Bavaria</td>\n",
       "      <td>109.571</td>\n",
       "      <td>75186</td>\n",
       "      <td>100776</td>\n",
       "    </tr>\n",
       "    <tr>\n",
       "      <th>3</th>\n",
       "      <td>4</td>\n",
       "      <td>Frankfurt am Main</td>\n",
       "      <td>Hesse</td>\n",
       "      <td>66.917</td>\n",
       "      <td>91099</td>\n",
       "      <td>97178</td>\n",
       "    </tr>\n",
       "    <tr>\n",
       "      <th>4</th>\n",
       "      <td>5</td>\n",
       "      <td>Cologne</td>\n",
       "      <td>North Rhine-Westphalia</td>\n",
       "      <td>63.463</td>\n",
       "      <td>59407</td>\n",
       "      <td>85127</td>\n",
       "    </tr>\n",
       "  </tbody>\n",
       "</table>\n",
       "</div>"
      ],
      "text/plain": [
       "   Rank               City                   State  \\\n",
       "0     1             Berlin                  Berlin   \n",
       "1     2            Hamburg                 Hamburg   \n",
       "2     3             Munich                 Bavaria   \n",
       "3     4  Frankfurt am Main                   Hesse   \n",
       "4     5            Cologne  North Rhine-Westphalia   \n",
       "\n",
       "   Gross Domestic Productin million €  Gross Domestic Productper capita in €  \\\n",
       "0                             130.537                                  36798   \n",
       "1                             112.959                                  62793   \n",
       "2                             109.571                                  75186   \n",
       "3                              66.917                                  91099   \n",
       "4                              63.463                                  59407   \n",
       "\n",
       "   Gross Domestic Productper employee in €  \n",
       "0                                    68906  \n",
       "1                                    92163  \n",
       "2                                   100776  \n",
       "3                                    97178  \n",
       "4                                    85127  "
      ]
     },
     "execution_count": 8,
     "metadata": {},
     "output_type": "execute_result"
    }
   ],
   "source": [
    "gpd_df.head()"
   ]
  },
  {
   "cell_type": "markdown",
   "metadata": {},
   "source": [
    "We are interested in the columns 'City', 'State' (for merging the results in a few moments) and the column that shows the average GDP per employee ('Gross Domestic Product per employee in €)"
   ]
  },
  {
   "cell_type": "code",
   "execution_count": 9,
   "metadata": {},
   "outputs": [],
   "source": [
    "gpd_df.drop(['Rank','Gross Domestic Productin million €','Gross Domestic Productper capita in €'],axis=1, inplace = True)\n",
    "gpd_df.rename(columns={'Gross Domestic Productper employee in €':'GDP'},inplace=True)"
   ]
  },
  {
   "cell_type": "code",
   "execution_count": 10,
   "metadata": {},
   "outputs": [
    {
     "data": {
      "text/html": [
       "<div>\n",
       "<style scoped>\n",
       "    .dataframe tbody tr th:only-of-type {\n",
       "        vertical-align: middle;\n",
       "    }\n",
       "\n",
       "    .dataframe tbody tr th {\n",
       "        vertical-align: top;\n",
       "    }\n",
       "\n",
       "    .dataframe thead th {\n",
       "        text-align: right;\n",
       "    }\n",
       "</style>\n",
       "<table border=\"1\" class=\"dataframe\">\n",
       "  <thead>\n",
       "    <tr style=\"text-align: right;\">\n",
       "      <th></th>\n",
       "      <th>City</th>\n",
       "      <th>State</th>\n",
       "      <th>GDP</th>\n",
       "    </tr>\n",
       "  </thead>\n",
       "  <tbody>\n",
       "    <tr>\n",
       "      <th>0</th>\n",
       "      <td>Berlin</td>\n",
       "      <td>Berlin</td>\n",
       "      <td>68906</td>\n",
       "    </tr>\n",
       "    <tr>\n",
       "      <th>1</th>\n",
       "      <td>Hamburg</td>\n",
       "      <td>Hamburg</td>\n",
       "      <td>92163</td>\n",
       "    </tr>\n",
       "    <tr>\n",
       "      <th>2</th>\n",
       "      <td>Munich</td>\n",
       "      <td>Bavaria</td>\n",
       "      <td>100776</td>\n",
       "    </tr>\n",
       "    <tr>\n",
       "      <th>3</th>\n",
       "      <td>Frankfurt am Main</td>\n",
       "      <td>Hesse</td>\n",
       "      <td>97178</td>\n",
       "    </tr>\n",
       "    <tr>\n",
       "      <th>4</th>\n",
       "      <td>Cologne</td>\n",
       "      <td>North Rhine-Westphalia</td>\n",
       "      <td>85127</td>\n",
       "    </tr>\n",
       "  </tbody>\n",
       "</table>\n",
       "</div>"
      ],
      "text/plain": [
       "                City                   State     GDP\n",
       "0             Berlin                  Berlin   68906\n",
       "1            Hamburg                 Hamburg   92163\n",
       "2             Munich                 Bavaria  100776\n",
       "3  Frankfurt am Main                   Hesse   97178\n",
       "4            Cologne  North Rhine-Westphalia   85127"
      ]
     },
     "execution_count": 10,
     "metadata": {},
     "output_type": "execute_result"
    }
   ],
   "source": [
    "gpd_df.head()"
   ]
  },
  {
   "cell_type": "markdown",
   "metadata": {},
   "source": [
    "Let's clean, again, the 'City' column. In fact, some city names values contain the respective german name of the city.\n",
    "We will change this names leaving only the first part of the name"
   ]
  },
  {
   "cell_type": "code",
   "execution_count": 11,
   "metadata": {},
   "outputs": [],
   "source": [
    "gpd_df['City'] = gpd_df['City'].str.replace(' \\\\(.*', '', regex=True)"
   ]
  },
  {
   "cell_type": "code",
   "execution_count": 12,
   "metadata": {},
   "outputs": [
    {
     "data": {
      "text/html": [
       "<div>\n",
       "<style scoped>\n",
       "    .dataframe tbody tr th:only-of-type {\n",
       "        vertical-align: middle;\n",
       "    }\n",
       "\n",
       "    .dataframe tbody tr th {\n",
       "        vertical-align: top;\n",
       "    }\n",
       "\n",
       "    .dataframe thead th {\n",
       "        text-align: right;\n",
       "    }\n",
       "</style>\n",
       "<table border=\"1\" class=\"dataframe\">\n",
       "  <thead>\n",
       "    <tr style=\"text-align: right;\">\n",
       "      <th></th>\n",
       "      <th>City</th>\n",
       "      <th>State</th>\n",
       "      <th>GDP</th>\n",
       "    </tr>\n",
       "  </thead>\n",
       "  <tbody>\n",
       "    <tr>\n",
       "      <th>0</th>\n",
       "      <td>Berlin</td>\n",
       "      <td>Berlin</td>\n",
       "      <td>68906</td>\n",
       "    </tr>\n",
       "    <tr>\n",
       "      <th>1</th>\n",
       "      <td>Hamburg</td>\n",
       "      <td>Hamburg</td>\n",
       "      <td>92163</td>\n",
       "    </tr>\n",
       "    <tr>\n",
       "      <th>2</th>\n",
       "      <td>Munich</td>\n",
       "      <td>Bavaria</td>\n",
       "      <td>100776</td>\n",
       "    </tr>\n",
       "    <tr>\n",
       "      <th>3</th>\n",
       "      <td>Frankfurt am Main</td>\n",
       "      <td>Hesse</td>\n",
       "      <td>97178</td>\n",
       "    </tr>\n",
       "    <tr>\n",
       "      <th>4</th>\n",
       "      <td>Cologne</td>\n",
       "      <td>North Rhine-Westphalia</td>\n",
       "      <td>85127</td>\n",
       "    </tr>\n",
       "  </tbody>\n",
       "</table>\n",
       "</div>"
      ],
      "text/plain": [
       "                City                   State     GDP\n",
       "0             Berlin                  Berlin   68906\n",
       "1            Hamburg                 Hamburg   92163\n",
       "2             Munich                 Bavaria  100776\n",
       "3  Frankfurt am Main                   Hesse   97178\n",
       "4            Cologne  North Rhine-Westphalia   85127"
      ]
     },
     "execution_count": 12,
     "metadata": {},
     "output_type": "execute_result"
    }
   ],
   "source": [
    "gpd_df.head()"
   ]
  },
  {
   "cell_type": "markdown",
   "metadata": {},
   "source": [
    "# Merge Population and GPD data"
   ]
  },
  {
   "cell_type": "markdown",
   "metadata": {},
   "source": [
    "Before merging the GPD Dataframe and the Population Dataframe, we need to consider that we want to merge records where the tuple (city, state) is present in both the dataframes. We will ignore cities present only in one Dataframe"
   ]
  },
  {
   "cell_type": "code",
   "execution_count": 13,
   "metadata": {},
   "outputs": [],
   "source": [
    "pop_gpd_df = pd.merge(left=population_df, right=gpd_df, on='City')"
   ]
  },
  {
   "cell_type": "code",
   "execution_count": 14,
   "metadata": {},
   "outputs": [
    {
     "data": {
      "text/html": [
       "<div>\n",
       "<style scoped>\n",
       "    .dataframe tbody tr th:only-of-type {\n",
       "        vertical-align: middle;\n",
       "    }\n",
       "\n",
       "    .dataframe tbody tr th {\n",
       "        vertical-align: top;\n",
       "    }\n",
       "\n",
       "    .dataframe thead th {\n",
       "        text-align: right;\n",
       "    }\n",
       "</style>\n",
       "<table border=\"1\" class=\"dataframe\">\n",
       "  <thead>\n",
       "    <tr style=\"text-align: right;\">\n",
       "      <th></th>\n",
       "      <th>City</th>\n",
       "      <th>State_x</th>\n",
       "      <th>Population</th>\n",
       "      <th>State_y</th>\n",
       "      <th>GDP</th>\n",
       "    </tr>\n",
       "  </thead>\n",
       "  <tbody>\n",
       "    <tr>\n",
       "      <th>0</th>\n",
       "      <td>Berlin</td>\n",
       "      <td>Berlin</td>\n",
       "      <td>3520031</td>\n",
       "      <td>Berlin</td>\n",
       "      <td>68906</td>\n",
       "    </tr>\n",
       "    <tr>\n",
       "      <th>1</th>\n",
       "      <td>Hamburg</td>\n",
       "      <td>Hamburg</td>\n",
       "      <td>1787408</td>\n",
       "      <td>Hamburg</td>\n",
       "      <td>92163</td>\n",
       "    </tr>\n",
       "    <tr>\n",
       "      <th>2</th>\n",
       "      <td>Munich</td>\n",
       "      <td>Bavaria</td>\n",
       "      <td>1450381</td>\n",
       "      <td>Bavaria</td>\n",
       "      <td>100776</td>\n",
       "    </tr>\n",
       "    <tr>\n",
       "      <th>3</th>\n",
       "      <td>Cologne</td>\n",
       "      <td>North Rhine-Westphalia</td>\n",
       "      <td>1060582</td>\n",
       "      <td>North Rhine-Westphalia</td>\n",
       "      <td>85127</td>\n",
       "    </tr>\n",
       "    <tr>\n",
       "      <th>4</th>\n",
       "      <td>Frankfurt am Main</td>\n",
       "      <td>Hesse</td>\n",
       "      <td>732688</td>\n",
       "      <td>Hesse</td>\n",
       "      <td>97178</td>\n",
       "    </tr>\n",
       "  </tbody>\n",
       "</table>\n",
       "</div>"
      ],
      "text/plain": [
       "                City                 State_x  Population  \\\n",
       "0             Berlin                  Berlin     3520031   \n",
       "1            Hamburg                 Hamburg     1787408   \n",
       "2             Munich                 Bavaria     1450381   \n",
       "3            Cologne  North Rhine-Westphalia     1060582   \n",
       "4  Frankfurt am Main                   Hesse      732688   \n",
       "\n",
       "                  State_y     GDP  \n",
       "0                  Berlin   68906  \n",
       "1                 Hamburg   92163  \n",
       "2                 Bavaria  100776  \n",
       "3  North Rhine-Westphalia   85127  \n",
       "4                   Hesse   97178  "
      ]
     },
     "execution_count": 14,
     "metadata": {},
     "output_type": "execute_result"
    }
   ],
   "source": [
    "pop_gpd_df.head()"
   ]
  },
  {
   "cell_type": "markdown",
   "metadata": {},
   "source": [
    "Let's remove the duplicate States column"
   ]
  },
  {
   "cell_type": "code",
   "execution_count": 15,
   "metadata": {},
   "outputs": [],
   "source": [
    "pop_gpd_df.drop('State_y', axis=1, inplace = True)\n",
    "pop_gpd_df.rename(columns={'State_x':'State'}, inplace = True)"
   ]
  },
  {
   "cell_type": "code",
   "execution_count": 16,
   "metadata": {},
   "outputs": [
    {
     "data": {
      "text/html": [
       "<div>\n",
       "<style scoped>\n",
       "    .dataframe tbody tr th:only-of-type {\n",
       "        vertical-align: middle;\n",
       "    }\n",
       "\n",
       "    .dataframe tbody tr th {\n",
       "        vertical-align: top;\n",
       "    }\n",
       "\n",
       "    .dataframe thead th {\n",
       "        text-align: right;\n",
       "    }\n",
       "</style>\n",
       "<table border=\"1\" class=\"dataframe\">\n",
       "  <thead>\n",
       "    <tr style=\"text-align: right;\">\n",
       "      <th></th>\n",
       "      <th>City</th>\n",
       "      <th>State</th>\n",
       "      <th>Population</th>\n",
       "      <th>GDP</th>\n",
       "    </tr>\n",
       "  </thead>\n",
       "  <tbody>\n",
       "    <tr>\n",
       "      <th>0</th>\n",
       "      <td>Berlin</td>\n",
       "      <td>Berlin</td>\n",
       "      <td>3520031</td>\n",
       "      <td>68906</td>\n",
       "    </tr>\n",
       "    <tr>\n",
       "      <th>1</th>\n",
       "      <td>Hamburg</td>\n",
       "      <td>Hamburg</td>\n",
       "      <td>1787408</td>\n",
       "      <td>92163</td>\n",
       "    </tr>\n",
       "    <tr>\n",
       "      <th>2</th>\n",
       "      <td>Munich</td>\n",
       "      <td>Bavaria</td>\n",
       "      <td>1450381</td>\n",
       "      <td>100776</td>\n",
       "    </tr>\n",
       "    <tr>\n",
       "      <th>3</th>\n",
       "      <td>Cologne</td>\n",
       "      <td>North Rhine-Westphalia</td>\n",
       "      <td>1060582</td>\n",
       "      <td>85127</td>\n",
       "    </tr>\n",
       "    <tr>\n",
       "      <th>4</th>\n",
       "      <td>Frankfurt am Main</td>\n",
       "      <td>Hesse</td>\n",
       "      <td>732688</td>\n",
       "      <td>97178</td>\n",
       "    </tr>\n",
       "    <tr>\n",
       "      <th>5</th>\n",
       "      <td>Stuttgart</td>\n",
       "      <td>Baden-Württemberg</td>\n",
       "      <td>623738</td>\n",
       "      <td>99311</td>\n",
       "    </tr>\n",
       "    <tr>\n",
       "      <th>6</th>\n",
       "      <td>Düsseldorf</td>\n",
       "      <td>North Rhine-Westphalia</td>\n",
       "      <td>612178</td>\n",
       "      <td>93054</td>\n",
       "    </tr>\n",
       "    <tr>\n",
       "      <th>7</th>\n",
       "      <td>Dortmund</td>\n",
       "      <td>North Rhine-Westphalia</td>\n",
       "      <td>586181</td>\n",
       "      <td>68745</td>\n",
       "    </tr>\n",
       "    <tr>\n",
       "      <th>8</th>\n",
       "      <td>Essen</td>\n",
       "      <td>North Rhine-Westphalia</td>\n",
       "      <td>582624</td>\n",
       "      <td>73327</td>\n",
       "    </tr>\n",
       "    <tr>\n",
       "      <th>9</th>\n",
       "      <td>Leipzig</td>\n",
       "      <td>Saxony</td>\n",
       "      <td>560472</td>\n",
       "      <td>60453</td>\n",
       "    </tr>\n",
       "    <tr>\n",
       "      <th>10</th>\n",
       "      <td>Bremen</td>\n",
       "      <td>Bremen</td>\n",
       "      <td>557464</td>\n",
       "      <td>78738</td>\n",
       "    </tr>\n",
       "    <tr>\n",
       "      <th>11</th>\n",
       "      <td>Dresden</td>\n",
       "      <td>Saxony</td>\n",
       "      <td>543825</td>\n",
       "      <td>63783</td>\n",
       "    </tr>\n",
       "    <tr>\n",
       "      <th>12</th>\n",
       "      <td>Nuremberg</td>\n",
       "      <td>Bavaria</td>\n",
       "      <td>509975</td>\n",
       "      <td>72379</td>\n",
       "    </tr>\n",
       "    <tr>\n",
       "      <th>13</th>\n",
       "      <td>Duisburg</td>\n",
       "      <td>North Rhine-Westphalia</td>\n",
       "      <td>491231</td>\n",
       "      <td>73774</td>\n",
       "    </tr>\n",
       "    <tr>\n",
       "      <th>14</th>\n",
       "      <td>Bochum</td>\n",
       "      <td>North Rhine-Westphalia</td>\n",
       "      <td>364742</td>\n",
       "      <td>64636</td>\n",
       "    </tr>\n",
       "    <tr>\n",
       "      <th>15</th>\n",
       "      <td>Wuppertal</td>\n",
       "      <td>North Rhine-Westphalia</td>\n",
       "      <td>350046</td>\n",
       "      <td>76275</td>\n",
       "    </tr>\n",
       "    <tr>\n",
       "      <th>16</th>\n",
       "      <td>Bielefeld</td>\n",
       "      <td>North Rhine-Westphalia</td>\n",
       "      <td>333090</td>\n",
       "      <td>63554</td>\n",
       "    </tr>\n",
       "    <tr>\n",
       "      <th>17</th>\n",
       "      <td>Bonn</td>\n",
       "      <td>North Rhine-Westphalia</td>\n",
       "      <td>318809</td>\n",
       "      <td>93858</td>\n",
       "    </tr>\n",
       "    <tr>\n",
       "      <th>18</th>\n",
       "      <td>Münster</td>\n",
       "      <td>North Rhine-Westphalia</td>\n",
       "      <td>310039</td>\n",
       "      <td>79213</td>\n",
       "    </tr>\n",
       "    <tr>\n",
       "      <th>19</th>\n",
       "      <td>Karlsruhe</td>\n",
       "      <td>Baden-Württemberg</td>\n",
       "      <td>307755</td>\n",
       "      <td>82815</td>\n",
       "    </tr>\n",
       "  </tbody>\n",
       "</table>\n",
       "</div>"
      ],
      "text/plain": [
       "                 City                   State  Population     GDP\n",
       "0              Berlin                  Berlin     3520031   68906\n",
       "1             Hamburg                 Hamburg     1787408   92163\n",
       "2              Munich                 Bavaria     1450381  100776\n",
       "3             Cologne  North Rhine-Westphalia     1060582   85127\n",
       "4   Frankfurt am Main                   Hesse      732688   97178\n",
       "5           Stuttgart       Baden-Württemberg      623738   99311\n",
       "6          Düsseldorf  North Rhine-Westphalia      612178   93054\n",
       "7            Dortmund  North Rhine-Westphalia      586181   68745\n",
       "8               Essen  North Rhine-Westphalia      582624   73327\n",
       "9             Leipzig                  Saxony      560472   60453\n",
       "10             Bremen                  Bremen      557464   78738\n",
       "11            Dresden                  Saxony      543825   63783\n",
       "12          Nuremberg                 Bavaria      509975   72379\n",
       "13           Duisburg  North Rhine-Westphalia      491231   73774\n",
       "14             Bochum  North Rhine-Westphalia      364742   64636\n",
       "15          Wuppertal  North Rhine-Westphalia      350046   76275\n",
       "16          Bielefeld  North Rhine-Westphalia      333090   63554\n",
       "17               Bonn  North Rhine-Westphalia      318809   93858\n",
       "18            Münster  North Rhine-Westphalia      310039   79213\n",
       "19          Karlsruhe       Baden-Württemberg      307755   82815"
      ]
     },
     "execution_count": 16,
     "metadata": {},
     "output_type": "execute_result"
    }
   ],
   "source": [
    "pop_gpd_df.head(20)"
   ]
  },
  {
   "cell_type": "markdown",
   "metadata": {},
   "source": [
    "# Unemployment Rate and household income Data"
   ]
  },
  {
   "cell_type": "markdown",
   "metadata": {},
   "source": [
    "Next, we're going to focus on the unemployment rate and the household income data.\n",
    "This data, also obtained from Wikipedia, is grouped by State, and not by City.\n",
    "So the objective now is to build another 2 columns in out dataframe, where the records related to cities in the same state will have the same unemployment rate and household income"
   ]
  },
  {
   "cell_type": "markdown",
   "metadata": {},
   "source": [
    "# Unemployment Rate"
   ]
  },
  {
   "cell_type": "code",
   "execution_count": 17,
   "metadata": {},
   "outputs": [],
   "source": [
    "unemp_df_list = pd.read_html(\"https://en.wikipedia.org/wiki/List_of_German_states_by_unemployment_rate\")\n",
    "unemp_df = unemp_df_list[0]"
   ]
  },
  {
   "cell_type": "code",
   "execution_count": 18,
   "metadata": {},
   "outputs": [
    {
     "data": {
      "text/html": [
       "<div>\n",
       "<style scoped>\n",
       "    .dataframe tbody tr th:only-of-type {\n",
       "        vertical-align: middle;\n",
       "    }\n",
       "\n",
       "    .dataframe tbody tr th {\n",
       "        vertical-align: top;\n",
       "    }\n",
       "\n",
       "    .dataframe thead th {\n",
       "        text-align: right;\n",
       "    }\n",
       "</style>\n",
       "<table border=\"1\" class=\"dataframe\">\n",
       "  <thead>\n",
       "    <tr style=\"text-align: right;\">\n",
       "      <th></th>\n",
       "      <th>Rank</th>\n",
       "      <th>States</th>\n",
       "      <th>unemployment rate (July 2019)[1]</th>\n",
       "    </tr>\n",
       "  </thead>\n",
       "  <tbody>\n",
       "    <tr>\n",
       "      <th>0</th>\n",
       "      <td>1.0</td>\n",
       "      <td>Bremen</td>\n",
       "      <td>10.2%</td>\n",
       "    </tr>\n",
       "    <tr>\n",
       "      <th>1</th>\n",
       "      <td>2.0</td>\n",
       "      <td>Berlin</td>\n",
       "      <td>8.0%</td>\n",
       "    </tr>\n",
       "    <tr>\n",
       "      <th>2</th>\n",
       "      <td>3.0</td>\n",
       "      <td>Saxony-Anhalt</td>\n",
       "      <td>7.0%</td>\n",
       "    </tr>\n",
       "    <tr>\n",
       "      <th>3</th>\n",
       "      <td>4.0</td>\n",
       "      <td>Mecklenburg-Vorpommern</td>\n",
       "      <td>6.7%</td>\n",
       "    </tr>\n",
       "    <tr>\n",
       "      <th>4</th>\n",
       "      <td>5.0</td>\n",
       "      <td>North Rhine-Westphalia</td>\n",
       "      <td>6.6%</td>\n",
       "    </tr>\n",
       "  </tbody>\n",
       "</table>\n",
       "</div>"
      ],
      "text/plain": [
       "   Rank                  States unemployment rate (July 2019)[1]\n",
       "0   1.0                  Bremen                            10.2%\n",
       "1   2.0                  Berlin                             8.0%\n",
       "2   3.0           Saxony-Anhalt                             7.0%\n",
       "3   4.0  Mecklenburg-Vorpommern                             6.7%\n",
       "4   5.0  North Rhine-Westphalia                             6.6%"
      ]
     },
     "execution_count": 18,
     "metadata": {},
     "output_type": "execute_result"
    }
   ],
   "source": [
    "unemp_df.head()"
   ]
  },
  {
   "cell_type": "code",
   "execution_count": 19,
   "metadata": {},
   "outputs": [
    {
     "data": {
      "text/plain": [
       "(19, 3)"
      ]
     },
     "execution_count": 19,
     "metadata": {},
     "output_type": "execute_result"
    }
   ],
   "source": [
    "unemp_df.shape"
   ]
  },
  {
   "cell_type": "markdown",
   "metadata": {},
   "source": [
    "Since Germany has only 17 states, there is something wrong with the dataframe. Let's see the 'States' set:"
   ]
  },
  {
   "cell_type": "code",
   "execution_count": 20,
   "metadata": {},
   "outputs": [
    {
     "data": {
      "text/plain": [
       "{'Baden-Württemberg',\n",
       " 'Bavaria',\n",
       " 'Berlin',\n",
       " 'Brandenburg',\n",
       " 'Bremen',\n",
       " 'East Germany',\n",
       " 'Germany',\n",
       " 'Hamburg',\n",
       " 'Hesse',\n",
       " 'Lower Saxony',\n",
       " 'Mecklenburg-Vorpommern',\n",
       " 'North Rhine-Westphalia',\n",
       " 'Rhineland-Palatinate',\n",
       " 'Saarland',\n",
       " 'Saxony',\n",
       " 'Saxony-Anhalt',\n",
       " 'Schleswig-Holstein',\n",
       " 'Thuringia',\n",
       " 'West Germany'}"
      ]
     },
     "execution_count": 20,
     "metadata": {},
     "output_type": "execute_result"
    }
   ],
   "source": [
    "set(unemp_df['States'])"
   ]
  },
  {
   "cell_type": "markdown",
   "metadata": {},
   "source": [
    "'East Germany' and 'West Germany' are not valid states in this analysis, so we remove them"
   ]
  },
  {
   "cell_type": "code",
   "execution_count": 21,
   "metadata": {},
   "outputs": [],
   "source": [
    "unemp_df.drop(unemp_df.index[unemp_df['States'] == 'East Germany'], inplace = True)\n",
    "unemp_df.drop(unemp_df.index[unemp_df['States'] == 'West Germany'], inplace = True)"
   ]
  },
  {
   "cell_type": "markdown",
   "metadata": {},
   "source": [
    "Let's remove the Rank column and change the name of the unemployment and states column"
   ]
  },
  {
   "cell_type": "code",
   "execution_count": 22,
   "metadata": {},
   "outputs": [],
   "source": [
    "unemp_df.drop('Rank', axis=1, inplace = True)\n",
    "unemp_df.rename(columns={'unemployment rate (July 2019)[1]':'Unemployment', 'States':'State'}, inplace = True)"
   ]
  },
  {
   "cell_type": "code",
   "execution_count": 23,
   "metadata": {},
   "outputs": [
    {
     "data": {
      "text/html": [
       "<div>\n",
       "<style scoped>\n",
       "    .dataframe tbody tr th:only-of-type {\n",
       "        vertical-align: middle;\n",
       "    }\n",
       "\n",
       "    .dataframe tbody tr th {\n",
       "        vertical-align: top;\n",
       "    }\n",
       "\n",
       "    .dataframe thead th {\n",
       "        text-align: right;\n",
       "    }\n",
       "</style>\n",
       "<table border=\"1\" class=\"dataframe\">\n",
       "  <thead>\n",
       "    <tr style=\"text-align: right;\">\n",
       "      <th></th>\n",
       "      <th>State</th>\n",
       "      <th>Unemployment</th>\n",
       "    </tr>\n",
       "  </thead>\n",
       "  <tbody>\n",
       "    <tr>\n",
       "      <th>0</th>\n",
       "      <td>Bremen</td>\n",
       "      <td>10.2%</td>\n",
       "    </tr>\n",
       "    <tr>\n",
       "      <th>1</th>\n",
       "      <td>Berlin</td>\n",
       "      <td>8.0%</td>\n",
       "    </tr>\n",
       "    <tr>\n",
       "      <th>2</th>\n",
       "      <td>Saxony-Anhalt</td>\n",
       "      <td>7.0%</td>\n",
       "    </tr>\n",
       "    <tr>\n",
       "      <th>3</th>\n",
       "      <td>Mecklenburg-Vorpommern</td>\n",
       "      <td>6.7%</td>\n",
       "    </tr>\n",
       "    <tr>\n",
       "      <th>4</th>\n",
       "      <td>North Rhine-Westphalia</td>\n",
       "      <td>6.6%</td>\n",
       "    </tr>\n",
       "  </tbody>\n",
       "</table>\n",
       "</div>"
      ],
      "text/plain": [
       "                    State Unemployment\n",
       "0                  Bremen        10.2%\n",
       "1                  Berlin         8.0%\n",
       "2           Saxony-Anhalt         7.0%\n",
       "3  Mecklenburg-Vorpommern         6.7%\n",
       "4  North Rhine-Westphalia         6.6%"
      ]
     },
     "execution_count": 23,
     "metadata": {},
     "output_type": "execute_result"
    }
   ],
   "source": [
    "unemp_df.head()"
   ]
  },
  {
   "cell_type": "markdown",
   "metadata": {},
   "source": [
    "However, let's check the unemployment column data type..."
   ]
  },
  {
   "cell_type": "code",
   "execution_count": 24,
   "metadata": {},
   "outputs": [
    {
     "data": {
      "text/plain": [
       "State           object\n",
       "Unemployment    object\n",
       "dtype: object"
      ]
     },
     "execution_count": 24,
     "metadata": {},
     "output_type": "execute_result"
    }
   ],
   "source": [
    "unemp_df.dtypes"
   ]
  },
  {
   "cell_type": "markdown",
   "metadata": {},
   "source": [
    "Let's change the percentage rate, expressed as a string to a float"
   ]
  },
  {
   "cell_type": "code",
   "execution_count": 25,
   "metadata": {},
   "outputs": [],
   "source": [
    "unemp_df['Unemployment'] = unemp_df['Unemployment'].str.replace('%', '', regex=True)\n",
    "unemp_df['Unemployment'] = unemp_df['Unemployment'].astype('float')"
   ]
  },
  {
   "cell_type": "code",
   "execution_count": 26,
   "metadata": {},
   "outputs": [
    {
     "data": {
      "text/html": [
       "<div>\n",
       "<style scoped>\n",
       "    .dataframe tbody tr th:only-of-type {\n",
       "        vertical-align: middle;\n",
       "    }\n",
       "\n",
       "    .dataframe tbody tr th {\n",
       "        vertical-align: top;\n",
       "    }\n",
       "\n",
       "    .dataframe thead th {\n",
       "        text-align: right;\n",
       "    }\n",
       "</style>\n",
       "<table border=\"1\" class=\"dataframe\">\n",
       "  <thead>\n",
       "    <tr style=\"text-align: right;\">\n",
       "      <th></th>\n",
       "      <th>State</th>\n",
       "      <th>Unemployment</th>\n",
       "    </tr>\n",
       "  </thead>\n",
       "  <tbody>\n",
       "    <tr>\n",
       "      <th>0</th>\n",
       "      <td>Bremen</td>\n",
       "      <td>10.2</td>\n",
       "    </tr>\n",
       "    <tr>\n",
       "      <th>1</th>\n",
       "      <td>Berlin</td>\n",
       "      <td>8.0</td>\n",
       "    </tr>\n",
       "    <tr>\n",
       "      <th>2</th>\n",
       "      <td>Saxony-Anhalt</td>\n",
       "      <td>7.0</td>\n",
       "    </tr>\n",
       "    <tr>\n",
       "      <th>3</th>\n",
       "      <td>Mecklenburg-Vorpommern</td>\n",
       "      <td>6.7</td>\n",
       "    </tr>\n",
       "    <tr>\n",
       "      <th>4</th>\n",
       "      <td>North Rhine-Westphalia</td>\n",
       "      <td>6.6</td>\n",
       "    </tr>\n",
       "  </tbody>\n",
       "</table>\n",
       "</div>"
      ],
      "text/plain": [
       "                    State  Unemployment\n",
       "0                  Bremen          10.2\n",
       "1                  Berlin           8.0\n",
       "2           Saxony-Anhalt           7.0\n",
       "3  Mecklenburg-Vorpommern           6.7\n",
       "4  North Rhine-Westphalia           6.6"
      ]
     },
     "execution_count": 26,
     "metadata": {},
     "output_type": "execute_result"
    }
   ],
   "source": [
    "unemp_df.head()"
   ]
  },
  {
   "cell_type": "markdown",
   "metadata": {},
   "source": [
    "# Household income Data, per state"
   ]
  },
  {
   "cell_type": "code",
   "execution_count": 27,
   "metadata": {},
   "outputs": [],
   "source": [
    "household_df_list = pd.read_html(\"https://en.wikipedia.org/wiki/List_of_German_states_by_household_income\")\n",
    "household_df = household_df_list[0]"
   ]
  },
  {
   "cell_type": "code",
   "execution_count": 28,
   "metadata": {},
   "outputs": [
    {
     "data": {
      "text/html": [
       "<div>\n",
       "<style scoped>\n",
       "    .dataframe tbody tr th:only-of-type {\n",
       "        vertical-align: middle;\n",
       "    }\n",
       "\n",
       "    .dataframe tbody tr th {\n",
       "        vertical-align: top;\n",
       "    }\n",
       "\n",
       "    .dataframe thead th {\n",
       "        text-align: right;\n",
       "    }\n",
       "</style>\n",
       "<table border=\"1\" class=\"dataframe\">\n",
       "  <thead>\n",
       "    <tr style=\"text-align: right;\">\n",
       "      <th></th>\n",
       "      <th>Rank</th>\n",
       "      <th>State</th>\n",
       "      <th>Household income per capita(in EUR€)</th>\n",
       "    </tr>\n",
       "  </thead>\n",
       "  <tbody>\n",
       "    <tr>\n",
       "      <th>0</th>\n",
       "      <td>1.0</td>\n",
       "      <td>Hamburg</td>\n",
       "      <td>24421</td>\n",
       "    </tr>\n",
       "    <tr>\n",
       "      <th>1</th>\n",
       "      <td>2.0</td>\n",
       "      <td>Bavaria</td>\n",
       "      <td>24026</td>\n",
       "    </tr>\n",
       "    <tr>\n",
       "      <th>2</th>\n",
       "      <td>3.0</td>\n",
       "      <td>Baden-Württemberg</td>\n",
       "      <td>23947</td>\n",
       "    </tr>\n",
       "    <tr>\n",
       "      <th>3</th>\n",
       "      <td>4.0</td>\n",
       "      <td>Hesse</td>\n",
       "      <td>22454</td>\n",
       "    </tr>\n",
       "    <tr>\n",
       "      <th>4</th>\n",
       "      <td>5.0</td>\n",
       "      <td>Rhineland-Palatinate</td>\n",
       "      <td>22240</td>\n",
       "    </tr>\n",
       "  </tbody>\n",
       "</table>\n",
       "</div>"
      ],
      "text/plain": [
       "   Rank                 State  Household income per capita(in EUR€)\n",
       "0   1.0               Hamburg                                 24421\n",
       "1   2.0               Bavaria                                 24026\n",
       "2   3.0     Baden-Württemberg                                 23947\n",
       "3   4.0                 Hesse                                 22454\n",
       "4   5.0  Rhineland-Palatinate                                 22240"
      ]
     },
     "execution_count": 28,
     "metadata": {},
     "output_type": "execute_result"
    }
   ],
   "source": [
    "household_df.head()"
   ]
  },
  {
   "cell_type": "markdown",
   "metadata": {},
   "source": [
    "Let's drop Rank column, and change the name of the last column"
   ]
  },
  {
   "cell_type": "code",
   "execution_count": 29,
   "metadata": {},
   "outputs": [],
   "source": [
    "household_df.drop('Rank', axis=1, inplace = True)\n",
    "household_df.rename(columns={'Household income per capita(in EUR€)':'Avg Income'}, inplace = True)"
   ]
  },
  {
   "cell_type": "code",
   "execution_count": 30,
   "metadata": {
    "scrolled": true
   },
   "outputs": [
    {
     "data": {
      "text/html": [
       "<div>\n",
       "<style scoped>\n",
       "    .dataframe tbody tr th:only-of-type {\n",
       "        vertical-align: middle;\n",
       "    }\n",
       "\n",
       "    .dataframe tbody tr th {\n",
       "        vertical-align: top;\n",
       "    }\n",
       "\n",
       "    .dataframe thead th {\n",
       "        text-align: right;\n",
       "    }\n",
       "</style>\n",
       "<table border=\"1\" class=\"dataframe\">\n",
       "  <thead>\n",
       "    <tr style=\"text-align: right;\">\n",
       "      <th></th>\n",
       "      <th>State</th>\n",
       "      <th>Avg Income</th>\n",
       "    </tr>\n",
       "  </thead>\n",
       "  <tbody>\n",
       "    <tr>\n",
       "      <th>0</th>\n",
       "      <td>Hamburg</td>\n",
       "      <td>24421</td>\n",
       "    </tr>\n",
       "    <tr>\n",
       "      <th>1</th>\n",
       "      <td>Bavaria</td>\n",
       "      <td>24026</td>\n",
       "    </tr>\n",
       "    <tr>\n",
       "      <th>2</th>\n",
       "      <td>Baden-Württemberg</td>\n",
       "      <td>23947</td>\n",
       "    </tr>\n",
       "    <tr>\n",
       "      <th>3</th>\n",
       "      <td>Hesse</td>\n",
       "      <td>22454</td>\n",
       "    </tr>\n",
       "    <tr>\n",
       "      <th>4</th>\n",
       "      <td>Rhineland-Palatinate</td>\n",
       "      <td>22240</td>\n",
       "    </tr>\n",
       "  </tbody>\n",
       "</table>\n",
       "</div>"
      ],
      "text/plain": [
       "                  State  Avg Income\n",
       "0               Hamburg       24421\n",
       "1               Bavaria       24026\n",
       "2     Baden-Württemberg       23947\n",
       "3                 Hesse       22454\n",
       "4  Rhineland-Palatinate       22240"
      ]
     },
     "execution_count": 30,
     "metadata": {},
     "output_type": "execute_result"
    }
   ],
   "source": [
    "household_df.head()"
   ]
  },
  {
   "cell_type": "markdown",
   "metadata": {},
   "source": [
    "Let's merge the unemployment and the household income dataframes together"
   ]
  },
  {
   "cell_type": "code",
   "execution_count": 31,
   "metadata": {},
   "outputs": [],
   "source": [
    "states_merged = pd.merge(left=unemp_df, right=household_df, on='State')"
   ]
  },
  {
   "cell_type": "code",
   "execution_count": 32,
   "metadata": {},
   "outputs": [
    {
     "data": {
      "text/html": [
       "<div>\n",
       "<style scoped>\n",
       "    .dataframe tbody tr th:only-of-type {\n",
       "        vertical-align: middle;\n",
       "    }\n",
       "\n",
       "    .dataframe tbody tr th {\n",
       "        vertical-align: top;\n",
       "    }\n",
       "\n",
       "    .dataframe thead th {\n",
       "        text-align: right;\n",
       "    }\n",
       "</style>\n",
       "<table border=\"1\" class=\"dataframe\">\n",
       "  <thead>\n",
       "    <tr style=\"text-align: right;\">\n",
       "      <th></th>\n",
       "      <th>State</th>\n",
       "      <th>Unemployment</th>\n",
       "      <th>Avg Income</th>\n",
       "    </tr>\n",
       "  </thead>\n",
       "  <tbody>\n",
       "    <tr>\n",
       "      <th>0</th>\n",
       "      <td>Bremen</td>\n",
       "      <td>10.2</td>\n",
       "      <td>20724</td>\n",
       "    </tr>\n",
       "    <tr>\n",
       "      <th>1</th>\n",
       "      <td>Berlin</td>\n",
       "      <td>8.0</td>\n",
       "      <td>19719</td>\n",
       "    </tr>\n",
       "    <tr>\n",
       "      <th>2</th>\n",
       "      <td>Saxony-Anhalt</td>\n",
       "      <td>7.0</td>\n",
       "      <td>18648</td>\n",
       "    </tr>\n",
       "    <tr>\n",
       "      <th>3</th>\n",
       "      <td>Mecklenburg-Vorpommern</td>\n",
       "      <td>6.7</td>\n",
       "      <td>18299</td>\n",
       "    </tr>\n",
       "    <tr>\n",
       "      <th>4</th>\n",
       "      <td>North Rhine-Westphalia</td>\n",
       "      <td>6.6</td>\n",
       "      <td>21614</td>\n",
       "    </tr>\n",
       "  </tbody>\n",
       "</table>\n",
       "</div>"
      ],
      "text/plain": [
       "                    State  Unemployment  Avg Income\n",
       "0                  Bremen          10.2       20724\n",
       "1                  Berlin           8.0       19719\n",
       "2           Saxony-Anhalt           7.0       18648\n",
       "3  Mecklenburg-Vorpommern           6.7       18299\n",
       "4  North Rhine-Westphalia           6.6       21614"
      ]
     },
     "execution_count": 32,
     "metadata": {},
     "output_type": "execute_result"
    }
   ],
   "source": [
    "states_merged.head()"
   ]
  },
  {
   "cell_type": "markdown",
   "metadata": {},
   "source": [
    "# Now we have two Dataframe, *pop_gpd_df* and *states_merged*.\n",
    "\n",
    "Next, we are going to merge these two by State, so that two cities in the same state will have the same unemployment rate and average income per capite (since these parameters are obtained by state, and not by city)"
   ]
  },
  {
   "cell_type": "markdown",
   "metadata": {},
   "source": [
    "Let's finally merge the data"
   ]
  },
  {
   "cell_type": "code",
   "execution_count": 33,
   "metadata": {},
   "outputs": [],
   "source": [
    "cities_merged = pd.merge(left=pop_gpd_df, right=states_merged, on='State')"
   ]
  },
  {
   "cell_type": "code",
   "execution_count": 34,
   "metadata": {
    "scrolled": true
   },
   "outputs": [
    {
     "data": {
      "text/html": [
       "<div>\n",
       "<style scoped>\n",
       "    .dataframe tbody tr th:only-of-type {\n",
       "        vertical-align: middle;\n",
       "    }\n",
       "\n",
       "    .dataframe tbody tr th {\n",
       "        vertical-align: top;\n",
       "    }\n",
       "\n",
       "    .dataframe thead th {\n",
       "        text-align: right;\n",
       "    }\n",
       "</style>\n",
       "<table border=\"1\" class=\"dataframe\">\n",
       "  <thead>\n",
       "    <tr style=\"text-align: right;\">\n",
       "      <th></th>\n",
       "      <th>City</th>\n",
       "      <th>State</th>\n",
       "      <th>Population</th>\n",
       "      <th>GDP</th>\n",
       "      <th>Unemployment</th>\n",
       "      <th>Avg Income</th>\n",
       "    </tr>\n",
       "  </thead>\n",
       "  <tbody>\n",
       "    <tr>\n",
       "      <th>0</th>\n",
       "      <td>Berlin</td>\n",
       "      <td>Berlin</td>\n",
       "      <td>3520031</td>\n",
       "      <td>68906</td>\n",
       "      <td>8.0</td>\n",
       "      <td>19719</td>\n",
       "    </tr>\n",
       "    <tr>\n",
       "      <th>1</th>\n",
       "      <td>Hamburg</td>\n",
       "      <td>Hamburg</td>\n",
       "      <td>1787408</td>\n",
       "      <td>92163</td>\n",
       "      <td>6.3</td>\n",
       "      <td>24421</td>\n",
       "    </tr>\n",
       "    <tr>\n",
       "      <th>2</th>\n",
       "      <td>Munich</td>\n",
       "      <td>Bavaria</td>\n",
       "      <td>1450381</td>\n",
       "      <td>100776</td>\n",
       "      <td>2.7</td>\n",
       "      <td>24026</td>\n",
       "    </tr>\n",
       "    <tr>\n",
       "      <th>3</th>\n",
       "      <td>Nuremberg</td>\n",
       "      <td>Bavaria</td>\n",
       "      <td>509975</td>\n",
       "      <td>72379</td>\n",
       "      <td>2.7</td>\n",
       "      <td>24026</td>\n",
       "    </tr>\n",
       "    <tr>\n",
       "      <th>4</th>\n",
       "      <td>Augsburg</td>\n",
       "      <td>Bavaria</td>\n",
       "      <td>286374</td>\n",
       "      <td>72062</td>\n",
       "      <td>2.7</td>\n",
       "      <td>24026</td>\n",
       "    </tr>\n",
       "  </tbody>\n",
       "</table>\n",
       "</div>"
      ],
      "text/plain": [
       "        City    State  Population     GDP  Unemployment  Avg Income\n",
       "0     Berlin   Berlin     3520031   68906           8.0       19719\n",
       "1    Hamburg  Hamburg     1787408   92163           6.3       24421\n",
       "2     Munich  Bavaria     1450381  100776           2.7       24026\n",
       "3  Nuremberg  Bavaria      509975   72379           2.7       24026\n",
       "4   Augsburg  Bavaria      286374   72062           2.7       24026"
      ]
     },
     "execution_count": 34,
     "metadata": {},
     "output_type": "execute_result"
    }
   ],
   "source": [
    "cities_merged.head()"
   ]
  },
  {
   "cell_type": "markdown",
   "metadata": {},
   "source": [
    "Now let's compare the average income per employee and the unemployment rate to see if we can gather some insights"
   ]
  },
  {
   "cell_type": "code",
   "execution_count": 35,
   "metadata": {},
   "outputs": [
    {
     "data": {
      "text/plain": [
       "Text(0, 0.5, 'Unemployment Rate')"
      ]
     },
     "execution_count": 35,
     "metadata": {},
     "output_type": "execute_result"
    },
    {
     "data": {
      "image/png": "[encoded data removed]",
      "text/plain": [
       "<Figure size 432x288 with 1 Axes>"
      ]
     },
     "metadata": {
      "needs_background": "light"
     },
     "output_type": "display_data"
    }
   ],
   "source": [
    "import matplotlib.pyplot as plt\n",
    "\n",
    "plt.scatter(cities_merged['Avg Income'], cities_merged['Unemployment'])\n",
    "plt.xlabel('Average Income')\n",
    "plt.ylabel('Unemployment Rate')"
   ]
  },
  {
   "cell_type": "markdown",
   "metadata": {},
   "source": [
    "Despite a few outliers, we can find a pattern that shows that a low unemployment rage in negatively related to the Average income per employee."
   ]
  },
  {
   "cell_type": "markdown",
   "metadata": {},
   "source": [
    "# Now we have to gather Latitude and Longitude of each city and the number of Italian restaurants and cafès in each one of these.\n",
    "\n",
    "To do so, we use Nomatim module and Foursquare API"
   ]
  },
  {
   "cell_type": "code",
   "execution_count": 36,
   "metadata": {},
   "outputs": [],
   "source": [
    "from geopy.geocoders import Nominatim # convert an address into latitude and longitude values\n",
    "import requests # library to handle requests\n",
    "import json"
   ]
  },
  {
   "cell_type": "code",
   "execution_count": 37,
   "metadata": {},
   "outputs": [],
   "source": [
    "# define a method that returns the latitude and longitude of a city\n",
    "def get_latitude_and_longitude(city):\n",
    "    geolocator = Nominatim(user_agent=\"ny_explorer\")\n",
    "    location = geolocator.geocode(city)\n",
    "    if(location == None):\n",
    "        raise ValueError('Error! Latitude and Longitude for city address: \\'{}\\' has not been found!'.format(city)) \n",
    "    latitude = location.latitude\n",
    "    longitude = location.longitude\n",
    "    return latitude, longitude"
   ]
  },
  {
   "cell_type": "markdown",
   "metadata": {},
   "source": [
    "Next, we are going to get the list of cities from the dataframe, and we will build a list of dictionaries, in a dataframe fashion"
   ]
  },
  {
   "cell_type": "code",
   "execution_count": 38,
   "metadata": {},
   "outputs": [],
   "source": [
    "from time import sleep\n",
    "\n",
    "#get the city list from the dataframe\n",
    "city_list = cities_merged['City'].tolist()\n",
    "\n",
    "coords_list = []\n",
    "for city in city_list:\n",
    "    city_name = city + ', DE'\n",
    "    lat, lng = get_latitude_and_longitude(city_name)\n",
    "    coords_list.append({'City':city, 'Latitude': lat, 'Longitude': lng})\n",
    "    sleep(0.2) #in this way we don't overload the 'geocoder' API"
   ]
  },
  {
   "cell_type": "code",
   "execution_count": 39,
   "metadata": {},
   "outputs": [
    {
     "data": {
      "text/html": [
       "<div>\n",
       "<style scoped>\n",
       "    .dataframe tbody tr th:only-of-type {\n",
       "        vertical-align: middle;\n",
       "    }\n",
       "\n",
       "    .dataframe tbody tr th {\n",
       "        vertical-align: top;\n",
       "    }\n",
       "\n",
       "    .dataframe thead th {\n",
       "        text-align: right;\n",
       "    }\n",
       "</style>\n",
       "<table border=\"1\" class=\"dataframe\">\n",
       "  <thead>\n",
       "    <tr style=\"text-align: right;\">\n",
       "      <th></th>\n",
       "      <th>City</th>\n",
       "      <th>Latitude</th>\n",
       "      <th>Longitude</th>\n",
       "    </tr>\n",
       "  </thead>\n",
       "  <tbody>\n",
       "    <tr>\n",
       "      <th>0</th>\n",
       "      <td>Berlin</td>\n",
       "      <td>52.517037</td>\n",
       "      <td>13.388860</td>\n",
       "    </tr>\n",
       "    <tr>\n",
       "      <th>1</th>\n",
       "      <td>Hamburg</td>\n",
       "      <td>53.543764</td>\n",
       "      <td>10.009913</td>\n",
       "    </tr>\n",
       "    <tr>\n",
       "      <th>2</th>\n",
       "      <td>Munich</td>\n",
       "      <td>48.137108</td>\n",
       "      <td>11.575382</td>\n",
       "    </tr>\n",
       "    <tr>\n",
       "      <th>3</th>\n",
       "      <td>Nuremberg</td>\n",
       "      <td>49.453872</td>\n",
       "      <td>11.077298</td>\n",
       "    </tr>\n",
       "    <tr>\n",
       "      <th>4</th>\n",
       "      <td>Augsburg</td>\n",
       "      <td>48.366804</td>\n",
       "      <td>10.898697</td>\n",
       "    </tr>\n",
       "  </tbody>\n",
       "</table>\n",
       "</div>"
      ],
      "text/plain": [
       "        City   Latitude  Longitude\n",
       "0     Berlin  52.517037  13.388860\n",
       "1    Hamburg  53.543764  10.009913\n",
       "2     Munich  48.137108  11.575382\n",
       "3  Nuremberg  49.453872  11.077298\n",
       "4   Augsburg  48.366804  10.898697"
      ]
     },
     "execution_count": 39,
     "metadata": {},
     "output_type": "execute_result"
    }
   ],
   "source": [
    "geo_df = pd.DataFrame(coords_list)\n",
    "geo_df.head()"
   ]
  },
  {
   "cell_type": "code",
   "execution_count": 40,
   "metadata": {},
   "outputs": [],
   "source": [
    "CLIENT_ID = 'I5GS4YET4Q4BGGAJNQR1BIHL1K2BMIH21TG30EJOHDYO3NEO' # your Foursquare ID\n",
    "CLIENT_SECRET = 'FROGEV44ZN3T3GRPUSWIM34I202RUJ3KX2EJ4P515OWRM1HA' # your Foursquare Secret\n",
    "VERSION = '20200101' # Foursquare API version"
   ]
  },
  {
   "cell_type": "markdown",
   "metadata": {},
   "source": [
    "Let's define a function *get_number_of_venues* that takes in input the latitude and longitude of a city, contacts the Foursquare API and retrieves the total number of venues around that geographical point"
   ]
  },
  {
   "cell_type": "code",
   "execution_count": 41,
   "metadata": {},
   "outputs": [],
   "source": [
    "def get_number_of_venues(latitude, longitude, radius):\n",
    "    LIMIT = 100\n",
    "\n",
    "    url = 'https://api.foursquare.com/v2/venues/explore?&client_id={}&client_secret={}&v={}&ll={},{}&radius={}&limit={}'.format(\n",
    "        CLIENT_ID, \n",
    "        CLIENT_SECRET, \n",
    "        VERSION, \n",
    "        latitude, \n",
    "        longitude, \n",
    "        radius,\n",
    "        LIMIT)\n",
    "    \n",
    "    response = requests.get(url).json()\n",
    "    status = response['meta']['code']\n",
    "    if ( status != 200 ): \n",
    "        print('Service invocation for url:',url,'has returned status',status,'... Returning 0')\n",
    "        return 0\n",
    "    else:\n",
    "        return response['response']['totalResults']"
   ]
  },
  {
   "cell_type": "markdown",
   "metadata": {},
   "source": [
    "The function *venues_from_api* is used to obtain a list of venues from the Foursquare API and convert the json response in a list of dictionaries.\n",
    "Every venue is considered a dictionary with the following keys: Name, Category, Latitude, Longitude"
   ]
  },
  {
   "cell_type": "code",
   "execution_count": 45,
   "metadata": {},
   "outputs": [],
   "source": [
    "def venues_from_api(url):\n",
    "    venues = []\n",
    "    json_response = requests.get(url).json()\n",
    "    status = json_response['meta']['code']\n",
    "    if ( status != 200 ): \n",
    "        print('Service invocation for url:',url,'has returned status',status,'... Returning empty collection')\n",
    "        return []\n",
    "    venue_list = json_response['response']['groups'][0]['items']\n",
    "    for v in venue_list:\n",
    "        venue = v['venue']\n",
    "        name = venue['name']\n",
    "        try:\n",
    "            category = venue['categories'][0]['name']\n",
    "            venues.append({'Name':name,'Category':category})\n",
    "        except:\n",
    "            continue\n",
    "    \n",
    "    return venues"
   ]
  },
  {
   "cell_type": "markdown",
   "metadata": {},
   "source": [
    "The function *list_all_venues* takes in input the total number of venues in a city and fires a sequence of API calls to Foursquare to retrieve all the venues.\n",
    "Unfortunately, it's not possible to make one single API call and retrieve all the venues. In fact, we are going to use the 'offset' string parameter in the endpoint to page through the venue results.\n",
    "The maximum number for the 'offset' parameter is 50, so if for example a city has 210 venues, we need to make 5 API calls (0-50, 51-100, 101-150, 151-200, 201-209) changing the offset parameter."
   ]
  },
  {
   "cell_type": "code",
   "execution_count": 46,
   "metadata": {},
   "outputs": [],
   "source": [
    "def list_all_venues(total_results, latitude, longitude, radius = 800):\n",
    "    all_venues = []\n",
    "\n",
    "    OFFSET = 50\n",
    "    if(total_results < OFFSET): total_results = OFFSET\n",
    "    for i in range(0,1 + int(total_results/OFFSET)):\n",
    "        tmp_offset = i*OFFSET\n",
    "        url = 'https://api.foursquare.com/v2/venues/explore?&client_id={}&client_secret={}&v={}&ll={},{}&radius={}&limit={}&offset={}'.format(\n",
    "            CLIENT_ID, \n",
    "            CLIENT_SECRET, \n",
    "            VERSION, \n",
    "            latitude, \n",
    "            longitude, \n",
    "            radius,\n",
    "            OFFSET,\n",
    "            tmp_offset   \n",
    "        )\n",
    "\n",
    "        tmp_venues = venues_from_api(url)\n",
    "        all_venues = all_venues + tmp_venues\n",
    "    \n",
    "    return all_venues"
   ]
  },
  {
   "cell_type": "markdown",
   "metadata": {},
   "source": [
    "Now, for each city in our dataframe, we will the list of all its venues within a certain radius.\n",
    "Since we focus only on IT restaurants and cafes with 20 minutes of walking from the center, we can pick radius = 1500"
   ]
  },
  {
   "cell_type": "code",
   "execution_count": 47,
   "metadata": {},
   "outputs": [
    {
     "name": "stdout",
     "output_type": "stream",
     "text": [
      "Service invocation for url: https://api.foursquare.com/v2/venues/explore?&client_id=I5GS4YET4Q4BGGAJNQR1BIHL1K2BMIH21TG30EJOHDYO3NEO&client_secret=FROGEV44ZN3T3GRPUSWIM34I202RUJ3KX2EJ4P515OWRM1HA&v=20200101&ll=49.453872,11.077298&radius=1500&limit=50&offset=50 has returned status 500 ... Returning empty collection\n",
      "Service invocation for url: https://api.foursquare.com/v2/venues/explore?&client_id=I5GS4YET4Q4BGGAJNQR1BIHL1K2BMIH21TG30EJOHDYO3NEO&client_secret=FROGEV44ZN3T3GRPUSWIM34I202RUJ3KX2EJ4P515OWRM1HA&v=20200101&ll=49.453872,11.077298&radius=1500&limit=50&offset=100 has returned status 500 ... Returning empty collection\n"
     ]
    }
   ],
   "source": [
    "RADIUS = 1500\n",
    "\n",
    "city_amount_of_venues = []\n",
    "for city_geodata in coords_list:\n",
    "    city = city_geodata['City']\n",
    "    lat = city_geodata['Latitude']\n",
    "    lon = city_geodata['Longitude']\n",
    "    \n",
    "    num_of_IT_restaurants = 0\n",
    "    num_of_cafès = 0\n",
    "    \n",
    "    num_of_venues = get_number_of_venues(lat,lon,RADIUS)\n",
    "    city_venues = list_all_venues(num_of_venues, lat, lon, RADIUS)\n",
    "    \n",
    "    for venue in city_venues:\n",
    "        if (venue['Category'] == 'Italian Restaurant'): num_of_IT_restaurants += 1\n",
    "        if (venue['Category'] == 'Café'): num_of_cafès += 1\n",
    "    \n",
    "    city_amount_of_venues.append({'City':city, 'Num of IT Restaurants':num_of_IT_restaurants, 'Num of Cafès':num_of_cafès})"
   ]
  },
  {
   "cell_type": "code",
   "execution_count": 48,
   "metadata": {},
   "outputs": [
    {
     "data": {
      "text/html": [
       "<div>\n",
       "<style scoped>\n",
       "    .dataframe tbody tr th:only-of-type {\n",
       "        vertical-align: middle;\n",
       "    }\n",
       "\n",
       "    .dataframe tbody tr th {\n",
       "        vertical-align: top;\n",
       "    }\n",
       "\n",
       "    .dataframe thead th {\n",
       "        text-align: right;\n",
       "    }\n",
       "</style>\n",
       "<table border=\"1\" class=\"dataframe\">\n",
       "  <thead>\n",
       "    <tr style=\"text-align: right;\">\n",
       "      <th></th>\n",
       "      <th>City</th>\n",
       "      <th>Num of IT Restaurants</th>\n",
       "      <th>Num of Cafès</th>\n",
       "    </tr>\n",
       "  </thead>\n",
       "  <tbody>\n",
       "    <tr>\n",
       "      <th>0</th>\n",
       "      <td>Berlin</td>\n",
       "      <td>4</td>\n",
       "      <td>9</td>\n",
       "    </tr>\n",
       "    <tr>\n",
       "      <th>1</th>\n",
       "      <td>Hamburg</td>\n",
       "      <td>8</td>\n",
       "      <td>6</td>\n",
       "    </tr>\n",
       "    <tr>\n",
       "      <th>2</th>\n",
       "      <td>Munich</td>\n",
       "      <td>9</td>\n",
       "      <td>24</td>\n",
       "    </tr>\n",
       "    <tr>\n",
       "      <th>3</th>\n",
       "      <td>Nuremberg</td>\n",
       "      <td>3</td>\n",
       "      <td>9</td>\n",
       "    </tr>\n",
       "    <tr>\n",
       "      <th>4</th>\n",
       "      <td>Augsburg</td>\n",
       "      <td>5</td>\n",
       "      <td>5</td>\n",
       "    </tr>\n",
       "  </tbody>\n",
       "</table>\n",
       "</div>"
      ],
      "text/plain": [
       "        City  Num of IT Restaurants  Num of Cafès\n",
       "0     Berlin                      4             9\n",
       "1    Hamburg                      8             6\n",
       "2     Munich                      9            24\n",
       "3  Nuremberg                      3             9\n",
       "4   Augsburg                      5             5"
      ]
     },
     "execution_count": 48,
     "metadata": {},
     "output_type": "execute_result"
    }
   ],
   "source": [
    "venues_df = pd.DataFrame(city_amount_of_venues)\n",
    "venues_df.head()"
   ]
  },
  {
   "cell_type": "code",
   "execution_count": 49,
   "metadata": {
    "scrolled": true
   },
   "outputs": [
    {
     "data": {
      "text/html": [
       "<div>\n",
       "<style scoped>\n",
       "    .dataframe tbody tr th:only-of-type {\n",
       "        vertical-align: middle;\n",
       "    }\n",
       "\n",
       "    .dataframe tbody tr th {\n",
       "        vertical-align: top;\n",
       "    }\n",
       "\n",
       "    .dataframe thead th {\n",
       "        text-align: right;\n",
       "    }\n",
       "</style>\n",
       "<table border=\"1\" class=\"dataframe\">\n",
       "  <thead>\n",
       "    <tr style=\"text-align: right;\">\n",
       "      <th></th>\n",
       "      <th>City</th>\n",
       "      <th>State</th>\n",
       "      <th>Population</th>\n",
       "      <th>GDP</th>\n",
       "      <th>Unemployment</th>\n",
       "      <th>Avg Income</th>\n",
       "      <th>Num of IT Restaurants</th>\n",
       "      <th>Num of Cafès</th>\n",
       "    </tr>\n",
       "  </thead>\n",
       "  <tbody>\n",
       "    <tr>\n",
       "      <th>0</th>\n",
       "      <td>Berlin</td>\n",
       "      <td>Berlin</td>\n",
       "      <td>3520031</td>\n",
       "      <td>68906</td>\n",
       "      <td>8.0</td>\n",
       "      <td>19719</td>\n",
       "      <td>4</td>\n",
       "      <td>9</td>\n",
       "    </tr>\n",
       "    <tr>\n",
       "      <th>1</th>\n",
       "      <td>Hamburg</td>\n",
       "      <td>Hamburg</td>\n",
       "      <td>1787408</td>\n",
       "      <td>92163</td>\n",
       "      <td>6.3</td>\n",
       "      <td>24421</td>\n",
       "      <td>8</td>\n",
       "      <td>6</td>\n",
       "    </tr>\n",
       "    <tr>\n",
       "      <th>2</th>\n",
       "      <td>Munich</td>\n",
       "      <td>Bavaria</td>\n",
       "      <td>1450381</td>\n",
       "      <td>100776</td>\n",
       "      <td>2.7</td>\n",
       "      <td>24026</td>\n",
       "      <td>9</td>\n",
       "      <td>24</td>\n",
       "    </tr>\n",
       "    <tr>\n",
       "      <th>3</th>\n",
       "      <td>Nuremberg</td>\n",
       "      <td>Bavaria</td>\n",
       "      <td>509975</td>\n",
       "      <td>72379</td>\n",
       "      <td>2.7</td>\n",
       "      <td>24026</td>\n",
       "      <td>3</td>\n",
       "      <td>9</td>\n",
       "    </tr>\n",
       "    <tr>\n",
       "      <th>4</th>\n",
       "      <td>Augsburg</td>\n",
       "      <td>Bavaria</td>\n",
       "      <td>286374</td>\n",
       "      <td>72062</td>\n",
       "      <td>2.7</td>\n",
       "      <td>24026</td>\n",
       "      <td>5</td>\n",
       "      <td>5</td>\n",
       "    </tr>\n",
       "  </tbody>\n",
       "</table>\n",
       "</div>"
      ],
      "text/plain": [
       "        City    State  Population     GDP  Unemployment  Avg Income  \\\n",
       "0     Berlin   Berlin     3520031   68906           8.0       19719   \n",
       "1    Hamburg  Hamburg     1787408   92163           6.3       24421   \n",
       "2     Munich  Bavaria     1450381  100776           2.7       24026   \n",
       "3  Nuremberg  Bavaria      509975   72379           2.7       24026   \n",
       "4   Augsburg  Bavaria      286374   72062           2.7       24026   \n",
       "\n",
       "   Num of IT Restaurants  Num of Cafès  \n",
       "0                      4             9  \n",
       "1                      8             6  \n",
       "2                      9            24  \n",
       "3                      3             9  \n",
       "4                      5             5  "
      ]
     },
     "execution_count": 49,
     "metadata": {},
     "output_type": "execute_result"
    }
   ],
   "source": [
    "final_df = pd.merge(left=cities_merged, right=venues_df, on='City')\n",
    "final_df.head()"
   ]
  },
  {
   "cell_type": "markdown",
   "metadata": {},
   "source": [
    "Finally, we gathered all the data we needed!"
   ]
  }
 ],
 "metadata": {
  "kernelspec": {
   "display_name": "Python 3",
   "language": "python",
   "name": "python3"
  },
  "language_info": {
   "codemirror_mode": {
    "name": "ipython",
    "version": 3
   },
   "file_extension": ".py",
   "mimetype": "text/x-python",
   "name": "python",
   "nbconvert_exporter": "python",
   "pygments_lexer": "ipython3",
   "version": "3.7.6"
  }
 },
 "nbformat": 4,
 "nbformat_minor": 4
}
