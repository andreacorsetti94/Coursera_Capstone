{
 "cells": [
  {
   "cell_type": "markdown",
   "metadata": {},
   "source": [
    "# Relocation in Germany Business Problem\n",
    "\n",
    "This notebook will serve as an introduction to the Business Problem discussed as the final Capstone Project for\n",
    "the IBM Data Science Certification Program.\n",
    "\n",
    "The problem at hand is the following:\n",
    "Andrea is an italian employee in the IT field that wants to move to another country in order to obtain a higher quality of life.\n",
    "Unfortunately, he's very confused because he doesn't know where to move exactly.\n",
    "More precisly, he wants to know which city can give him the best ratio between the average salary against the cost of life.\n",
    "However, that is not the only requirement.\n",
    "In fact, he wants to live where he's maximium 20 minutes away from the center of the city, wants to be close to a high number of Italian restaurants (doesn't like German cousine at all :) ) and, of course, wants to maximise his chances of finding a job. So the best city should have a high employment rate.\n",
    "Finally, he doesn't like small towns, so the target cities should have a population of > 100'000 citizens.\n",
    "\n",
    "Let's recap the business requirements:\n",
    "- German city with > 100'000 citizens\n",
    "- Maximize the number of italian restaurants close to the center of the city (20 minutes walk from the center)\n",
    "- High employment rate\n",
    "- High salary\n",
    "- Low cost of life\n",
    "\n",
    "Of course these requirements do not weight the same. So, after discussing with him, we define the following criteria of importance, in a range from 0 to 1:\n",
    "- Number of citizens in a city ==== 0,7\n",
    "- Number of italian restaurants close to the center of the city ==== 0,5\n",
    "- Employment rate ==== 0,9\n",
    "- Salary ==== 0,8\n",
    "- Cost of life ==== 0,8"
   ]
  },
  {
   "cell_type": "raw",
   "metadata": {},
   "source": [
    "Since not each one of these attributes is a positive one (for example cost of life), we need a wish matrix like this:\n",
    "\n",
    "Requirement             | Weight | Correlation bit      |    Final weight\n",
    "--------------------------------------------------------------------------\n",
    "Number of citizens            0,7                     +1     0,7 * 1 = 0,7\n",
    "IT restaurants                0,5                     +1     0,5 * 1 = 0,5\n",
    "Employment rate               0,9                     +1     0,9 * 1 = 0,9\n",
    "Salary                        0,8                     +1     0,8 * 1 = 0,8\n",
    "Cost of life                  0,8                     -1   0,8 * -1 = -0,8"
   ]
  }
 ],
 "metadata": {
  "kernelspec": {
   "display_name": "Python 3",
   "language": "python",
   "name": "python3"
  },
  "language_info": {
   "codemirror_mode": {
    "name": "ipython",
    "version": 3
   },
   "file_extension": ".py",
   "mimetype": "text/x-python",
   "name": "python",
   "nbconvert_exporter": "python",
   "pygments_lexer": "ipython3",
   "version": "3.7.6"
  }
 },
 "nbformat": 4,
 "nbformat_minor": 4
}
