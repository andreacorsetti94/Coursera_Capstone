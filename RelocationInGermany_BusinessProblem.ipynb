{
 "cells": [
  {
   "cell_type": "markdown",
   "metadata": {},
   "source": [
    "# Relocation in Germany Business Problem\n",
    "\n",
    "This notebook will serve as an introduction to the Business Problem discussed as the final Capstone Project for\n",
    "the IBM Data Science Certification Program.\n",
    "\n",
    "The problem at hand is the following:\n",
    "Andrea is an italian employee in the IT field that wants to move to another country in order to obtain a higher quality of life.\n",
    "Unfortunately, he's very confused because he doesn't know where to move exactly.\n",
    "More precisly, he wants to know which city satisfies best a series of parameters. One of these parameters is the wealth of the city (or state of the city).\n",
    "In addition to this, he wants to live where he's maximium 20 minutes away from the center of the city, wants to be close to a high number of Italian restaurants and Cafès and, of course, wants to maximise his chances of finding a job. So the best city should have a low unemployment rate.\n",
    "Finally, he doesn't like small towns, so the target cities should have a population of > 100'000 citizens.\n",
    "\n",
    "Let's recap the business requirements:\n",
    "- German city with > 100'000 citizens\n",
    "- Maximize the number of italian restaurants and cafès close to the center of the city (20 minutes walk from the center)\n",
    "- High wealth index\n",
    "- Low unemployment rage\n",
    "\n",
    "Of course these requirements do not weight the same. So, after discussing with him, we define the following criteria of importance, in a range from 0 to 1:\n",
    "- Number of citizens in a city ==== 0,7\n",
    "- Number of italian restaurants and cafès close to the center of the city ==== 0,5\n",
    "- Unemployment rate ==== 0,9\n",
    "- Wealth index ==== 0,8"
   ]
  },
  {
   "cell_type": "markdown",
   "metadata": {},
   "source": [
    "Since not each one of these attributes is a positive one (for example unemployment rate), we need a wish matrix like this:\n",
    "\n",
    "- Number of citizens : Weight = +0,7\n",
    "- Number of Italian Restaurants and cafès : Weight = +0,5\n",
    "- Unemployment Rate : Weight = -0,9\n",
    "- Wealth indexes (like GDP and Average income per employer) : Weight = +0,8\n"
   ]
  }
 ],
 "metadata": {
  "kernelspec": {
   "display_name": "Python 3",
   "language": "python",
   "name": "python3"
  },
  "language_info": {
   "codemirror_mode": {
    "name": "ipython",
    "version": 3
   },
   "file_extension": ".py",
   "mimetype": "text/x-python",
   "name": "python",
   "nbconvert_exporter": "python",
   "pygments_lexer": "ipython3",
   "version": "3.7.6"
  }
 },
 "nbformat": 4,
 "nbformat_minor": 4
}
