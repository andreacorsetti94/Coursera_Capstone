{
 "cells": [
  {
   "cell_type": "markdown",
   "metadata": {},
   "source": [
    "# Relocation in Germany Data - Capstone Project\n",
    "\n",
    "The purpose of this notebook is to describe the data that will be used to solve the business problem defined in the RelocationInGermany_BusinessProblem notebook.\n",
    "\n",
    "Now that the business requiremnts are clear, we need to look for the relevant data in order to build a model that determines which are the best cities in Germany to relocate to."
   ]
  },
  {
   "cell_type": "markdown",
   "metadata": {},
   "source": [
    "Let's show again the requirements matrix defined in the Business Problem notebook, along with the weight of each requiment"
   ]
  },
  {
   "cell_type": "raw",
   "metadata": {},
   "source": [
    "Since not each one of these attributes is a positive one (for example unemployment rate), we need a wish matrix like this:\n",
    "\n",
    "Requirement             | Weight | Correlation bit      |    Final weight\n",
    "--------------------------------------------------------------------------\n",
    "Number of citizens            0,7                     +1     0,7 * 1 = 0,7\n",
    "IT restaurants / cafès        0,5                     +1     0,5 * 1 = 0,5\n",
    "Unemployment rate             0,9                     -1   0,9 * -1 = -0,9\n",
    "Wealth index                  0,8                     +1     0,8 * 1 = 0,8"
   ]
  },
  {
   "cell_type": "markdown",
   "metadata": {},
   "source": [
    "Now all we need to do is to gather this data from the Web.\n",
    "\n",
    "For indicators like wealth index, population and unemployment rate, we are going to use the tables shown here:\n",
    "- https://en.wikipedia.org/wiki/List_of_cities_in_Germany_by_population\n",
    "- https://en.wikipedia.org/wiki/List_of_German_cities_by_GDP\n",
    "- https://en.wikipedia.org/wiki/List_of_German_states_by_household_income\n",
    "- https://en.wikipedia.org/wiki/List_of_German_states_by_unemployment_rate\n",
    "\n",
    "While, for obtaining data about the italian restaurants and cafès we will use the Foursquare API"
   ]
  },
  {
   "cell_type": "markdown",
   "metadata": {},
   "source": [
    "# German cities by Population"
   ]
  },
  {
   "cell_type": "code",
   "execution_count": 1,
   "metadata": {},
   "outputs": [],
   "source": [
    "import pandas as pd"
   ]
  },
  {
   "cell_type": "code",
   "execution_count": 2,
   "metadata": {},
   "outputs": [
    {
     "data": {
      "text/html": [
       "<div>\n",
       "<style scoped>\n",
       "    .dataframe tbody tr th:only-of-type {\n",
       "        vertical-align: middle;\n",
       "    }\n",
       "\n",
       "    .dataframe tbody tr th {\n",
       "        vertical-align: top;\n",
       "    }\n",
       "\n",
       "    .dataframe thead th {\n",
       "        text-align: right;\n",
       "    }\n",
       "</style>\n",
       "<table border=\"1\" class=\"dataframe\">\n",
       "  <thead>\n",
       "    <tr style=\"text-align: right;\">\n",
       "      <th></th>\n",
       "      <th>2015rank</th>\n",
       "      <th>City</th>\n",
       "      <th>State</th>\n",
       "      <th>2015estimate</th>\n",
       "      <th>2011census</th>\n",
       "      <th>Change</th>\n",
       "      <th>2015land area</th>\n",
       "      <th>2015populationdensity</th>\n",
       "      <th>Location</th>\n",
       "    </tr>\n",
       "  </thead>\n",
       "  <tbody>\n",
       "    <tr>\n",
       "      <th>0</th>\n",
       "      <td>1</td>\n",
       "      <td>Berlin</td>\n",
       "      <td>Berlin</td>\n",
       "      <td>3520031</td>\n",
       "      <td>3292365</td>\n",
       "      <td>+6.91%</td>\n",
       "      <td>891.68 km2344.28 sq mi</td>\n",
       "      <td>3,948/km210,230/sq mi</td>\n",
       "      <td>52°31′N 13°23′E﻿ / ﻿52.517°N 13.383°E</td>\n",
       "    </tr>\n",
       "    <tr>\n",
       "      <th>1</th>\n",
       "      <td>2</td>\n",
       "      <td>Hamburg</td>\n",
       "      <td>Hamburg</td>\n",
       "      <td>1787408</td>\n",
       "      <td>1706696</td>\n",
       "      <td>+4.73%</td>\n",
       "      <td>755.3 km2291.6 sq mi</td>\n",
       "      <td>2,366/km26,130/sq mi</td>\n",
       "      <td>53°33′N 10°0′E﻿ / ﻿53.550°N 10.000°E</td>\n",
       "    </tr>\n",
       "    <tr>\n",
       "      <th>2</th>\n",
       "      <td>3</td>\n",
       "      <td>Munich (München)</td>\n",
       "      <td>Bavaria</td>\n",
       "      <td>1450381</td>\n",
       "      <td>1348335</td>\n",
       "      <td>+7.57%</td>\n",
       "      <td>310.7 km2120.0 sq mi</td>\n",
       "      <td>4,668/km212,090/sq mi</td>\n",
       "      <td>48°8′N 11°34′E﻿ / ﻿48.133°N 11.567°E</td>\n",
       "    </tr>\n",
       "    <tr>\n",
       "      <th>3</th>\n",
       "      <td>4</td>\n",
       "      <td>Cologne (Köln)</td>\n",
       "      <td>North Rhine-Westphalia</td>\n",
       "      <td>1060582</td>\n",
       "      <td>1005775</td>\n",
       "      <td>+5.45%</td>\n",
       "      <td>405.02 km2156.38 sq mi</td>\n",
       "      <td>2,619/km26,780/sq mi</td>\n",
       "      <td>50°56′N 6°57′E﻿ / ﻿50.933°N 6.950°E</td>\n",
       "    </tr>\n",
       "    <tr>\n",
       "      <th>4</th>\n",
       "      <td>5</td>\n",
       "      <td>Frankfurt am Main</td>\n",
       "      <td>Hesse</td>\n",
       "      <td>732688</td>\n",
       "      <td>667925</td>\n",
       "      <td>+9.70%</td>\n",
       "      <td>248.31 km295.87 sq mi</td>\n",
       "      <td>2,951/km27,640/sq mi</td>\n",
       "      <td>50°7′N 8°41′E﻿ / ﻿50.117°N 8.683°E</td>\n",
       "    </tr>\n",
       "  </tbody>\n",
       "</table>\n",
       "</div>"
      ],
      "text/plain": [
       "   2015rank               City                   State  2015estimate  \\\n",
       "0         1             Berlin                  Berlin       3520031   \n",
       "1         2            Hamburg                 Hamburg       1787408   \n",
       "2         3   Munich (München)                 Bavaria       1450381   \n",
       "3         4     Cologne (Köln)  North Rhine-Westphalia       1060582   \n",
       "4         5  Frankfurt am Main                   Hesse        732688   \n",
       "\n",
       "   2011census  Change           2015land area  2015populationdensity  \\\n",
       "0     3292365  +6.91%  891.68 km2344.28 sq mi  3,948/km210,230/sq mi   \n",
       "1     1706696  +4.73%    755.3 km2291.6 sq mi   2,366/km26,130/sq mi   \n",
       "2     1348335  +7.57%    310.7 km2120.0 sq mi  4,668/km212,090/sq mi   \n",
       "3     1005775  +5.45%  405.02 km2156.38 sq mi   2,619/km26,780/sq mi   \n",
       "4      667925  +9.70%   248.31 km295.87 sq mi   2,951/km27,640/sq mi   \n",
       "\n",
       "                                Location  \n",
       "0  52°31′N 13°23′E﻿ / ﻿52.517°N 13.383°E  \n",
       "1   53°33′N 10°0′E﻿ / ﻿53.550°N 10.000°E  \n",
       "2   48°8′N 11°34′E﻿ / ﻿48.133°N 11.567°E  \n",
       "3    50°56′N 6°57′E﻿ / ﻿50.933°N 6.950°E  \n",
       "4     50°7′N 8°41′E﻿ / ﻿50.117°N 8.683°E  "
      ]
     },
     "execution_count": 2,
     "metadata": {},
     "output_type": "execute_result"
    }
   ],
   "source": [
    "population_table_list = pd.read_html(\"https://en.wikipedia.org/wiki/List_of_cities_in_Germany_by_population\")\n",
    "population_df = population_table_list[0]\n",
    "population_df.head()"
   ]
  },
  {
   "cell_type": "markdown",
   "metadata": {},
   "source": [
    "The only fields that interests us are: 'City', 'State' and '2015 estimate'. So let's drop other columns and rename '2015estimate' in 'Population'"
   ]
  },
  {
   "cell_type": "code",
   "execution_count": 3,
   "metadata": {},
   "outputs": [],
   "source": [
    "population_df.drop(['2015rank','2011census','Change','2015land area','2015populationdensity',\n",
    "                    'Location'],axis=1, inplace = True)\n",
    "population_df.rename(columns={'2015estimate':'Population'},inplace=True)"
   ]
  },
  {
   "cell_type": "code",
   "execution_count": 4,
   "metadata": {
    "scrolled": true
   },
   "outputs": [
    {
     "data": {
      "text/html": [
       "<div>\n",
       "<style scoped>\n",
       "    .dataframe tbody tr th:only-of-type {\n",
       "        vertical-align: middle;\n",
       "    }\n",
       "\n",
       "    .dataframe tbody tr th {\n",
       "        vertical-align: top;\n",
       "    }\n",
       "\n",
       "    .dataframe thead th {\n",
       "        text-align: right;\n",
       "    }\n",
       "</style>\n",
       "<table border=\"1\" class=\"dataframe\">\n",
       "  <thead>\n",
       "    <tr style=\"text-align: right;\">\n",
       "      <th></th>\n",
       "      <th>City</th>\n",
       "      <th>State</th>\n",
       "      <th>Population</th>\n",
       "    </tr>\n",
       "  </thead>\n",
       "  <tbody>\n",
       "    <tr>\n",
       "      <th>0</th>\n",
       "      <td>Berlin</td>\n",
       "      <td>Berlin</td>\n",
       "      <td>3520031</td>\n",
       "    </tr>\n",
       "    <tr>\n",
       "      <th>1</th>\n",
       "      <td>Hamburg</td>\n",
       "      <td>Hamburg</td>\n",
       "      <td>1787408</td>\n",
       "    </tr>\n",
       "    <tr>\n",
       "      <th>2</th>\n",
       "      <td>Munich (München)</td>\n",
       "      <td>Bavaria</td>\n",
       "      <td>1450381</td>\n",
       "    </tr>\n",
       "    <tr>\n",
       "      <th>3</th>\n",
       "      <td>Cologne (Köln)</td>\n",
       "      <td>North Rhine-Westphalia</td>\n",
       "      <td>1060582</td>\n",
       "    </tr>\n",
       "    <tr>\n",
       "      <th>4</th>\n",
       "      <td>Frankfurt am Main</td>\n",
       "      <td>Hesse</td>\n",
       "      <td>732688</td>\n",
       "    </tr>\n",
       "  </tbody>\n",
       "</table>\n",
       "</div>"
      ],
      "text/plain": [
       "                City                   State  Population\n",
       "0             Berlin                  Berlin     3520031\n",
       "1            Hamburg                 Hamburg     1787408\n",
       "2   Munich (München)                 Bavaria     1450381\n",
       "3     Cologne (Köln)  North Rhine-Westphalia     1060582\n",
       "4  Frankfurt am Main                   Hesse      732688"
      ]
     },
     "execution_count": 4,
     "metadata": {},
     "output_type": "execute_result"
    }
   ],
   "source": [
    "population_df.head()"
   ]
  },
  {
   "cell_type": "markdown",
   "metadata": {},
   "source": [
    "Let's clean the 'City' column. In fact, some city names values contain the respective german name of the city.\n",
    "We will change this names leaving only the first part of the name"
   ]
  },
  {
   "cell_type": "code",
   "execution_count": 5,
   "metadata": {},
   "outputs": [],
   "source": [
    "population_df['City'] = population_df['City'].str.replace(' \\\\(.*', '', regex=True)"
   ]
  },
  {
   "cell_type": "code",
   "execution_count": 6,
   "metadata": {},
   "outputs": [
    {
     "data": {
      "text/html": [
       "<div>\n",
       "<style scoped>\n",
       "    .dataframe tbody tr th:only-of-type {\n",
       "        vertical-align: middle;\n",
       "    }\n",
       "\n",
       "    .dataframe tbody tr th {\n",
       "        vertical-align: top;\n",
       "    }\n",
       "\n",
       "    .dataframe thead th {\n",
       "        text-align: right;\n",
       "    }\n",
       "</style>\n",
       "<table border=\"1\" class=\"dataframe\">\n",
       "  <thead>\n",
       "    <tr style=\"text-align: right;\">\n",
       "      <th></th>\n",
       "      <th>City</th>\n",
       "      <th>State</th>\n",
       "      <th>Population</th>\n",
       "    </tr>\n",
       "  </thead>\n",
       "  <tbody>\n",
       "    <tr>\n",
       "      <th>0</th>\n",
       "      <td>Berlin</td>\n",
       "      <td>Berlin</td>\n",
       "      <td>3520031</td>\n",
       "    </tr>\n",
       "    <tr>\n",
       "      <th>1</th>\n",
       "      <td>Hamburg</td>\n",
       "      <td>Hamburg</td>\n",
       "      <td>1787408</td>\n",
       "    </tr>\n",
       "    <tr>\n",
       "      <th>2</th>\n",
       "      <td>Munich</td>\n",
       "      <td>Bavaria</td>\n",
       "      <td>1450381</td>\n",
       "    </tr>\n",
       "    <tr>\n",
       "      <th>3</th>\n",
       "      <td>Cologne</td>\n",
       "      <td>North Rhine-Westphalia</td>\n",
       "      <td>1060582</td>\n",
       "    </tr>\n",
       "    <tr>\n",
       "      <th>4</th>\n",
       "      <td>Frankfurt am Main</td>\n",
       "      <td>Hesse</td>\n",
       "      <td>732688</td>\n",
       "    </tr>\n",
       "  </tbody>\n",
       "</table>\n",
       "</div>"
      ],
      "text/plain": [
       "                City                   State  Population\n",
       "0             Berlin                  Berlin     3520031\n",
       "1            Hamburg                 Hamburg     1787408\n",
       "2             Munich                 Bavaria     1450381\n",
       "3            Cologne  North Rhine-Westphalia     1060582\n",
       "4  Frankfurt am Main                   Hesse      732688"
      ]
     },
     "execution_count": 6,
     "metadata": {},
     "output_type": "execute_result"
    }
   ],
   "source": [
    "population_df.head()"
   ]
  },
  {
   "cell_type": "markdown",
   "metadata": {},
   "source": [
    "# German cities by GPD (Gross Domestic Product)"
   ]
  },
  {
   "cell_type": "markdown",
   "metadata": {},
   "source": [
    "Now we build another dataframe from Wikipedia, containing the city with the highest GPD for city"
   ]
  },
  {
   "cell_type": "code",
   "execution_count": 7,
   "metadata": {},
   "outputs": [],
   "source": [
    "gpd_df_list = pd.read_html(\"https://en.wikipedia.org/wiki/List_of_German_cities_by_GDP\")\n",
    "gpd_df = gpd_df_list[0]"
   ]
  },
  {
   "cell_type": "code",
   "execution_count": 8,
   "metadata": {},
   "outputs": [
    {
     "data": {
      "text/html": [
       "<div>\n",
       "<style scoped>\n",
       "    .dataframe tbody tr th:only-of-type {\n",
       "        vertical-align: middle;\n",
       "    }\n",
       "\n",
       "    .dataframe tbody tr th {\n",
       "        vertical-align: top;\n",
       "    }\n",
       "\n",
       "    .dataframe thead th {\n",
       "        text-align: right;\n",
       "    }\n",
       "</style>\n",
       "<table border=\"1\" class=\"dataframe\">\n",
       "  <thead>\n",
       "    <tr style=\"text-align: right;\">\n",
       "      <th></th>\n",
       "      <th>Rank</th>\n",
       "      <th>City</th>\n",
       "      <th>State</th>\n",
       "      <th>Gross Domestic Productin million €</th>\n",
       "      <th>Gross Domestic Productper capita in €</th>\n",
       "      <th>Gross Domestic Productper employee in €</th>\n",
       "    </tr>\n",
       "  </thead>\n",
       "  <tbody>\n",
       "    <tr>\n",
       "      <th>0</th>\n",
       "      <td>1</td>\n",
       "      <td>Berlin</td>\n",
       "      <td>Berlin</td>\n",
       "      <td>130.537</td>\n",
       "      <td>36798</td>\n",
       "      <td>68906</td>\n",
       "    </tr>\n",
       "    <tr>\n",
       "      <th>1</th>\n",
       "      <td>2</td>\n",
       "      <td>Hamburg</td>\n",
       "      <td>Hamburg</td>\n",
       "      <td>112.959</td>\n",
       "      <td>62793</td>\n",
       "      <td>92163</td>\n",
       "    </tr>\n",
       "    <tr>\n",
       "      <th>2</th>\n",
       "      <td>3</td>\n",
       "      <td>Munich</td>\n",
       "      <td>Bavaria</td>\n",
       "      <td>109.571</td>\n",
       "      <td>75186</td>\n",
       "      <td>100776</td>\n",
       "    </tr>\n",
       "    <tr>\n",
       "      <th>3</th>\n",
       "      <td>4</td>\n",
       "      <td>Frankfurt am Main</td>\n",
       "      <td>Hesse</td>\n",
       "      <td>66.917</td>\n",
       "      <td>91099</td>\n",
       "      <td>97178</td>\n",
       "    </tr>\n",
       "    <tr>\n",
       "      <th>4</th>\n",
       "      <td>5</td>\n",
       "      <td>Cologne</td>\n",
       "      <td>North Rhine-Westphalia</td>\n",
       "      <td>63.463</td>\n",
       "      <td>59407</td>\n",
       "      <td>85127</td>\n",
       "    </tr>\n",
       "  </tbody>\n",
       "</table>\n",
       "</div>"
      ],
      "text/plain": [
       "   Rank               City                   State  \\\n",
       "0     1             Berlin                  Berlin   \n",
       "1     2            Hamburg                 Hamburg   \n",
       "2     3             Munich                 Bavaria   \n",
       "3     4  Frankfurt am Main                   Hesse   \n",
       "4     5            Cologne  North Rhine-Westphalia   \n",
       "\n",
       "   Gross Domestic Productin million €  Gross Domestic Productper capita in €  \\\n",
       "0                             130.537                                  36798   \n",
       "1                             112.959                                  62793   \n",
       "2                             109.571                                  75186   \n",
       "3                              66.917                                  91099   \n",
       "4                              63.463                                  59407   \n",
       "\n",
       "   Gross Domestic Productper employee in €  \n",
       "0                                    68906  \n",
       "1                                    92163  \n",
       "2                                   100776  \n",
       "3                                    97178  \n",
       "4                                    85127  "
      ]
     },
     "execution_count": 8,
     "metadata": {},
     "output_type": "execute_result"
    }
   ],
   "source": [
    "gpd_df.head()"
   ]
  },
  {
   "cell_type": "markdown",
   "metadata": {},
   "source": [
    "We are interested in the columns 'City', 'State' (for merging the results in a few moments) and the column that shows the average GDP per employee ('Gross Domestic Product per employee in €)"
   ]
  },
  {
   "cell_type": "code",
   "execution_count": 9,
   "metadata": {},
   "outputs": [],
   "source": [
    "gpd_df.drop(['Rank','Gross Domestic Productin million €','Gross Domestic Productper capita in €'],axis=1, inplace = True)\n",
    "gpd_df.rename(columns={'Gross Domestic Productper employee in €':'GDP'},inplace=True)"
   ]
  },
  {
   "cell_type": "code",
   "execution_count": 10,
   "metadata": {},
   "outputs": [
    {
     "data": {
      "text/html": [
       "<div>\n",
       "<style scoped>\n",
       "    .dataframe tbody tr th:only-of-type {\n",
       "        vertical-align: middle;\n",
       "    }\n",
       "\n",
       "    .dataframe tbody tr th {\n",
       "        vertical-align: top;\n",
       "    }\n",
       "\n",
       "    .dataframe thead th {\n",
       "        text-align: right;\n",
       "    }\n",
       "</style>\n",
       "<table border=\"1\" class=\"dataframe\">\n",
       "  <thead>\n",
       "    <tr style=\"text-align: right;\">\n",
       "      <th></th>\n",
       "      <th>City</th>\n",
       "      <th>State</th>\n",
       "      <th>GDP</th>\n",
       "    </tr>\n",
       "  </thead>\n",
       "  <tbody>\n",
       "    <tr>\n",
       "      <th>0</th>\n",
       "      <td>Berlin</td>\n",
       "      <td>Berlin</td>\n",
       "      <td>68906</td>\n",
       "    </tr>\n",
       "    <tr>\n",
       "      <th>1</th>\n",
       "      <td>Hamburg</td>\n",
       "      <td>Hamburg</td>\n",
       "      <td>92163</td>\n",
       "    </tr>\n",
       "    <tr>\n",
       "      <th>2</th>\n",
       "      <td>Munich</td>\n",
       "      <td>Bavaria</td>\n",
       "      <td>100776</td>\n",
       "    </tr>\n",
       "    <tr>\n",
       "      <th>3</th>\n",
       "      <td>Frankfurt am Main</td>\n",
       "      <td>Hesse</td>\n",
       "      <td>97178</td>\n",
       "    </tr>\n",
       "    <tr>\n",
       "      <th>4</th>\n",
       "      <td>Cologne</td>\n",
       "      <td>North Rhine-Westphalia</td>\n",
       "      <td>85127</td>\n",
       "    </tr>\n",
       "  </tbody>\n",
       "</table>\n",
       "</div>"
      ],
      "text/plain": [
       "                City                   State     GDP\n",
       "0             Berlin                  Berlin   68906\n",
       "1            Hamburg                 Hamburg   92163\n",
       "2             Munich                 Bavaria  100776\n",
       "3  Frankfurt am Main                   Hesse   97178\n",
       "4            Cologne  North Rhine-Westphalia   85127"
      ]
     },
     "execution_count": 10,
     "metadata": {},
     "output_type": "execute_result"
    }
   ],
   "source": [
    "gpd_df.head()"
   ]
  },
  {
   "cell_type": "markdown",
   "metadata": {},
   "source": [
    "Let's clean, again, the 'City' column. In fact, some city names values contain the respective german name of the city.\n",
    "We will change this names leaving only the first part of the name"
   ]
  },
  {
   "cell_type": "code",
   "execution_count": 11,
   "metadata": {},
   "outputs": [],
   "source": [
    "gpd_df['City'] = gpd_df['City'].str.replace(' \\\\(.*', '', regex=True)"
   ]
  },
  {
   "cell_type": "code",
   "execution_count": 12,
   "metadata": {},
   "outputs": [
    {
     "data": {
      "text/html": [
       "<div>\n",
       "<style scoped>\n",
       "    .dataframe tbody tr th:only-of-type {\n",
       "        vertical-align: middle;\n",
       "    }\n",
       "\n",
       "    .dataframe tbody tr th {\n",
       "        vertical-align: top;\n",
       "    }\n",
       "\n",
       "    .dataframe thead th {\n",
       "        text-align: right;\n",
       "    }\n",
       "</style>\n",
       "<table border=\"1\" class=\"dataframe\">\n",
       "  <thead>\n",
       "    <tr style=\"text-align: right;\">\n",
       "      <th></th>\n",
       "      <th>City</th>\n",
       "      <th>State</th>\n",
       "      <th>GDP</th>\n",
       "    </tr>\n",
       "  </thead>\n",
       "  <tbody>\n",
       "    <tr>\n",
       "      <th>0</th>\n",
       "      <td>Berlin</td>\n",
       "      <td>Berlin</td>\n",
       "      <td>68906</td>\n",
       "    </tr>\n",
       "    <tr>\n",
       "      <th>1</th>\n",
       "      <td>Hamburg</td>\n",
       "      <td>Hamburg</td>\n",
       "      <td>92163</td>\n",
       "    </tr>\n",
       "    <tr>\n",
       "      <th>2</th>\n",
       "      <td>Munich</td>\n",
       "      <td>Bavaria</td>\n",
       "      <td>100776</td>\n",
       "    </tr>\n",
       "    <tr>\n",
       "      <th>3</th>\n",
       "      <td>Frankfurt am Main</td>\n",
       "      <td>Hesse</td>\n",
       "      <td>97178</td>\n",
       "    </tr>\n",
       "    <tr>\n",
       "      <th>4</th>\n",
       "      <td>Cologne</td>\n",
       "      <td>North Rhine-Westphalia</td>\n",
       "      <td>85127</td>\n",
       "    </tr>\n",
       "  </tbody>\n",
       "</table>\n",
       "</div>"
      ],
      "text/plain": [
       "                City                   State     GDP\n",
       "0             Berlin                  Berlin   68906\n",
       "1            Hamburg                 Hamburg   92163\n",
       "2             Munich                 Bavaria  100776\n",
       "3  Frankfurt am Main                   Hesse   97178\n",
       "4            Cologne  North Rhine-Westphalia   85127"
      ]
     },
     "execution_count": 12,
     "metadata": {},
     "output_type": "execute_result"
    }
   ],
   "source": [
    "gpd_df.head()"
   ]
  },
  {
   "cell_type": "markdown",
   "metadata": {},
   "source": [
    "# Merge Population and GPD data"
   ]
  },
  {
   "cell_type": "markdown",
   "metadata": {},
   "source": [
    "Before merging the GPD Dataframe and the Population Dataframe, we need to consider that we want to merge records where the tuple (city, state) is present in both the dataframes. We will ignore cities present only in one Dataframe"
   ]
  },
  {
   "cell_type": "code",
   "execution_count": 13,
   "metadata": {},
   "outputs": [],
   "source": [
    "pop_gpd_df = pd.merge(left=population_df, right=gpd_df, on='City')"
   ]
  },
  {
   "cell_type": "code",
   "execution_count": 14,
   "metadata": {},
   "outputs": [
    {
     "data": {
      "text/html": [
       "<div>\n",
       "<style scoped>\n",
       "    .dataframe tbody tr th:only-of-type {\n",
       "        vertical-align: middle;\n",
       "    }\n",
       "\n",
       "    .dataframe tbody tr th {\n",
       "        vertical-align: top;\n",
       "    }\n",
       "\n",
       "    .dataframe thead th {\n",
       "        text-align: right;\n",
       "    }\n",
       "</style>\n",
       "<table border=\"1\" class=\"dataframe\">\n",
       "  <thead>\n",
       "    <tr style=\"text-align: right;\">\n",
       "      <th></th>\n",
       "      <th>City</th>\n",
       "      <th>State_x</th>\n",
       "      <th>Population</th>\n",
       "      <th>State_y</th>\n",
       "      <th>GDP</th>\n",
       "    </tr>\n",
       "  </thead>\n",
       "  <tbody>\n",
       "    <tr>\n",
       "      <th>0</th>\n",
       "      <td>Berlin</td>\n",
       "      <td>Berlin</td>\n",
       "      <td>3520031</td>\n",
       "      <td>Berlin</td>\n",
       "      <td>68906</td>\n",
       "    </tr>\n",
       "    <tr>\n",
       "      <th>1</th>\n",
       "      <td>Hamburg</td>\n",
       "      <td>Hamburg</td>\n",
       "      <td>1787408</td>\n",
       "      <td>Hamburg</td>\n",
       "      <td>92163</td>\n",
       "    </tr>\n",
       "    <tr>\n",
       "      <th>2</th>\n",
       "      <td>Munich</td>\n",
       "      <td>Bavaria</td>\n",
       "      <td>1450381</td>\n",
       "      <td>Bavaria</td>\n",
       "      <td>100776</td>\n",
       "    </tr>\n",
       "    <tr>\n",
       "      <th>3</th>\n",
       "      <td>Cologne</td>\n",
       "      <td>North Rhine-Westphalia</td>\n",
       "      <td>1060582</td>\n",
       "      <td>North Rhine-Westphalia</td>\n",
       "      <td>85127</td>\n",
       "    </tr>\n",
       "    <tr>\n",
       "      <th>4</th>\n",
       "      <td>Frankfurt am Main</td>\n",
       "      <td>Hesse</td>\n",
       "      <td>732688</td>\n",
       "      <td>Hesse</td>\n",
       "      <td>97178</td>\n",
       "    </tr>\n",
       "  </tbody>\n",
       "</table>\n",
       "</div>"
      ],
      "text/plain": [
       "                City                 State_x  Population  \\\n",
       "0             Berlin                  Berlin     3520031   \n",
       "1            Hamburg                 Hamburg     1787408   \n",
       "2             Munich                 Bavaria     1450381   \n",
       "3            Cologne  North Rhine-Westphalia     1060582   \n",
       "4  Frankfurt am Main                   Hesse      732688   \n",
       "\n",
       "                  State_y     GDP  \n",
       "0                  Berlin   68906  \n",
       "1                 Hamburg   92163  \n",
       "2                 Bavaria  100776  \n",
       "3  North Rhine-Westphalia   85127  \n",
       "4                   Hesse   97178  "
      ]
     },
     "execution_count": 14,
     "metadata": {},
     "output_type": "execute_result"
    }
   ],
   "source": [
    "pop_gpd_df.head()"
   ]
  },
  {
   "cell_type": "markdown",
   "metadata": {},
   "source": [
    "Let's remove the duplicate States column"
   ]
  },
  {
   "cell_type": "code",
   "execution_count": 15,
   "metadata": {},
   "outputs": [],
   "source": [
    "pop_gpd_df.drop('State_y', axis=1, inplace = True)\n",
    "pop_gpd_df.rename(columns={'State_x':'State'}, inplace = True)"
   ]
  },
  {
   "cell_type": "code",
   "execution_count": 16,
   "metadata": {},
   "outputs": [
    {
     "data": {
      "text/html": [
       "<div>\n",
       "<style scoped>\n",
       "    .dataframe tbody tr th:only-of-type {\n",
       "        vertical-align: middle;\n",
       "    }\n",
       "\n",
       "    .dataframe tbody tr th {\n",
       "        vertical-align: top;\n",
       "    }\n",
       "\n",
       "    .dataframe thead th {\n",
       "        text-align: right;\n",
       "    }\n",
       "</style>\n",
       "<table border=\"1\" class=\"dataframe\">\n",
       "  <thead>\n",
       "    <tr style=\"text-align: right;\">\n",
       "      <th></th>\n",
       "      <th>City</th>\n",
       "      <th>State</th>\n",
       "      <th>Population</th>\n",
       "      <th>GDP</th>\n",
       "    </tr>\n",
       "  </thead>\n",
       "  <tbody>\n",
       "    <tr>\n",
       "      <th>0</th>\n",
       "      <td>Berlin</td>\n",
       "      <td>Berlin</td>\n",
       "      <td>3520031</td>\n",
       "      <td>68906</td>\n",
       "    </tr>\n",
       "    <tr>\n",
       "      <th>1</th>\n",
       "      <td>Hamburg</td>\n",
       "      <td>Hamburg</td>\n",
       "      <td>1787408</td>\n",
       "      <td>92163</td>\n",
       "    </tr>\n",
       "    <tr>\n",
       "      <th>2</th>\n",
       "      <td>Munich</td>\n",
       "      <td>Bavaria</td>\n",
       "      <td>1450381</td>\n",
       "      <td>100776</td>\n",
       "    </tr>\n",
       "    <tr>\n",
       "      <th>3</th>\n",
       "      <td>Cologne</td>\n",
       "      <td>North Rhine-Westphalia</td>\n",
       "      <td>1060582</td>\n",
       "      <td>85127</td>\n",
       "    </tr>\n",
       "    <tr>\n",
       "      <th>4</th>\n",
       "      <td>Frankfurt am Main</td>\n",
       "      <td>Hesse</td>\n",
       "      <td>732688</td>\n",
       "      <td>97178</td>\n",
       "    </tr>\n",
       "    <tr>\n",
       "      <th>5</th>\n",
       "      <td>Stuttgart</td>\n",
       "      <td>Baden-Württemberg</td>\n",
       "      <td>623738</td>\n",
       "      <td>99311</td>\n",
       "    </tr>\n",
       "    <tr>\n",
       "      <th>6</th>\n",
       "      <td>Düsseldorf</td>\n",
       "      <td>North Rhine-Westphalia</td>\n",
       "      <td>612178</td>\n",
       "      <td>93054</td>\n",
       "    </tr>\n",
       "    <tr>\n",
       "      <th>7</th>\n",
       "      <td>Dortmund</td>\n",
       "      <td>North Rhine-Westphalia</td>\n",
       "      <td>586181</td>\n",
       "      <td>68745</td>\n",
       "    </tr>\n",
       "    <tr>\n",
       "      <th>8</th>\n",
       "      <td>Essen</td>\n",
       "      <td>North Rhine-Westphalia</td>\n",
       "      <td>582624</td>\n",
       "      <td>73327</td>\n",
       "    </tr>\n",
       "    <tr>\n",
       "      <th>9</th>\n",
       "      <td>Leipzig</td>\n",
       "      <td>Saxony</td>\n",
       "      <td>560472</td>\n",
       "      <td>60453</td>\n",
       "    </tr>\n",
       "    <tr>\n",
       "      <th>10</th>\n",
       "      <td>Bremen</td>\n",
       "      <td>Bremen</td>\n",
       "      <td>557464</td>\n",
       "      <td>78738</td>\n",
       "    </tr>\n",
       "    <tr>\n",
       "      <th>11</th>\n",
       "      <td>Dresden</td>\n",
       "      <td>Saxony</td>\n",
       "      <td>543825</td>\n",
       "      <td>63783</td>\n",
       "    </tr>\n",
       "    <tr>\n",
       "      <th>12</th>\n",
       "      <td>Nuremberg</td>\n",
       "      <td>Bavaria</td>\n",
       "      <td>509975</td>\n",
       "      <td>72379</td>\n",
       "    </tr>\n",
       "    <tr>\n",
       "      <th>13</th>\n",
       "      <td>Duisburg</td>\n",
       "      <td>North Rhine-Westphalia</td>\n",
       "      <td>491231</td>\n",
       "      <td>73774</td>\n",
       "    </tr>\n",
       "    <tr>\n",
       "      <th>14</th>\n",
       "      <td>Bochum</td>\n",
       "      <td>North Rhine-Westphalia</td>\n",
       "      <td>364742</td>\n",
       "      <td>64636</td>\n",
       "    </tr>\n",
       "    <tr>\n",
       "      <th>15</th>\n",
       "      <td>Wuppertal</td>\n",
       "      <td>North Rhine-Westphalia</td>\n",
       "      <td>350046</td>\n",
       "      <td>76275</td>\n",
       "    </tr>\n",
       "    <tr>\n",
       "      <th>16</th>\n",
       "      <td>Bielefeld</td>\n",
       "      <td>North Rhine-Westphalia</td>\n",
       "      <td>333090</td>\n",
       "      <td>63554</td>\n",
       "    </tr>\n",
       "    <tr>\n",
       "      <th>17</th>\n",
       "      <td>Bonn</td>\n",
       "      <td>North Rhine-Westphalia</td>\n",
       "      <td>318809</td>\n",
       "      <td>93858</td>\n",
       "    </tr>\n",
       "    <tr>\n",
       "      <th>18</th>\n",
       "      <td>Münster</td>\n",
       "      <td>North Rhine-Westphalia</td>\n",
       "      <td>310039</td>\n",
       "      <td>79213</td>\n",
       "    </tr>\n",
       "    <tr>\n",
       "      <th>19</th>\n",
       "      <td>Karlsruhe</td>\n",
       "      <td>Baden-Württemberg</td>\n",
       "      <td>307755</td>\n",
       "      <td>82815</td>\n",
       "    </tr>\n",
       "  </tbody>\n",
       "</table>\n",
       "</div>"
      ],
      "text/plain": [
       "                 City                   State  Population     GDP\n",
       "0              Berlin                  Berlin     3520031   68906\n",
       "1             Hamburg                 Hamburg     1787408   92163\n",
       "2              Munich                 Bavaria     1450381  100776\n",
       "3             Cologne  North Rhine-Westphalia     1060582   85127\n",
       "4   Frankfurt am Main                   Hesse      732688   97178\n",
       "5           Stuttgart       Baden-Württemberg      623738   99311\n",
       "6          Düsseldorf  North Rhine-Westphalia      612178   93054\n",
       "7            Dortmund  North Rhine-Westphalia      586181   68745\n",
       "8               Essen  North Rhine-Westphalia      582624   73327\n",
       "9             Leipzig                  Saxony      560472   60453\n",
       "10             Bremen                  Bremen      557464   78738\n",
       "11            Dresden                  Saxony      543825   63783\n",
       "12          Nuremberg                 Bavaria      509975   72379\n",
       "13           Duisburg  North Rhine-Westphalia      491231   73774\n",
       "14             Bochum  North Rhine-Westphalia      364742   64636\n",
       "15          Wuppertal  North Rhine-Westphalia      350046   76275\n",
       "16          Bielefeld  North Rhine-Westphalia      333090   63554\n",
       "17               Bonn  North Rhine-Westphalia      318809   93858\n",
       "18            Münster  North Rhine-Westphalia      310039   79213\n",
       "19          Karlsruhe       Baden-Württemberg      307755   82815"
      ]
     },
     "execution_count": 16,
     "metadata": {},
     "output_type": "execute_result"
    }
   ],
   "source": [
    "pop_gpd_df.head(20)"
   ]
  },
  {
   "cell_type": "markdown",
   "metadata": {},
   "source": [
    "# Unemployment Rate and household income Data"
   ]
  },
  {
   "cell_type": "markdown",
   "metadata": {},
   "source": [
    "Next, we're going to focus on the unemployment rate and the household income data.\n",
    "This data, also obtained from Wikipedia, is grouped by State, and not by City.\n",
    "So the objective now is to build another 2 columns in out dataframe, where the records related to cities in the same state will have the same unemployment rate and household income"
   ]
  },
  {
   "cell_type": "markdown",
   "metadata": {},
   "source": [
    "# Unemployment Rate"
   ]
  },
  {
   "cell_type": "code",
   "execution_count": 17,
   "metadata": {},
   "outputs": [],
   "source": [
    "unemp_df_list = pd.read_html(\"https://en.wikipedia.org/wiki/List_of_German_states_by_unemployment_rate\")\n",
    "unemp_df = unemp_df_list[0]"
   ]
  },
  {
   "cell_type": "code",
   "execution_count": 18,
   "metadata": {},
   "outputs": [
    {
     "data": {
      "text/html": [
       "<div>\n",
       "<style scoped>\n",
       "    .dataframe tbody tr th:only-of-type {\n",
       "        vertical-align: middle;\n",
       "    }\n",
       "\n",
       "    .dataframe tbody tr th {\n",
       "        vertical-align: top;\n",
       "    }\n",
       "\n",
       "    .dataframe thead th {\n",
       "        text-align: right;\n",
       "    }\n",
       "</style>\n",
       "<table border=\"1\" class=\"dataframe\">\n",
       "  <thead>\n",
       "    <tr style=\"text-align: right;\">\n",
       "      <th></th>\n",
       "      <th>Rank</th>\n",
       "      <th>States</th>\n",
       "      <th>unemployment rate (July 2019)[1]</th>\n",
       "    </tr>\n",
       "  </thead>\n",
       "  <tbody>\n",
       "    <tr>\n",
       "      <th>0</th>\n",
       "      <td>1.0</td>\n",
       "      <td>Bremen</td>\n",
       "      <td>10.2%</td>\n",
       "    </tr>\n",
       "    <tr>\n",
       "      <th>1</th>\n",
       "      <td>2.0</td>\n",
       "      <td>Berlin</td>\n",
       "      <td>8.0%</td>\n",
       "    </tr>\n",
       "    <tr>\n",
       "      <th>2</th>\n",
       "      <td>3.0</td>\n",
       "      <td>Saxony-Anhalt</td>\n",
       "      <td>7.0%</td>\n",
       "    </tr>\n",
       "    <tr>\n",
       "      <th>3</th>\n",
       "      <td>4.0</td>\n",
       "      <td>Mecklenburg-Vorpommern</td>\n",
       "      <td>6.7%</td>\n",
       "    </tr>\n",
       "    <tr>\n",
       "      <th>4</th>\n",
       "      <td>5.0</td>\n",
       "      <td>North Rhine-Westphalia</td>\n",
       "      <td>6.6%</td>\n",
       "    </tr>\n",
       "  </tbody>\n",
       "</table>\n",
       "</div>"
      ],
      "text/plain": [
       "   Rank                  States unemployment rate (July 2019)[1]\n",
       "0   1.0                  Bremen                            10.2%\n",
       "1   2.0                  Berlin                             8.0%\n",
       "2   3.0           Saxony-Anhalt                             7.0%\n",
       "3   4.0  Mecklenburg-Vorpommern                             6.7%\n",
       "4   5.0  North Rhine-Westphalia                             6.6%"
      ]
     },
     "execution_count": 18,
     "metadata": {},
     "output_type": "execute_result"
    }
   ],
   "source": [
    "unemp_df.head()"
   ]
  },
  {
   "cell_type": "code",
   "execution_count": 19,
   "metadata": {},
   "outputs": [
    {
     "data": {
      "text/plain": [
       "(19, 3)"
      ]
     },
     "execution_count": 19,
     "metadata": {},
     "output_type": "execute_result"
    }
   ],
   "source": [
    "unemp_df.shape"
   ]
  },
  {
   "cell_type": "markdown",
   "metadata": {},
   "source": [
    "Since Germany has only 17 states, there is something wrong with the dataframe. Let's see the 'States' set:"
   ]
  },
  {
   "cell_type": "code",
   "execution_count": 20,
   "metadata": {},
   "outputs": [
    {
     "data": {
      "text/plain": [
       "{'Baden-Württemberg',\n",
       " 'Bavaria',\n",
       " 'Berlin',\n",
       " 'Brandenburg',\n",
       " 'Bremen',\n",
       " 'East Germany',\n",
       " 'Germany',\n",
       " 'Hamburg',\n",
       " 'Hesse',\n",
       " 'Lower Saxony',\n",
       " 'Mecklenburg-Vorpommern',\n",
       " 'North Rhine-Westphalia',\n",
       " 'Rhineland-Palatinate',\n",
       " 'Saarland',\n",
       " 'Saxony',\n",
       " 'Saxony-Anhalt',\n",
       " 'Schleswig-Holstein',\n",
       " 'Thuringia',\n",
       " 'West Germany'}"
      ]
     },
     "execution_count": 20,
     "metadata": {},
     "output_type": "execute_result"
    }
   ],
   "source": [
    "set(unemp_df['States'])"
   ]
  },
  {
   "cell_type": "markdown",
   "metadata": {},
   "source": [
    "'East Germany' and 'West Germany' are not valid states in this analysis, so we remove them"
   ]
  },
  {
   "cell_type": "code",
   "execution_count": 21,
   "metadata": {},
   "outputs": [],
   "source": [
    "unemp_df.drop(unemp_df.index[unemp_df['States'] == 'East Germany'], inplace = True)\n",
    "unemp_df.drop(unemp_df.index[unemp_df['States'] == 'West Germany'], inplace = True)"
   ]
  },
  {
   "cell_type": "markdown",
   "metadata": {},
   "source": [
    "Let's remove the Rank column and change the name of the unemployment and states column"
   ]
  },
  {
   "cell_type": "code",
   "execution_count": 22,
   "metadata": {},
   "outputs": [],
   "source": [
    "unemp_df.drop('Rank', axis=1, inplace = True)\n",
    "unemp_df.rename(columns={'unemployment rate (July 2019)[1]':'Unemployment', 'States':'State'}, inplace = True)"
   ]
  },
  {
   "cell_type": "code",
   "execution_count": 23,
   "metadata": {},
   "outputs": [
    {
     "data": {
      "text/html": [
       "<div>\n",
       "<style scoped>\n",
       "    .dataframe tbody tr th:only-of-type {\n",
       "        vertical-align: middle;\n",
       "    }\n",
       "\n",
       "    .dataframe tbody tr th {\n",
       "        vertical-align: top;\n",
       "    }\n",
       "\n",
       "    .dataframe thead th {\n",
       "        text-align: right;\n",
       "    }\n",
       "</style>\n",
       "<table border=\"1\" class=\"dataframe\">\n",
       "  <thead>\n",
       "    <tr style=\"text-align: right;\">\n",
       "      <th></th>\n",
       "      <th>State</th>\n",
       "      <th>Unemployment</th>\n",
       "    </tr>\n",
       "  </thead>\n",
       "  <tbody>\n",
       "    <tr>\n",
       "      <th>0</th>\n",
       "      <td>Bremen</td>\n",
       "      <td>10.2%</td>\n",
       "    </tr>\n",
       "    <tr>\n",
       "      <th>1</th>\n",
       "      <td>Berlin</td>\n",
       "      <td>8.0%</td>\n",
       "    </tr>\n",
       "    <tr>\n",
       "      <th>2</th>\n",
       "      <td>Saxony-Anhalt</td>\n",
       "      <td>7.0%</td>\n",
       "    </tr>\n",
       "    <tr>\n",
       "      <th>3</th>\n",
       "      <td>Mecklenburg-Vorpommern</td>\n",
       "      <td>6.7%</td>\n",
       "    </tr>\n",
       "    <tr>\n",
       "      <th>4</th>\n",
       "      <td>North Rhine-Westphalia</td>\n",
       "      <td>6.6%</td>\n",
       "    </tr>\n",
       "  </tbody>\n",
       "</table>\n",
       "</div>"
      ],
      "text/plain": [
       "                    State Unemployment\n",
       "0                  Bremen        10.2%\n",
       "1                  Berlin         8.0%\n",
       "2           Saxony-Anhalt         7.0%\n",
       "3  Mecklenburg-Vorpommern         6.7%\n",
       "4  North Rhine-Westphalia         6.6%"
      ]
     },
     "execution_count": 23,
     "metadata": {},
     "output_type": "execute_result"
    }
   ],
   "source": [
    "unemp_df.head()"
   ]
  },
  {
   "cell_type": "markdown",
   "metadata": {},
   "source": [
    "However, let's check the unemployment column data type..."
   ]
  },
  {
   "cell_type": "code",
   "execution_count": 24,
   "metadata": {},
   "outputs": [
    {
     "data": {
      "text/plain": [
       "State           object\n",
       "Unemployment    object\n",
       "dtype: object"
      ]
     },
     "execution_count": 24,
     "metadata": {},
     "output_type": "execute_result"
    }
   ],
   "source": [
    "unemp_df.dtypes"
   ]
  },
  {
   "cell_type": "markdown",
   "metadata": {},
   "source": [
    "Let's change the percentage rate, expressed as a string to a float"
   ]
  },
  {
   "cell_type": "code",
   "execution_count": 25,
   "metadata": {},
   "outputs": [],
   "source": [
    "unemp_df['Unemployment'] = unemp_df['Unemployment'].str.replace('%', '', regex=True)\n",
    "unemp_df['Unemployment'] = unemp_df['Unemployment'].astype('float')"
   ]
  },
  {
   "cell_type": "code",
   "execution_count": 26,
   "metadata": {},
   "outputs": [
    {
     "data": {
      "text/html": [
       "<div>\n",
       "<style scoped>\n",
       "    .dataframe tbody tr th:only-of-type {\n",
       "        vertical-align: middle;\n",
       "    }\n",
       "\n",
       "    .dataframe tbody tr th {\n",
       "        vertical-align: top;\n",
       "    }\n",
       "\n",
       "    .dataframe thead th {\n",
       "        text-align: right;\n",
       "    }\n",
       "</style>\n",
       "<table border=\"1\" class=\"dataframe\">\n",
       "  <thead>\n",
       "    <tr style=\"text-align: right;\">\n",
       "      <th></th>\n",
       "      <th>State</th>\n",
       "      <th>Unemployment</th>\n",
       "    </tr>\n",
       "  </thead>\n",
       "  <tbody>\n",
       "    <tr>\n",
       "      <th>0</th>\n",
       "      <td>Bremen</td>\n",
       "      <td>10.2</td>\n",
       "    </tr>\n",
       "    <tr>\n",
       "      <th>1</th>\n",
       "      <td>Berlin</td>\n",
       "      <td>8.0</td>\n",
       "    </tr>\n",
       "    <tr>\n",
       "      <th>2</th>\n",
       "      <td>Saxony-Anhalt</td>\n",
       "      <td>7.0</td>\n",
       "    </tr>\n",
       "    <tr>\n",
       "      <th>3</th>\n",
       "      <td>Mecklenburg-Vorpommern</td>\n",
       "      <td>6.7</td>\n",
       "    </tr>\n",
       "    <tr>\n",
       "      <th>4</th>\n",
       "      <td>North Rhine-Westphalia</td>\n",
       "      <td>6.6</td>\n",
       "    </tr>\n",
       "  </tbody>\n",
       "</table>\n",
       "</div>"
      ],
      "text/plain": [
       "                    State  Unemployment\n",
       "0                  Bremen          10.2\n",
       "1                  Berlin           8.0\n",
       "2           Saxony-Anhalt           7.0\n",
       "3  Mecklenburg-Vorpommern           6.7\n",
       "4  North Rhine-Westphalia           6.6"
      ]
     },
     "execution_count": 26,
     "metadata": {},
     "output_type": "execute_result"
    }
   ],
   "source": [
    "unemp_df.head()"
   ]
  },
  {
   "cell_type": "markdown",
   "metadata": {},
   "source": [
    "# Household income Data, per state"
   ]
  },
  {
   "cell_type": "code",
   "execution_count": 27,
   "metadata": {},
   "outputs": [],
   "source": [
    "household_df_list = pd.read_html(\"https://en.wikipedia.org/wiki/List_of_German_states_by_household_income\")\n",
    "household_df = household_df_list[0]"
   ]
  },
  {
   "cell_type": "code",
   "execution_count": 28,
   "metadata": {},
   "outputs": [
    {
     "data": {
      "text/html": [
       "<div>\n",
       "<style scoped>\n",
       "    .dataframe tbody tr th:only-of-type {\n",
       "        vertical-align: middle;\n",
       "    }\n",
       "\n",
       "    .dataframe tbody tr th {\n",
       "        vertical-align: top;\n",
       "    }\n",
       "\n",
       "    .dataframe thead th {\n",
       "        text-align: right;\n",
       "    }\n",
       "</style>\n",
       "<table border=\"1\" class=\"dataframe\">\n",
       "  <thead>\n",
       "    <tr style=\"text-align: right;\">\n",
       "      <th></th>\n",
       "      <th>Rank</th>\n",
       "      <th>State</th>\n",
       "      <th>Household income per capita(in EUR€)</th>\n",
       "    </tr>\n",
       "  </thead>\n",
       "  <tbody>\n",
       "    <tr>\n",
       "      <th>0</th>\n",
       "      <td>1.0</td>\n",
       "      <td>Hamburg</td>\n",
       "      <td>24421</td>\n",
       "    </tr>\n",
       "    <tr>\n",
       "      <th>1</th>\n",
       "      <td>2.0</td>\n",
       "      <td>Bavaria</td>\n",
       "      <td>24026</td>\n",
       "    </tr>\n",
       "    <tr>\n",
       "      <th>2</th>\n",
       "      <td>3.0</td>\n",
       "      <td>Baden-Württemberg</td>\n",
       "      <td>23947</td>\n",
       "    </tr>\n",
       "    <tr>\n",
       "      <th>3</th>\n",
       "      <td>4.0</td>\n",
       "      <td>Hesse</td>\n",
       "      <td>22454</td>\n",
       "    </tr>\n",
       "    <tr>\n",
       "      <th>4</th>\n",
       "      <td>5.0</td>\n",
       "      <td>Rhineland-Palatinate</td>\n",
       "      <td>22240</td>\n",
       "    </tr>\n",
       "  </tbody>\n",
       "</table>\n",
       "</div>"
      ],
      "text/plain": [
       "   Rank                 State  Household income per capita(in EUR€)\n",
       "0   1.0               Hamburg                                 24421\n",
       "1   2.0               Bavaria                                 24026\n",
       "2   3.0     Baden-Württemberg                                 23947\n",
       "3   4.0                 Hesse                                 22454\n",
       "4   5.0  Rhineland-Palatinate                                 22240"
      ]
     },
     "execution_count": 28,
     "metadata": {},
     "output_type": "execute_result"
    }
   ],
   "source": [
    "household_df.head()"
   ]
  },
  {
   "cell_type": "markdown",
   "metadata": {},
   "source": [
    "Let's drop Rank column, and change the name of the last column"
   ]
  },
  {
   "cell_type": "code",
   "execution_count": 29,
   "metadata": {},
   "outputs": [],
   "source": [
    "household_df.drop('Rank', axis=1, inplace = True)\n",
    "household_df.rename(columns={'Household income per capita(in EUR€)':'Avg Income'}, inplace = True)"
   ]
  },
  {
   "cell_type": "code",
   "execution_count": 30,
   "metadata": {
    "scrolled": true
   },
   "outputs": [
    {
     "data": {
      "text/html": [
       "<div>\n",
       "<style scoped>\n",
       "    .dataframe tbody tr th:only-of-type {\n",
       "        vertical-align: middle;\n",
       "    }\n",
       "\n",
       "    .dataframe tbody tr th {\n",
       "        vertical-align: top;\n",
       "    }\n",
       "\n",
       "    .dataframe thead th {\n",
       "        text-align: right;\n",
       "    }\n",
       "</style>\n",
       "<table border=\"1\" class=\"dataframe\">\n",
       "  <thead>\n",
       "    <tr style=\"text-align: right;\">\n",
       "      <th></th>\n",
       "      <th>State</th>\n",
       "      <th>Avg Income</th>\n",
       "    </tr>\n",
       "  </thead>\n",
       "  <tbody>\n",
       "    <tr>\n",
       "      <th>0</th>\n",
       "      <td>Hamburg</td>\n",
       "      <td>24421</td>\n",
       "    </tr>\n",
       "    <tr>\n",
       "      <th>1</th>\n",
       "      <td>Bavaria</td>\n",
       "      <td>24026</td>\n",
       "    </tr>\n",
       "    <tr>\n",
       "      <th>2</th>\n",
       "      <td>Baden-Württemberg</td>\n",
       "      <td>23947</td>\n",
       "    </tr>\n",
       "    <tr>\n",
       "      <th>3</th>\n",
       "      <td>Hesse</td>\n",
       "      <td>22454</td>\n",
       "    </tr>\n",
       "    <tr>\n",
       "      <th>4</th>\n",
       "      <td>Rhineland-Palatinate</td>\n",
       "      <td>22240</td>\n",
       "    </tr>\n",
       "  </tbody>\n",
       "</table>\n",
       "</div>"
      ],
      "text/plain": [
       "                  State  Avg Income\n",
       "0               Hamburg       24421\n",
       "1               Bavaria       24026\n",
       "2     Baden-Württemberg       23947\n",
       "3                 Hesse       22454\n",
       "4  Rhineland-Palatinate       22240"
      ]
     },
     "execution_count": 30,
     "metadata": {},
     "output_type": "execute_result"
    }
   ],
   "source": [
    "household_df.head()"
   ]
  },
  {
   "cell_type": "markdown",
   "metadata": {},
   "source": [
    "Let's merge the unemployment and the household income dataframes together"
   ]
  },
  {
   "cell_type": "code",
   "execution_count": 31,
   "metadata": {},
   "outputs": [],
   "source": [
    "states_merged = pd.merge(left=unemp_df, right=household_df, on='State')"
   ]
  },
  {
   "cell_type": "code",
   "execution_count": 32,
   "metadata": {},
   "outputs": [
    {
     "data": {
      "text/html": [
       "<div>\n",
       "<style scoped>\n",
       "    .dataframe tbody tr th:only-of-type {\n",
       "        vertical-align: middle;\n",
       "    }\n",
       "\n",
       "    .dataframe tbody tr th {\n",
       "        vertical-align: top;\n",
       "    }\n",
       "\n",
       "    .dataframe thead th {\n",
       "        text-align: right;\n",
       "    }\n",
       "</style>\n",
       "<table border=\"1\" class=\"dataframe\">\n",
       "  <thead>\n",
       "    <tr style=\"text-align: right;\">\n",
       "      <th></th>\n",
       "      <th>State</th>\n",
       "      <th>Unemployment</th>\n",
       "      <th>Avg Income</th>\n",
       "    </tr>\n",
       "  </thead>\n",
       "  <tbody>\n",
       "    <tr>\n",
       "      <th>0</th>\n",
       "      <td>Bremen</td>\n",
       "      <td>10.2</td>\n",
       "      <td>20724</td>\n",
       "    </tr>\n",
       "    <tr>\n",
       "      <th>1</th>\n",
       "      <td>Berlin</td>\n",
       "      <td>8.0</td>\n",
       "      <td>19719</td>\n",
       "    </tr>\n",
       "    <tr>\n",
       "      <th>2</th>\n",
       "      <td>Saxony-Anhalt</td>\n",
       "      <td>7.0</td>\n",
       "      <td>18648</td>\n",
       "    </tr>\n",
       "    <tr>\n",
       "      <th>3</th>\n",
       "      <td>Mecklenburg-Vorpommern</td>\n",
       "      <td>6.7</td>\n",
       "      <td>18299</td>\n",
       "    </tr>\n",
       "    <tr>\n",
       "      <th>4</th>\n",
       "      <td>North Rhine-Westphalia</td>\n",
       "      <td>6.6</td>\n",
       "      <td>21614</td>\n",
       "    </tr>\n",
       "  </tbody>\n",
       "</table>\n",
       "</div>"
      ],
      "text/plain": [
       "                    State  Unemployment  Avg Income\n",
       "0                  Bremen          10.2       20724\n",
       "1                  Berlin           8.0       19719\n",
       "2           Saxony-Anhalt           7.0       18648\n",
       "3  Mecklenburg-Vorpommern           6.7       18299\n",
       "4  North Rhine-Westphalia           6.6       21614"
      ]
     },
     "execution_count": 32,
     "metadata": {},
     "output_type": "execute_result"
    }
   ],
   "source": [
    "states_merged.head()"
   ]
  },
  {
   "cell_type": "markdown",
   "metadata": {},
   "source": [
    "# Now we have two Dataframe, *pop_gpd_df* and *states_merged*.\n",
    "\n",
    "Next, we are going to merge these two by State, so that two cities in the same state will have the same unemployment rate and average income per capite (since these parameters are obtained by state, and not by city)"
   ]
  },
  {
   "cell_type": "markdown",
   "metadata": {},
   "source": [
    "Let's finally merge the data"
   ]
  },
  {
   "cell_type": "code",
   "execution_count": 33,
   "metadata": {},
   "outputs": [],
   "source": [
    "cities_merged = pd.merge(left=pop_gpd_df, right=states_merged, on='State')"
   ]
  },
  {
   "cell_type": "code",
   "execution_count": 34,
   "metadata": {
    "scrolled": true
   },
   "outputs": [
    {
     "data": {
      "text/html": [
       "<div>\n",
       "<style scoped>\n",
       "    .dataframe tbody tr th:only-of-type {\n",
       "        vertical-align: middle;\n",
       "    }\n",
       "\n",
       "    .dataframe tbody tr th {\n",
       "        vertical-align: top;\n",
       "    }\n",
       "\n",
       "    .dataframe thead th {\n",
       "        text-align: right;\n",
       "    }\n",
       "</style>\n",
       "<table border=\"1\" class=\"dataframe\">\n",
       "  <thead>\n",
       "    <tr style=\"text-align: right;\">\n",
       "      <th></th>\n",
       "      <th>City</th>\n",
       "      <th>State</th>\n",
       "      <th>Population</th>\n",
       "      <th>GDP</th>\n",
       "      <th>Unemployment</th>\n",
       "      <th>Avg Income</th>\n",
       "    </tr>\n",
       "  </thead>\n",
       "  <tbody>\n",
       "    <tr>\n",
       "      <th>0</th>\n",
       "      <td>Berlin</td>\n",
       "      <td>Berlin</td>\n",
       "      <td>3520031</td>\n",
       "      <td>68906</td>\n",
       "      <td>8.0</td>\n",
       "      <td>19719</td>\n",
       "    </tr>\n",
       "    <tr>\n",
       "      <th>1</th>\n",
       "      <td>Hamburg</td>\n",
       "      <td>Hamburg</td>\n",
       "      <td>1787408</td>\n",
       "      <td>92163</td>\n",
       "      <td>6.3</td>\n",
       "      <td>24421</td>\n",
       "    </tr>\n",
       "    <tr>\n",
       "      <th>2</th>\n",
       "      <td>Munich</td>\n",
       "      <td>Bavaria</td>\n",
       "      <td>1450381</td>\n",
       "      <td>100776</td>\n",
       "      <td>2.7</td>\n",
       "      <td>24026</td>\n",
       "    </tr>\n",
       "    <tr>\n",
       "      <th>3</th>\n",
       "      <td>Nuremberg</td>\n",
       "      <td>Bavaria</td>\n",
       "      <td>509975</td>\n",
       "      <td>72379</td>\n",
       "      <td>2.7</td>\n",
       "      <td>24026</td>\n",
       "    </tr>\n",
       "    <tr>\n",
       "      <th>4</th>\n",
       "      <td>Augsburg</td>\n",
       "      <td>Bavaria</td>\n",
       "      <td>286374</td>\n",
       "      <td>72062</td>\n",
       "      <td>2.7</td>\n",
       "      <td>24026</td>\n",
       "    </tr>\n",
       "  </tbody>\n",
       "</table>\n",
       "</div>"
      ],
      "text/plain": [
       "        City    State  Population     GDP  Unemployment  Avg Income\n",
       "0     Berlin   Berlin     3520031   68906           8.0       19719\n",
       "1    Hamburg  Hamburg     1787408   92163           6.3       24421\n",
       "2     Munich  Bavaria     1450381  100776           2.7       24026\n",
       "3  Nuremberg  Bavaria      509975   72379           2.7       24026\n",
       "4   Augsburg  Bavaria      286374   72062           2.7       24026"
      ]
     },
     "execution_count": 34,
     "metadata": {},
     "output_type": "execute_result"
    }
   ],
   "source": [
    "cities_merged.head()"
   ]
  },
  {
   "cell_type": "markdown",
   "metadata": {},
   "source": [
    "Now let's compare the average income per employee and the unemployment rate to see if we can gather some insights"
   ]
  },
  {
   "cell_type": "code",
   "execution_count": 35,
   "metadata": {},
   "outputs": [
    {
     "data": {
      "text/plain": [
       "Text(0, 0.5, 'Unemployment Rate')"
      ]
     },
     "execution_count": 35,
     "metadata": {},
     "output_type": "execute_result"
    },
    {
     "data": {
      "image/png": "[encoded data removed]",
      "text/plain": [
       "<Figure size 432x288 with 1 Axes>"
      ]
     },
     "metadata": {
      "needs_background": "light"
     },
     "output_type": "display_data"
    }
   ],
   "source": [
    "import matplotlib.pyplot as plt\n",
    "\n",
    "plt.scatter(cities_merged['Avg Income'], cities_merged['Unemployment'])\n",
    "plt.xlabel('Average Income')\n",
    "plt.ylabel('Unemployment Rate')"
   ]
  },
  {
   "cell_type": "markdown",
   "metadata": {},
   "source": [
    "Despite a few outliers, we can find a pattern that shows that a low unemployment rage in negatively related to the Average income per employee."
   ]
  },
  {
   "cell_type": "markdown",
   "metadata": {},
   "source": [
    "# Now we have to gather Latitude and Longitude of each city and the number of Italian restaurants and cafès in each one of these.\n",
    "\n",
    "To do so, we use Nomatim module and Foursquare API"
   ]
  },
  {
   "cell_type": "code",
   "execution_count": 36,
   "metadata": {},
   "outputs": [],
   "source": [
    "from geopy.geocoders import Nominatim # convert an address into latitude and longitude values\n",
    "import requests # library to handle requests\n",
    "import json"
   ]
  },
  {
   "cell_type": "code",
   "execution_count": 37,
   "metadata": {},
   "outputs": [],
   "source": [
    "# define a method that returns the latitude and longitude of a city\n",
    "def get_latitude_and_longitude(city):\n",
    "    geolocator = Nominatim(user_agent=\"ny_explorer\")\n",
    "    location = geolocator.geocode(city)\n",
    "    if(location == None):\n",
    "        raise ValueError('Error! Latitude and Longitude for city address: \\'{}\\' has not been found!'.format(city)) \n",
    "    latitude = location.latitude\n",
    "    longitude = location.longitude\n",
    "    return latitude, longitude"
   ]
  },
  {
   "cell_type": "markdown",
   "metadata": {},
   "source": [
    "Next, we are going to get the list of cities from the dataframe, and we will build a list of dictionaries, in a dataframe fashion"
   ]
  },
  {
   "cell_type": "code",
   "execution_count": 38,
   "metadata": {},
   "outputs": [],
   "source": [
    "from time import sleep\n",
    "\n",
    "#get the city list from the dataframe\n",
    "city_list = cities_merged['City'].tolist()\n",
    "\n",
    "coords_list = []\n",
    "for city in city_list:\n",
    "    city_name = city + ', DE'\n",
    "    lat, lng = get_latitude_and_longitude(city_name)\n",
    "    coords_list.append({'City':city, 'Latitude': lat, 'Longitude': lng})\n",
    "    sleep(0.2) #in this way we don't overload the 'geocoder' API"
   ]
  },
  {
   "cell_type": "code",
   "execution_count": 39,
   "metadata": {},
   "outputs": [
    {
     "data": {
      "text/html": [
       "<div>\n",
       "<style scoped>\n",
       "    .dataframe tbody tr th:only-of-type {\n",
       "        vertical-align: middle;\n",
       "    }\n",
       "\n",
       "    .dataframe tbody tr th {\n",
       "        vertical-align: top;\n",
       "    }\n",
       "\n",
       "    .dataframe thead th {\n",
       "        text-align: right;\n",
       "    }\n",
       "</style>\n",
       "<table border=\"1\" class=\"dataframe\">\n",
       "  <thead>\n",
       "    <tr style=\"text-align: right;\">\n",
       "      <th></th>\n",
       "      <th>City</th>\n",
       "      <th>Latitude</th>\n",
       "      <th>Longitude</th>\n",
       "    </tr>\n",
       "  </thead>\n",
       "  <tbody>\n",
       "    <tr>\n",
       "      <th>0</th>\n",
       "      <td>Berlin</td>\n",
       "      <td>52.517037</td>\n",
       "      <td>13.388860</td>\n",
       "    </tr>\n",
       "    <tr>\n",
       "      <th>1</th>\n",
       "      <td>Hamburg</td>\n",
       "      <td>53.543764</td>\n",
       "      <td>10.009913</td>\n",
       "    </tr>\n",
       "    <tr>\n",
       "      <th>2</th>\n",
       "      <td>Munich</td>\n",
       "      <td>48.137108</td>\n",
       "      <td>11.575382</td>\n",
       "    </tr>\n",
       "    <tr>\n",
       "      <th>3</th>\n",
       "      <td>Nuremberg</td>\n",
       "      <td>49.453872</td>\n",
       "      <td>11.077298</td>\n",
       "    </tr>\n",
       "    <tr>\n",
       "      <th>4</th>\n",
       "      <td>Augsburg</td>\n",
       "      <td>48.366804</td>\n",
       "      <td>10.898697</td>\n",
       "    </tr>\n",
       "  </tbody>\n",
       "</table>\n",
       "</div>"
      ],
      "text/plain": [
       "        City   Latitude  Longitude\n",
       "0     Berlin  52.517037  13.388860\n",
       "1    Hamburg  53.543764  10.009913\n",
       "2     Munich  48.137108  11.575382\n",
       "3  Nuremberg  49.453872  11.077298\n",
       "4   Augsburg  48.366804  10.898697"
      ]
     },
     "execution_count": 39,
     "metadata": {},
     "output_type": "execute_result"
    }
   ],
   "source": [
    "geo_df = pd.DataFrame(coords_list)\n",
    "geo_df.head()"
   ]
  },
  {
   "cell_type": "code",
   "execution_count": 40,
   "metadata": {},
   "outputs": [],
   "source": [
    "CLIENT_ID = 'I5GS4YET4Q4BGGAJNQR1BIHL1K2BMIH21TG30EJOHDYO3NEO' # your Foursquare ID\n",
    "CLIENT_SECRET = 'FROGEV44ZN3T3GRPUSWIM34I202RUJ3KX2EJ4P515OWRM1HA' # your Foursquare Secret\n",
    "VERSION = '20200101' # Foursquare API version"
   ]
  },
  {
   "cell_type": "markdown",
   "metadata": {},
   "source": [
    "Let's define a function *get_number_of_venues* that takes in input the latitude and longitude of a city, contacts the Foursquare API and retrieves the total number of venues around that geographical point"
   ]
  },
  {
   "cell_type": "code",
   "execution_count": 41,
   "metadata": {},
   "outputs": [],
   "source": [
    "def get_number_of_venues(latitude, longitude, radius):\n",
    "    LIMIT = 100\n",
    "\n",
    "    url = 'https://api.foursquare.com/v2/venues/explore?&client_id={}&client_secret={}&v={}&ll={},{}&radius={}&limit={}'.format(\n",
    "        CLIENT_ID, \n",
    "        CLIENT_SECRET, \n",
    "        VERSION, \n",
    "        latitude, \n",
    "        longitude, \n",
    "        radius,\n",
    "        LIMIT)\n",
    "    \n",
    "    response = requests.get(url).json()\n",
    "    status = response['meta']['code']\n",
    "    if ( status != 200 ): \n",
    "        print('Service invocation for url:',url,'has returned status',status,'... Returning 0')\n",
    "        return 0\n",
    "    else:\n",
    "        return response['response']['totalResults']"
   ]
  },
  {
   "cell_type": "markdown",
   "metadata": {},
   "source": [
    "The function *venues_from_api* is used to obtain a list of venues from the Foursquare API and convert the json response in a list of dictionaries.\n",
    "Every venue is considered a dictionary with the following keys: Name, Category, Latitude, Longitude"
   ]
  },
  {
   "cell_type": "code",
   "execution_count": 45,
   "metadata": {},
   "outputs": [],
   "source": [
    "def venues_from_api(url):\n",
    "    venues = []\n",
    "    json_response = requests.get(url).json()\n",
    "    status = json_response['meta']['code']\n",
    "    if ( status != 200 ): \n",
    "        print('Service invocation for url:',url,'has returned status',status,'... Returning empty collection')\n",
    "        return []\n",
    "    venue_list = json_response['response']['groups'][0]['items']\n",
    "    for v in venue_list:\n",
    "        venue = v['venue']\n",
    "        name = venue['name']\n",
    "        try:\n",
    "            category = venue['categories'][0]['name']\n",
    "            venues.append({'Name':name,'Category':category})\n",
    "        except:\n",
    "            continue\n",
    "    \n",
    "    return venues"
   ]
  },
  {
   "cell_type": "markdown",
   "metadata": {},
   "source": [
    "The function *list_all_venues* takes in input the total number of venues in a city and fires a sequence of API calls to Foursquare to retrieve all the venues.\n",
    "Unfortunately, it's not possible to make one single API call and retrieve all the venues. In fact, we are going to use the 'offset' string parameter in the endpoint to page through the venue results.\n",
    "The maximum number for the 'offset' parameter is 50, so if for example a city has 210 venues, we need to make 5 API calls (0-50, 51-100, 101-150, 151-200, 201-209) changing the offset parameter."
   ]
  },
  {
   "cell_type": "code",
   "execution_count": 46,
   "metadata": {},
   "outputs": [],
   "source": [
    "def list_all_venues(total_results, latitude, longitude, radius = 800):\n",
    "    all_venues = []\n",
    "\n",
    "    OFFSET = 50\n",
    "    if(total_results < OFFSET): total_results = OFFSET\n",
    "    for i in range(0,1 + int(total_results/OFFSET)):\n",
    "        tmp_offset = i*OFFSET\n",
    "        url = 'https://api.foursquare.com/v2/venues/explore?&client_id={}&client_secret={}&v={}&ll={},{}&radius={}&limit={}&offset={}'.format(\n",
    "            CLIENT_ID, \n",
    "            CLIENT_SECRET, \n",
    "            VERSION, \n",
    "            latitude, \n",
    "            longitude, \n",
    "            radius,\n",
    "            OFFSET,\n",
    "            tmp_offset   \n",
    "        )\n",
    "\n",
    "        tmp_venues = venues_from_api(url)\n",
    "        all_venues = all_venues + tmp_venues\n",
    "    \n",
    "    return all_venues"
   ]
  },
  {
   "cell_type": "markdown",
   "metadata": {},
   "source": [
    "Now, for each city in our dataframe, we will the list of all its venues within a certain radius.\n",
    "Since we focus only on IT restaurants and cafes with 20 minutes of walking from the center, we can pick radius = 1500"
   ]
  },
  {
   "cell_type": "code",
   "execution_count": 47,
   "metadata": {},
   "outputs": [
    {
     "name": "stdout",
     "output_type": "stream",
     "text": [
      "Service invocation for url: https://api.foursquare.com/v2/venues/explore?&client_id=I5GS4YET4Q4BGGAJNQR1BIHL1K2BMIH21TG30EJOHDYO3NEO&client_secret=FROGEV44ZN3T3GRPUSWIM34I202RUJ3KX2EJ4P515OWRM1HA&v=20200101&ll=49.453872,11.077298&radius=1500&limit=50&offset=50 has returned status 500 ... Returning empty collection\n",
      "Service invocation for url: https://api.foursquare.com/v2/venues/explore?&client_id=I5GS4YET4Q4BGGAJNQR1BIHL1K2BMIH21TG30EJOHDYO3NEO&client_secret=FROGEV44ZN3T3GRPUSWIM34I202RUJ3KX2EJ4P515OWRM1HA&v=20200101&ll=49.453872,11.077298&radius=1500&limit=50&offset=100 has returned status 500 ... Returning empty collection\n"
     ]
    }
   ],
   "source": [
    "RADIUS = 1500\n",
    "\n",
    "city_amount_of_venues = []\n",
    "for city_geodata in coords_list:\n",
    "    city = city_geodata['City']\n",
    "    lat = city_geodata['Latitude']\n",
    "    lon = city_geodata['Longitude']\n",
    "    \n",
    "    num_of_IT_restaurants = 0\n",
    "    num_of_cafès = 0\n",
    "    \n",
    "    num_of_venues = get_number_of_venues(lat,lon,RADIUS)\n",
    "    city_venues = list_all_venues(num_of_venues, lat, lon, RADIUS)\n",
    "    \n",
    "    for venue in city_venues:\n",
    "        if (venue['Category'] == 'Italian Restaurant'): num_of_IT_restaurants += 1\n",
    "        if (venue['Category'] == 'Café'): num_of_cafès += 1\n",
    "    \n",
    "    city_amount_of_venues.append({'City':city, 'Num of IT Restaurants':num_of_IT_restaurants, 'Num of Cafès':num_of_cafès})"
   ]
  },
  {
   "cell_type": "code",
   "execution_count": 48,
   "metadata": {},
   "outputs": [
    {
     "data": {
      "text/html": [
       "<div>\n",
       "<style scoped>\n",
       "    .dataframe tbody tr th:only-of-type {\n",
       "        vertical-align: middle;\n",
       "    }\n",
       "\n",
       "    .dataframe tbody tr th {\n",
       "        vertical-align: top;\n",
       "    }\n",
       "\n",
       "    .dataframe thead th {\n",
       "        text-align: right;\n",
       "    }\n",
       "</style>\n",
       "<table border=\"1\" class=\"dataframe\">\n",
       "  <thead>\n",
       "    <tr style=\"text-align: right;\">\n",
       "      <th></th>\n",
       "      <th>City</th>\n",
       "      <th>Num of IT Restaurants</th>\n",
       "      <th>Num of Cafès</th>\n",
       "    </tr>\n",
       "  </thead>\n",
       "  <tbody>\n",
       "    <tr>\n",
       "      <th>0</th>\n",
       "      <td>Berlin</td>\n",
       "      <td>4</td>\n",
       "      <td>9</td>\n",
       "    </tr>\n",
       "    <tr>\n",
       "      <th>1</th>\n",
       "      <td>Hamburg</td>\n",
       "      <td>8</td>\n",
       "      <td>6</td>\n",
       "    </tr>\n",
       "    <tr>\n",
       "      <th>2</th>\n",
       "      <td>Munich</td>\n",
       "      <td>9</td>\n",
       "      <td>24</td>\n",
       "    </tr>\n",
       "    <tr>\n",
       "      <th>3</th>\n",
       "      <td>Nuremberg</td>\n",
       "      <td>3</td>\n",
       "      <td>9</td>\n",
       "    </tr>\n",
       "    <tr>\n",
       "      <th>4</th>\n",
       "      <td>Augsburg</td>\n",
       "      <td>5</td>\n",
       "      <td>5</td>\n",
       "    </tr>\n",
       "  </tbody>\n",
       "</table>\n",
       "</div>"
      ],
      "text/plain": [
       "        City  Num of IT Restaurants  Num of Cafès\n",
       "0     Berlin                      4             9\n",
       "1    Hamburg                      8             6\n",
       "2     Munich                      9            24\n",
       "3  Nuremberg                      3             9\n",
       "4   Augsburg                      5             5"
      ]
     },
     "execution_count": 48,
     "metadata": {},
     "output_type": "execute_result"
    }
   ],
   "source": [
    "venues_df = pd.DataFrame(city_amount_of_venues)\n",
    "venues_df.head()"
   ]
  },
  {
   "cell_type": "code",
   "execution_count": 49,
   "metadata": {
    "scrolled": true
   },
   "outputs": [
    {
     "data": {
      "text/html": [
       "<div>\n",
       "<style scoped>\n",
       "    .dataframe tbody tr th:only-of-type {\n",
       "        vertical-align: middle;\n",
       "    }\n",
       "\n",
       "    .dataframe tbody tr th {\n",
       "        vertical-align: top;\n",
       "    }\n",
       "\n",
       "    .dataframe thead th {\n",
       "        text-align: right;\n",
       "    }\n",
       "</style>\n",
       "<table border=\"1\" class=\"dataframe\">\n",
       "  <thead>\n",
       "    <tr style=\"text-align: right;\">\n",
       "      <th></th>\n",
       "      <th>City</th>\n",
       "      <th>State</th>\n",
       "      <th>Population</th>\n",
       "      <th>GDP</th>\n",
       "      <th>Unemployment</th>\n",
       "      <th>Avg Income</th>\n",
       "      <th>Num of IT Restaurants</th>\n",
       "      <th>Num of Cafès</th>\n",
       "    </tr>\n",
       "  </thead>\n",
       "  <tbody>\n",
       "    <tr>\n",
       "      <th>0</th>\n",
       "      <td>Berlin</td>\n",
       "      <td>Berlin</td>\n",
       "      <td>3520031</td>\n",
       "      <td>68906</td>\n",
       "      <td>8.0</td>\n",
       "      <td>19719</td>\n",
       "      <td>4</td>\n",
       "      <td>9</td>\n",
       "    </tr>\n",
       "    <tr>\n",
       "      <th>1</th>\n",
       "      <td>Hamburg</td>\n",
       "      <td>Hamburg</td>\n",
       "      <td>1787408</td>\n",
       "      <td>92163</td>\n",
       "      <td>6.3</td>\n",
       "      <td>24421</td>\n",
       "      <td>8</td>\n",
       "      <td>6</td>\n",
       "    </tr>\n",
       "    <tr>\n",
       "      <th>2</th>\n",
       "      <td>Munich</td>\n",
       "      <td>Bavaria</td>\n",
       "      <td>1450381</td>\n",
       "      <td>100776</td>\n",
       "      <td>2.7</td>\n",
       "      <td>24026</td>\n",
       "      <td>9</td>\n",
       "      <td>24</td>\n",
       "    </tr>\n",
       "    <tr>\n",
       "      <th>3</th>\n",
       "      <td>Nuremberg</td>\n",
       "      <td>Bavaria</td>\n",
       "      <td>509975</td>\n",
       "      <td>72379</td>\n",
       "      <td>2.7</td>\n",
       "      <td>24026</td>\n",
       "      <td>3</td>\n",
       "      <td>9</td>\n",
       "    </tr>\n",
       "    <tr>\n",
       "      <th>4</th>\n",
       "      <td>Augsburg</td>\n",
       "      <td>Bavaria</td>\n",
       "      <td>286374</td>\n",
       "      <td>72062</td>\n",
       "      <td>2.7</td>\n",
       "      <td>24026</td>\n",
       "      <td>5</td>\n",
       "      <td>5</td>\n",
       "    </tr>\n",
       "  </tbody>\n",
       "</table>\n",
       "</div>"
      ],
      "text/plain": [
       "        City    State  Population     GDP  Unemployment  Avg Income  \\\n",
       "0     Berlin   Berlin     3520031   68906           8.0       19719   \n",
       "1    Hamburg  Hamburg     1787408   92163           6.3       24421   \n",
       "2     Munich  Bavaria     1450381  100776           2.7       24026   \n",
       "3  Nuremberg  Bavaria      509975   72379           2.7       24026   \n",
       "4   Augsburg  Bavaria      286374   72062           2.7       24026   \n",
       "\n",
       "   Num of IT Restaurants  Num of Cafès  \n",
       "0                      4             9  \n",
       "1                      8             6  \n",
       "2                      9            24  \n",
       "3                      3             9  \n",
       "4                      5             5  "
      ]
     },
     "execution_count": 49,
     "metadata": {},
     "output_type": "execute_result"
    }
   ],
   "source": [
    "final_df = pd.merge(left=cities_merged, right=venues_df, on='City')\n",
    "final_df.head()"
   ]
  },
  {
   "cell_type": "markdown",
   "metadata": {},
   "source": [
    "Finally, we gathered all the data we needed!"
   ]
  },
  {
   "cell_type": "markdown",
   "metadata": {},
   "source": [
    "# Now we are going to multiply the features we're interested in with the Wish Matrix we defined at the beginning.\n",
    "\n",
    "The output index will be added to the dataframe"
   ]
  },
  {
   "cell_type": "raw",
   "metadata": {},
   "source": [
    "Wish Matrix\n",
    "\n",
    "Requirement             | Weight | Correlation bit      |    Final weight\n",
    "--------------------------------------------------------------------------\n",
    "Number of citizens            0,7                     +1     0,7 * 1 = 0,7\n",
    "IT restaurants / cafès        0,5                     +1     0,5 * 1 = 0,5\n",
    "Unemployment rate             0,9                     -1   0,9 * -1 = -0,9\n",
    "Wealth index                  0,8                     +1     0,8 * 1 = 0,8"
   ]
  },
  {
   "cell_type": "markdown",
   "metadata": {},
   "source": [
    "Before computing the index that takes in consideration all of the variables obtained until now, we have to normalize the data.\n",
    "We will use the Simple Feature Scaling approach (new value = old value / max value)"
   ]
  },
  {
   "cell_type": "code",
   "execution_count": 50,
   "metadata": {},
   "outputs": [],
   "source": [
    "#we create a copy of final_df first\n",
    "normalized_df = final_df.copy()"
   ]
  },
  {
   "cell_type": "code",
   "execution_count": 51,
   "metadata": {},
   "outputs": [],
   "source": [
    "normalized_df['Population'] = normalized_df['Population']/normalized_df['Population'].max()\n",
    "normalized_df['GDP'] = normalized_df['GDP']/normalized_df['GDP'].max()\n",
    "normalized_df['Unemployment'] = normalized_df['Unemployment']/normalized_df['Unemployment'].max()\n",
    "normalized_df['Avg Income'] = normalized_df['Avg Income']/normalized_df['Avg Income'].max()\n",
    "normalized_df['Num of IT Restaurants'] = normalized_df['Num of IT Restaurants']/normalized_df['Num of IT Restaurants'].max()\n",
    "normalized_df['Num of Cafès'] = normalized_df['Num of Cafès']/normalized_df['Num of Cafès'].max()"
   ]
  },
  {
   "cell_type": "code",
   "execution_count": 52,
   "metadata": {},
   "outputs": [
    {
     "data": {
      "text/html": [
       "<div>\n",
       "<style scoped>\n",
       "    .dataframe tbody tr th:only-of-type {\n",
       "        vertical-align: middle;\n",
       "    }\n",
       "\n",
       "    .dataframe tbody tr th {\n",
       "        vertical-align: top;\n",
       "    }\n",
       "\n",
       "    .dataframe thead th {\n",
       "        text-align: right;\n",
       "    }\n",
       "</style>\n",
       "<table border=\"1\" class=\"dataframe\">\n",
       "  <thead>\n",
       "    <tr style=\"text-align: right;\">\n",
       "      <th></th>\n",
       "      <th>City</th>\n",
       "      <th>State</th>\n",
       "      <th>Population</th>\n",
       "      <th>GDP</th>\n",
       "      <th>Unemployment</th>\n",
       "      <th>Avg Income</th>\n",
       "      <th>Num of IT Restaurants</th>\n",
       "      <th>Num of Cafès</th>\n",
       "    </tr>\n",
       "  </thead>\n",
       "  <tbody>\n",
       "    <tr>\n",
       "      <th>0</th>\n",
       "      <td>Berlin</td>\n",
       "      <td>Berlin</td>\n",
       "      <td>1.000000</td>\n",
       "      <td>0.404815</td>\n",
       "      <td>0.784314</td>\n",
       "      <td>0.807461</td>\n",
       "      <td>0.266667</td>\n",
       "      <td>0.375000</td>\n",
       "    </tr>\n",
       "    <tr>\n",
       "      <th>1</th>\n",
       "      <td>Hamburg</td>\n",
       "      <td>Hamburg</td>\n",
       "      <td>0.507782</td>\n",
       "      <td>0.541447</td>\n",
       "      <td>0.617647</td>\n",
       "      <td>1.000000</td>\n",
       "      <td>0.533333</td>\n",
       "      <td>0.250000</td>\n",
       "    </tr>\n",
       "    <tr>\n",
       "      <th>2</th>\n",
       "      <td>Munich</td>\n",
       "      <td>Bavaria</td>\n",
       "      <td>0.412036</td>\n",
       "      <td>0.592048</td>\n",
       "      <td>0.264706</td>\n",
       "      <td>0.983825</td>\n",
       "      <td>0.600000</td>\n",
       "      <td>1.000000</td>\n",
       "    </tr>\n",
       "    <tr>\n",
       "      <th>3</th>\n",
       "      <td>Nuremberg</td>\n",
       "      <td>Bavaria</td>\n",
       "      <td>0.144878</td>\n",
       "      <td>0.425219</td>\n",
       "      <td>0.264706</td>\n",
       "      <td>0.983825</td>\n",
       "      <td>0.200000</td>\n",
       "      <td>0.375000</td>\n",
       "    </tr>\n",
       "    <tr>\n",
       "      <th>4</th>\n",
       "      <td>Augsburg</td>\n",
       "      <td>Bavaria</td>\n",
       "      <td>0.081356</td>\n",
       "      <td>0.423356</td>\n",
       "      <td>0.264706</td>\n",
       "      <td>0.983825</td>\n",
       "      <td>0.333333</td>\n",
       "      <td>0.208333</td>\n",
       "    </tr>\n",
       "  </tbody>\n",
       "</table>\n",
       "</div>"
      ],
      "text/plain": [
       "        City    State  Population       GDP  Unemployment  Avg Income  \\\n",
       "0     Berlin   Berlin    1.000000  0.404815      0.784314    0.807461   \n",
       "1    Hamburg  Hamburg    0.507782  0.541447      0.617647    1.000000   \n",
       "2     Munich  Bavaria    0.412036  0.592048      0.264706    0.983825   \n",
       "3  Nuremberg  Bavaria    0.144878  0.425219      0.264706    0.983825   \n",
       "4   Augsburg  Bavaria    0.081356  0.423356      0.264706    0.983825   \n",
       "\n",
       "   Num of IT Restaurants  Num of Cafès  \n",
       "0               0.266667      0.375000  \n",
       "1               0.533333      0.250000  \n",
       "2               0.600000      1.000000  \n",
       "3               0.200000      0.375000  \n",
       "4               0.333333      0.208333  "
      ]
     },
     "execution_count": 52,
     "metadata": {},
     "output_type": "execute_result"
    }
   ],
   "source": [
    "normalized_df.head()"
   ]
  },
  {
   "cell_type": "markdown",
   "metadata": {},
   "source": [
    "Now we compute the global Score index of each city"
   ]
  },
  {
   "cell_type": "code",
   "execution_count": 53,
   "metadata": {},
   "outputs": [],
   "source": [
    "normalized_df['Score'] = normalized_df['Population']*0.7 + normalized_df['Num of IT Restaurants']*0.5 + normalized_df['Num of Cafès']*0.5 \\\n",
    "            - normalized_df['Unemployment']*0.9 + normalized_df['GDP']*0.8 + normalized_df['Avg Income']*0.8"
   ]
  },
  {
   "cell_type": "code",
   "execution_count": 54,
   "metadata": {},
   "outputs": [
    {
     "data": {
      "text/html": [
       "<div>\n",
       "<style scoped>\n",
       "    .dataframe tbody tr th:only-of-type {\n",
       "        vertical-align: middle;\n",
       "    }\n",
       "\n",
       "    .dataframe tbody tr th {\n",
       "        vertical-align: top;\n",
       "    }\n",
       "\n",
       "    .dataframe thead th {\n",
       "        text-align: right;\n",
       "    }\n",
       "</style>\n",
       "<table border=\"1\" class=\"dataframe\">\n",
       "  <thead>\n",
       "    <tr style=\"text-align: right;\">\n",
       "      <th></th>\n",
       "      <th>City</th>\n",
       "      <th>State</th>\n",
       "      <th>Population</th>\n",
       "      <th>GDP</th>\n",
       "      <th>Unemployment</th>\n",
       "      <th>Avg Income</th>\n",
       "      <th>Num of IT Restaurants</th>\n",
       "      <th>Num of Cafès</th>\n",
       "      <th>Score</th>\n",
       "    </tr>\n",
       "  </thead>\n",
       "  <tbody>\n",
       "    <tr>\n",
       "      <th>0</th>\n",
       "      <td>Berlin</td>\n",
       "      <td>Berlin</td>\n",
       "      <td>1.000000</td>\n",
       "      <td>0.404815</td>\n",
       "      <td>0.784314</td>\n",
       "      <td>0.807461</td>\n",
       "      <td>0.266667</td>\n",
       "      <td>0.375000</td>\n",
       "      <td>1.284772</td>\n",
       "    </tr>\n",
       "    <tr>\n",
       "      <th>1</th>\n",
       "      <td>Hamburg</td>\n",
       "      <td>Hamburg</td>\n",
       "      <td>0.507782</td>\n",
       "      <td>0.541447</td>\n",
       "      <td>0.617647</td>\n",
       "      <td>1.000000</td>\n",
       "      <td>0.533333</td>\n",
       "      <td>0.250000</td>\n",
       "      <td>1.424390</td>\n",
       "    </tr>\n",
       "    <tr>\n",
       "      <th>2</th>\n",
       "      <td>Munich</td>\n",
       "      <td>Bavaria</td>\n",
       "      <td>0.412036</td>\n",
       "      <td>0.592048</td>\n",
       "      <td>0.264706</td>\n",
       "      <td>0.983825</td>\n",
       "      <td>0.600000</td>\n",
       "      <td>1.000000</td>\n",
       "      <td>2.110889</td>\n",
       "    </tr>\n",
       "    <tr>\n",
       "      <th>3</th>\n",
       "      <td>Nuremberg</td>\n",
       "      <td>Bavaria</td>\n",
       "      <td>0.144878</td>\n",
       "      <td>0.425219</td>\n",
       "      <td>0.264706</td>\n",
       "      <td>0.983825</td>\n",
       "      <td>0.200000</td>\n",
       "      <td>0.375000</td>\n",
       "      <td>1.277914</td>\n",
       "    </tr>\n",
       "    <tr>\n",
       "      <th>4</th>\n",
       "      <td>Augsburg</td>\n",
       "      <td>Bavaria</td>\n",
       "      <td>0.081356</td>\n",
       "      <td>0.423356</td>\n",
       "      <td>0.264706</td>\n",
       "      <td>0.983825</td>\n",
       "      <td>0.333333</td>\n",
       "      <td>0.208333</td>\n",
       "      <td>1.215292</td>\n",
       "    </tr>\n",
       "  </tbody>\n",
       "</table>\n",
       "</div>"
      ],
      "text/plain": [
       "        City    State  Population       GDP  Unemployment  Avg Income  \\\n",
       "0     Berlin   Berlin    1.000000  0.404815      0.784314    0.807461   \n",
       "1    Hamburg  Hamburg    0.507782  0.541447      0.617647    1.000000   \n",
       "2     Munich  Bavaria    0.412036  0.592048      0.264706    0.983825   \n",
       "3  Nuremberg  Bavaria    0.144878  0.425219      0.264706    0.983825   \n",
       "4   Augsburg  Bavaria    0.081356  0.423356      0.264706    0.983825   \n",
       "\n",
       "   Num of IT Restaurants  Num of Cafès     Score  \n",
       "0               0.266667      0.375000  1.284772  \n",
       "1               0.533333      0.250000  1.424390  \n",
       "2               0.600000      1.000000  2.110889  \n",
       "3               0.200000      0.375000  1.277914  \n",
       "4               0.333333      0.208333  1.215292  "
      ]
     },
     "execution_count": 54,
     "metadata": {},
     "output_type": "execute_result"
    }
   ],
   "source": [
    "normalized_df.head()"
   ]
  },
  {
   "cell_type": "markdown",
   "metadata": {},
   "source": [
    "Let's order the dataframe based on the Score index"
   ]
  },
  {
   "cell_type": "code",
   "execution_count": 55,
   "metadata": {},
   "outputs": [
    {
     "data": {
      "text/html": [
       "<div>\n",
       "<style scoped>\n",
       "    .dataframe tbody tr th:only-of-type {\n",
       "        vertical-align: middle;\n",
       "    }\n",
       "\n",
       "    .dataframe tbody tr th {\n",
       "        vertical-align: top;\n",
       "    }\n",
       "\n",
       "    .dataframe thead th {\n",
       "        text-align: right;\n",
       "    }\n",
       "</style>\n",
       "<table border=\"1\" class=\"dataframe\">\n",
       "  <thead>\n",
       "    <tr style=\"text-align: right;\">\n",
       "      <th></th>\n",
       "      <th>City</th>\n",
       "      <th>State</th>\n",
       "      <th>Population</th>\n",
       "      <th>GDP</th>\n",
       "      <th>Unemployment</th>\n",
       "      <th>Avg Income</th>\n",
       "      <th>Num of IT Restaurants</th>\n",
       "      <th>Num of Cafès</th>\n",
       "      <th>Score</th>\n",
       "    </tr>\n",
       "  </thead>\n",
       "  <tbody>\n",
       "    <tr>\n",
       "      <th>2</th>\n",
       "      <td>Munich</td>\n",
       "      <td>Bavaria</td>\n",
       "      <td>0.412036</td>\n",
       "      <td>0.592048</td>\n",
       "      <td>0.264706</td>\n",
       "      <td>0.983825</td>\n",
       "      <td>0.600000</td>\n",
       "      <td>1.000000</td>\n",
       "      <td>2.110889</td>\n",
       "    </tr>\n",
       "    <tr>\n",
       "      <th>38</th>\n",
       "      <td>Stuttgart</td>\n",
       "      <td>Baden-Württemberg</td>\n",
       "      <td>0.177197</td>\n",
       "      <td>0.583441</td>\n",
       "      <td>0.303922</td>\n",
       "      <td>0.980590</td>\n",
       "      <td>1.000000</td>\n",
       "      <td>0.750000</td>\n",
       "      <td>1.976734</td>\n",
       "    </tr>\n",
       "    <tr>\n",
       "      <th>6</th>\n",
       "      <td>Ingolstadt</td>\n",
       "      <td>Bavaria</td>\n",
       "      <td>0.037624</td>\n",
       "      <td>0.797363</td>\n",
       "      <td>0.264706</td>\n",
       "      <td>0.983825</td>\n",
       "      <td>0.466667</td>\n",
       "      <td>0.375000</td>\n",
       "      <td>1.633886</td>\n",
       "    </tr>\n",
       "    <tr>\n",
       "      <th>33</th>\n",
       "      <td>Frankfurt am Main</td>\n",
       "      <td>Hesse</td>\n",
       "      <td>0.208148</td>\n",
       "      <td>0.570910</td>\n",
       "      <td>0.441176</td>\n",
       "      <td>0.919455</td>\n",
       "      <td>0.466667</td>\n",
       "      <td>0.875000</td>\n",
       "      <td>1.611770</td>\n",
       "    </tr>\n",
       "    <tr>\n",
       "      <th>40</th>\n",
       "      <td>Mannheim</td>\n",
       "      <td>Baden-Württemberg</td>\n",
       "      <td>0.086869</td>\n",
       "      <td>0.475983</td>\n",
       "      <td>0.303922</td>\n",
       "      <td>0.980590</td>\n",
       "      <td>0.400000</td>\n",
       "      <td>0.625000</td>\n",
       "      <td>1.465038</td>\n",
       "    </tr>\n",
       "    <tr>\n",
       "      <th>...</th>\n",
       "      <td>...</td>\n",
       "      <td>...</td>\n",
       "      <td>...</td>\n",
       "      <td>...</td>\n",
       "      <td>...</td>\n",
       "      <td>...</td>\n",
       "      <td>...</td>\n",
       "      <td>...</td>\n",
       "      <td>...</td>\n",
       "    </tr>\n",
       "    <tr>\n",
       "      <th>30</th>\n",
       "      <td>Herne</td>\n",
       "      <td>North Rhine-Westphalia</td>\n",
       "      <td>0.044275</td>\n",
       "      <td>0.340526</td>\n",
       "      <td>0.647059</td>\n",
       "      <td>0.885058</td>\n",
       "      <td>0.133333</td>\n",
       "      <td>0.000000</td>\n",
       "      <td>0.495774</td>\n",
       "    </tr>\n",
       "    <tr>\n",
       "      <th>31</th>\n",
       "      <td>Bottrop</td>\n",
       "      <td>North Rhine-Westphalia</td>\n",
       "      <td>0.033279</td>\n",
       "      <td>0.306887</td>\n",
       "      <td>0.647059</td>\n",
       "      <td>0.885058</td>\n",
       "      <td>0.000000</td>\n",
       "      <td>0.166667</td>\n",
       "      <td>0.477831</td>\n",
       "    </tr>\n",
       "    <tr>\n",
       "      <th>32</th>\n",
       "      <td>Remscheid</td>\n",
       "      <td>North Rhine-Westphalia</td>\n",
       "      <td>0.031107</td>\n",
       "      <td>0.379806</td>\n",
       "      <td>0.647059</td>\n",
       "      <td>0.885058</td>\n",
       "      <td>0.000000</td>\n",
       "      <td>0.041667</td>\n",
       "      <td>0.472146</td>\n",
       "    </tr>\n",
       "    <tr>\n",
       "      <th>49</th>\n",
       "      <td>Bremen</td>\n",
       "      <td>Bremen</td>\n",
       "      <td>0.158369</td>\n",
       "      <td>0.462577</td>\n",
       "      <td>1.000000</td>\n",
       "      <td>0.848614</td>\n",
       "      <td>0.200000</td>\n",
       "      <td>0.208333</td>\n",
       "      <td>0.463978</td>\n",
       "    </tr>\n",
       "    <tr>\n",
       "      <th>50</th>\n",
       "      <td>Bremerhaven</td>\n",
       "      <td>Bremen</td>\n",
       "      <td>0.032393</td>\n",
       "      <td>0.339751</td>\n",
       "      <td>1.000000</td>\n",
       "      <td>0.848614</td>\n",
       "      <td>0.000000</td>\n",
       "      <td>0.083333</td>\n",
       "      <td>0.115034</td>\n",
       "    </tr>\n",
       "  </tbody>\n",
       "</table>\n",
       "<p>68 rows × 9 columns</p>\n",
       "</div>"
      ],
      "text/plain": [
       "                 City                   State  Population       GDP  \\\n",
       "2              Munich                 Bavaria    0.412036  0.592048   \n",
       "38          Stuttgart       Baden-Württemberg    0.177197  0.583441   \n",
       "6          Ingolstadt                 Bavaria    0.037624  0.797363   \n",
       "33  Frankfurt am Main                   Hesse    0.208148  0.570910   \n",
       "40           Mannheim       Baden-Württemberg    0.086869  0.475983   \n",
       "..                ...                     ...         ...       ...   \n",
       "30              Herne  North Rhine-Westphalia    0.044275  0.340526   \n",
       "31            Bottrop  North Rhine-Westphalia    0.033279  0.306887   \n",
       "32          Remscheid  North Rhine-Westphalia    0.031107  0.379806   \n",
       "49             Bremen                  Bremen    0.158369  0.462577   \n",
       "50        Bremerhaven                  Bremen    0.032393  0.339751   \n",
       "\n",
       "    Unemployment  Avg Income  Num of IT Restaurants  Num of Cafès     Score  \n",
       "2       0.264706    0.983825               0.600000      1.000000  2.110889  \n",
       "38      0.303922    0.980590               1.000000      0.750000  1.976734  \n",
       "6       0.264706    0.983825               0.466667      0.375000  1.633886  \n",
       "33      0.441176    0.919455               0.466667      0.875000  1.611770  \n",
       "40      0.303922    0.980590               0.400000      0.625000  1.465038  \n",
       "..           ...         ...                    ...           ...       ...  \n",
       "30      0.647059    0.885058               0.133333      0.000000  0.495774  \n",
       "31      0.647059    0.885058               0.000000      0.166667  0.477831  \n",
       "32      0.647059    0.885058               0.000000      0.041667  0.472146  \n",
       "49      1.000000    0.848614               0.200000      0.208333  0.463978  \n",
       "50      1.000000    0.848614               0.000000      0.083333  0.115034  \n",
       "\n",
       "[68 rows x 9 columns]"
      ]
     },
     "execution_count": 55,
     "metadata": {},
     "output_type": "execute_result"
    }
   ],
   "source": [
    "normalized_df.sort_values('Score', ascending=False)"
   ]
  },
  {
   "cell_type": "markdown",
   "metadata": {},
   "source": [
    "Now we use matplotlib to create a bar chart that we can use to illustrate what we just obtained.\n",
    "We will show only the best 20 cities."
   ]
  },
  {
   "cell_type": "code",
   "execution_count": 56,
   "metadata": {},
   "outputs": [
    {
     "data": {
      "image/png": "[encoded data removed]",
      "text/plain": [
       "<Figure size 432x288 with 1 Axes>"
      ]
     },
     "metadata": {
      "needs_background": "light"
     },
     "output_type": "display_data"
    }
   ],
   "source": [
    "normalized_df.sort_values('Score', ascending=True).tail(20) \\\n",
    "    .plot.barh(x='City', y='Score', title=\"Total Score Index of Cities for relocating and living in Germany\");"
   ]
  },
  {
   "cell_type": "markdown",
   "metadata": {},
   "source": [
    "# Clustering the German cities and visualize a clustered map"
   ]
  },
  {
   "cell_type": "markdown",
   "metadata": {},
   "source": [
    "Using the k-means algorithm we are going to cluster the candidates cities to relocate to."
   ]
  },
  {
   "cell_type": "markdown",
   "metadata": {},
   "source": [
    "Now we're going to create a new dataframe where cities are going to be indexes, and the rest will be populated with input parameters only (Population, GDP,\tUnemployment, Avg Income, Num of IT Restaurants and Num of Cafès)"
   ]
  },
  {
   "cell_type": "code",
   "execution_count": 57,
   "metadata": {
    "scrolled": true
   },
   "outputs": [
    {
     "data": {
      "text/html": [
       "<div>\n",
       "<style scoped>\n",
       "    .dataframe tbody tr th:only-of-type {\n",
       "        vertical-align: middle;\n",
       "    }\n",
       "\n",
       "    .dataframe tbody tr th {\n",
       "        vertical-align: top;\n",
       "    }\n",
       "\n",
       "    .dataframe thead th {\n",
       "        text-align: right;\n",
       "    }\n",
       "</style>\n",
       "<table border=\"1\" class=\"dataframe\">\n",
       "  <thead>\n",
       "    <tr style=\"text-align: right;\">\n",
       "      <th></th>\n",
       "      <th>Population</th>\n",
       "      <th>GDP</th>\n",
       "      <th>Unemployment</th>\n",
       "      <th>Avg Income</th>\n",
       "      <th>Num of IT Restaurants</th>\n",
       "      <th>Num of Cafès</th>\n",
       "    </tr>\n",
       "    <tr>\n",
       "      <th>City</th>\n",
       "      <th></th>\n",
       "      <th></th>\n",
       "      <th></th>\n",
       "      <th></th>\n",
       "      <th></th>\n",
       "      <th></th>\n",
       "    </tr>\n",
       "  </thead>\n",
       "  <tbody>\n",
       "    <tr>\n",
       "      <th>Berlin</th>\n",
       "      <td>1.000000</td>\n",
       "      <td>0.404815</td>\n",
       "      <td>0.784314</td>\n",
       "      <td>0.807461</td>\n",
       "      <td>0.266667</td>\n",
       "      <td>0.375000</td>\n",
       "    </tr>\n",
       "    <tr>\n",
       "      <th>Hamburg</th>\n",
       "      <td>0.507782</td>\n",
       "      <td>0.541447</td>\n",
       "      <td>0.617647</td>\n",
       "      <td>1.000000</td>\n",
       "      <td>0.533333</td>\n",
       "      <td>0.250000</td>\n",
       "    </tr>\n",
       "    <tr>\n",
       "      <th>Munich</th>\n",
       "      <td>0.412036</td>\n",
       "      <td>0.592048</td>\n",
       "      <td>0.264706</td>\n",
       "      <td>0.983825</td>\n",
       "      <td>0.600000</td>\n",
       "      <td>1.000000</td>\n",
       "    </tr>\n",
       "    <tr>\n",
       "      <th>Nuremberg</th>\n",
       "      <td>0.144878</td>\n",
       "      <td>0.425219</td>\n",
       "      <td>0.264706</td>\n",
       "      <td>0.983825</td>\n",
       "      <td>0.200000</td>\n",
       "      <td>0.375000</td>\n",
       "    </tr>\n",
       "    <tr>\n",
       "      <th>Augsburg</th>\n",
       "      <td>0.081356</td>\n",
       "      <td>0.423356</td>\n",
       "      <td>0.264706</td>\n",
       "      <td>0.983825</td>\n",
       "      <td>0.333333</td>\n",
       "      <td>0.208333</td>\n",
       "    </tr>\n",
       "  </tbody>\n",
       "</table>\n",
       "</div>"
      ],
      "text/plain": [
       "           Population       GDP  Unemployment  Avg Income  \\\n",
       "City                                                        \n",
       "Berlin       1.000000  0.404815      0.784314    0.807461   \n",
       "Hamburg      0.507782  0.541447      0.617647    1.000000   \n",
       "Munich       0.412036  0.592048      0.264706    0.983825   \n",
       "Nuremberg    0.144878  0.425219      0.264706    0.983825   \n",
       "Augsburg     0.081356  0.423356      0.264706    0.983825   \n",
       "\n",
       "           Num of IT Restaurants  Num of Cafès  \n",
       "City                                            \n",
       "Berlin                  0.266667      0.375000  \n",
       "Hamburg                 0.533333      0.250000  \n",
       "Munich                  0.600000      1.000000  \n",
       "Nuremberg               0.200000      0.375000  \n",
       "Augsburg                0.333333      0.208333  "
      ]
     },
     "execution_count": 57,
     "metadata": {},
     "output_type": "execute_result"
    }
   ],
   "source": [
    "df_for_clustering = normalized_df.copy()\n",
    "df_for_clustering.drop(['State','Score'],axis=1, inplace = True)\n",
    "df_for_clustering = df_for_clustering.set_index('City')\n",
    "df_for_clustering.head()"
   ]
  },
  {
   "cell_type": "markdown",
   "metadata": {},
   "source": [
    "Let's try clustering the data with 7 clusters"
   ]
  },
  {
   "cell_type": "code",
   "execution_count": 58,
   "metadata": {},
   "outputs": [],
   "source": [
    "from sklearn.cluster import KMeans"
   ]
  },
  {
   "cell_type": "code",
   "execution_count": 59,
   "metadata": {},
   "outputs": [
    {
     "data": {
      "text/plain": [
       "array([4, 1, 2, 0, 0, 0, 6, 0, 0, 0])"
      ]
     },
     "execution_count": 59,
     "metadata": {},
     "output_type": "execute_result"
    }
   ],
   "source": [
    "# set number of clusters\n",
    "clusters = 7\n",
    "\n",
    "# run k-means clustering\n",
    "kmeans = KMeans(n_clusters=clusters, random_state=0).fit(df_for_clustering)\n",
    "\n",
    "# check cluster labels generated for each row in the dataframe\n",
    "kmeans.labels_[0:10] "
   ]
  },
  {
   "cell_type": "markdown",
   "metadata": {},
   "source": [
    "Optimize the number of clusters using the elbow method"
   ]
  },
  {
   "cell_type": "code",
   "execution_count": 60,
   "metadata": {},
   "outputs": [
    {
     "data": {
      "image/png": "[encoded data removed]",
      "text/plain": [
       "<Figure size 576x576 with 1 Axes>"
      ]
     },
     "metadata": {
      "needs_background": "light"
     },
     "output_type": "display_data"
    }
   ],
   "source": [
    "cost =[] \n",
    "for i in range(1, 10): \n",
    "    KM = KMeans(n_clusters=i, max_iter = 100).fit(df_for_clustering)\n",
    "    \n",
    "    # calculates squared error for the clustered points \n",
    "    cost.append(KM.inertia_)      \n",
    "  \n",
    "# plot the cost against K values \n",
    "%matplotlib inline\n",
    "plt.rcParams['figure.figsize'] = [8, 8]\n",
    "plt.rcParams.update({'font.size': 10})\n",
    "plt.title('Elbow Method to decide K cluster value')\n",
    "plt.plot(range(1, 10), cost, color ='g', linewidth ='1') \n",
    "plt.xlabel(\"Value of K\") \n",
    "plt.ylabel(\"Sqaured Error (Cost)\") \n",
    "plt.show()\n"
   ]
  },
  {
   "cell_type": "markdown",
   "metadata": {},
   "source": [
    "As we can see, it's a bit tricky to find the best K parameter.\n",
    "We have 2 options: 4 or 8\n",
    "\n",
    "Since having 8 clusters gives us no more information than having 4 (given our business problem), we will stick with 4"
   ]
  },
  {
   "cell_type": "code",
   "execution_count": 61,
   "metadata": {},
   "outputs": [
    {
     "data": {
      "text/html": [
       "<div>\n",
       "<style scoped>\n",
       "    .dataframe tbody tr th:only-of-type {\n",
       "        vertical-align: middle;\n",
       "    }\n",
       "\n",
       "    .dataframe tbody tr th {\n",
       "        vertical-align: top;\n",
       "    }\n",
       "\n",
       "    .dataframe thead th {\n",
       "        text-align: right;\n",
       "    }\n",
       "</style>\n",
       "<table border=\"1\" class=\"dataframe\">\n",
       "  <thead>\n",
       "    <tr style=\"text-align: right;\">\n",
       "      <th></th>\n",
       "      <th>City</th>\n",
       "      <th>Cluster Labels</th>\n",
       "      <th>Population</th>\n",
       "      <th>GDP</th>\n",
       "      <th>Unemployment</th>\n",
       "      <th>Avg Income</th>\n",
       "      <th>Num of IT Restaurants</th>\n",
       "      <th>Num of Cafès</th>\n",
       "    </tr>\n",
       "  </thead>\n",
       "  <tbody>\n",
       "    <tr>\n",
       "      <th>0</th>\n",
       "      <td>Berlin</td>\n",
       "      <td>2</td>\n",
       "      <td>1.000000</td>\n",
       "      <td>0.404815</td>\n",
       "      <td>0.784314</td>\n",
       "      <td>0.807461</td>\n",
       "      <td>0.266667</td>\n",
       "      <td>0.375000</td>\n",
       "    </tr>\n",
       "    <tr>\n",
       "      <th>1</th>\n",
       "      <td>Hamburg</td>\n",
       "      <td>2</td>\n",
       "      <td>0.507782</td>\n",
       "      <td>0.541447</td>\n",
       "      <td>0.617647</td>\n",
       "      <td>1.000000</td>\n",
       "      <td>0.533333</td>\n",
       "      <td>0.250000</td>\n",
       "    </tr>\n",
       "    <tr>\n",
       "      <th>2</th>\n",
       "      <td>Munich</td>\n",
       "      <td>3</td>\n",
       "      <td>0.412036</td>\n",
       "      <td>0.592048</td>\n",
       "      <td>0.264706</td>\n",
       "      <td>0.983825</td>\n",
       "      <td>0.600000</td>\n",
       "      <td>1.000000</td>\n",
       "    </tr>\n",
       "    <tr>\n",
       "      <th>3</th>\n",
       "      <td>Nuremberg</td>\n",
       "      <td>1</td>\n",
       "      <td>0.144878</td>\n",
       "      <td>0.425219</td>\n",
       "      <td>0.264706</td>\n",
       "      <td>0.983825</td>\n",
       "      <td>0.200000</td>\n",
       "      <td>0.375000</td>\n",
       "    </tr>\n",
       "    <tr>\n",
       "      <th>4</th>\n",
       "      <td>Augsburg</td>\n",
       "      <td>1</td>\n",
       "      <td>0.081356</td>\n",
       "      <td>0.423356</td>\n",
       "      <td>0.264706</td>\n",
       "      <td>0.983825</td>\n",
       "      <td>0.333333</td>\n",
       "      <td>0.208333</td>\n",
       "    </tr>\n",
       "  </tbody>\n",
       "</table>\n",
       "</div>"
      ],
      "text/plain": [
       "        City  Cluster Labels  Population       GDP  Unemployment  Avg Income  \\\n",
       "0     Berlin               2    1.000000  0.404815      0.784314    0.807461   \n",
       "1    Hamburg               2    0.507782  0.541447      0.617647    1.000000   \n",
       "2     Munich               3    0.412036  0.592048      0.264706    0.983825   \n",
       "3  Nuremberg               1    0.144878  0.425219      0.264706    0.983825   \n",
       "4   Augsburg               1    0.081356  0.423356      0.264706    0.983825   \n",
       "\n",
       "   Num of IT Restaurants  Num of Cafès  \n",
       "0               0.266667      0.375000  \n",
       "1               0.533333      0.250000  \n",
       "2               0.600000      1.000000  \n",
       "3               0.200000      0.375000  \n",
       "4               0.333333      0.208333  "
      ]
     },
     "execution_count": 61,
     "metadata": {},
     "output_type": "execute_result"
    }
   ],
   "source": [
    "OPTIMAL_CLUSTERS = 4\n",
    "\n",
    "# run k-means clustering\n",
    "kmeans = KMeans(n_clusters=OPTIMAL_CLUSTERS, random_state=0).fit(df_for_clustering)\n",
    "\n",
    "df_for_clustering.insert(0, 'Cluster Labels', kmeans.labels_)\n",
    "df_for_clustering.reset_index(inplace=True)\n",
    "df_for_clustering.head() "
   ]
  },
  {
   "cell_type": "markdown",
   "metadata": {},
   "source": [
    "Let's merge this dataframe with the geo_df dataframe containing latitude and longitude of each city"
   ]
  },
  {
   "cell_type": "code",
   "execution_count": 62,
   "metadata": {},
   "outputs": [
    {
     "data": {
      "text/html": [
       "<div>\n",
       "<style scoped>\n",
       "    .dataframe tbody tr th:only-of-type {\n",
       "        vertical-align: middle;\n",
       "    }\n",
       "\n",
       "    .dataframe tbody tr th {\n",
       "        vertical-align: top;\n",
       "    }\n",
       "\n",
       "    .dataframe thead th {\n",
       "        text-align: right;\n",
       "    }\n",
       "</style>\n",
       "<table border=\"1\" class=\"dataframe\">\n",
       "  <thead>\n",
       "    <tr style=\"text-align: right;\">\n",
       "      <th></th>\n",
       "      <th>City</th>\n",
       "      <th>Cluster Labels</th>\n",
       "      <th>Population</th>\n",
       "      <th>GDP</th>\n",
       "      <th>Unemployment</th>\n",
       "      <th>Avg Income</th>\n",
       "      <th>Num of IT Restaurants</th>\n",
       "      <th>Num of Cafès</th>\n",
       "      <th>Latitude</th>\n",
       "      <th>Longitude</th>\n",
       "    </tr>\n",
       "  </thead>\n",
       "  <tbody>\n",
       "    <tr>\n",
       "      <th>0</th>\n",
       "      <td>Berlin</td>\n",
       "      <td>2</td>\n",
       "      <td>1.000000</td>\n",
       "      <td>0.404815</td>\n",
       "      <td>0.784314</td>\n",
       "      <td>0.807461</td>\n",
       "      <td>0.266667</td>\n",
       "      <td>0.375000</td>\n",
       "      <td>52.517037</td>\n",
       "      <td>13.388860</td>\n",
       "    </tr>\n",
       "    <tr>\n",
       "      <th>1</th>\n",
       "      <td>Hamburg</td>\n",
       "      <td>2</td>\n",
       "      <td>0.507782</td>\n",
       "      <td>0.541447</td>\n",
       "      <td>0.617647</td>\n",
       "      <td>1.000000</td>\n",
       "      <td>0.533333</td>\n",
       "      <td>0.250000</td>\n",
       "      <td>53.543764</td>\n",
       "      <td>10.009913</td>\n",
       "    </tr>\n",
       "    <tr>\n",
       "      <th>2</th>\n",
       "      <td>Munich</td>\n",
       "      <td>3</td>\n",
       "      <td>0.412036</td>\n",
       "      <td>0.592048</td>\n",
       "      <td>0.264706</td>\n",
       "      <td>0.983825</td>\n",
       "      <td>0.600000</td>\n",
       "      <td>1.000000</td>\n",
       "      <td>48.137108</td>\n",
       "      <td>11.575382</td>\n",
       "    </tr>\n",
       "    <tr>\n",
       "      <th>3</th>\n",
       "      <td>Nuremberg</td>\n",
       "      <td>1</td>\n",
       "      <td>0.144878</td>\n",
       "      <td>0.425219</td>\n",
       "      <td>0.264706</td>\n",
       "      <td>0.983825</td>\n",
       "      <td>0.200000</td>\n",
       "      <td>0.375000</td>\n",
       "      <td>49.453872</td>\n",
       "      <td>11.077298</td>\n",
       "    </tr>\n",
       "    <tr>\n",
       "      <th>4</th>\n",
       "      <td>Augsburg</td>\n",
       "      <td>1</td>\n",
       "      <td>0.081356</td>\n",
       "      <td>0.423356</td>\n",
       "      <td>0.264706</td>\n",
       "      <td>0.983825</td>\n",
       "      <td>0.333333</td>\n",
       "      <td>0.208333</td>\n",
       "      <td>48.366804</td>\n",
       "      <td>10.898697</td>\n",
       "    </tr>\n",
       "  </tbody>\n",
       "</table>\n",
       "</div>"
      ],
      "text/plain": [
       "        City  Cluster Labels  Population       GDP  Unemployment  Avg Income  \\\n",
       "0     Berlin               2    1.000000  0.404815      0.784314    0.807461   \n",
       "1    Hamburg               2    0.507782  0.541447      0.617647    1.000000   \n",
       "2     Munich               3    0.412036  0.592048      0.264706    0.983825   \n",
       "3  Nuremberg               1    0.144878  0.425219      0.264706    0.983825   \n",
       "4   Augsburg               1    0.081356  0.423356      0.264706    0.983825   \n",
       "\n",
       "   Num of IT Restaurants  Num of Cafès   Latitude  Longitude  \n",
       "0               0.266667      0.375000  52.517037  13.388860  \n",
       "1               0.533333      0.250000  53.543764  10.009913  \n",
       "2               0.600000      1.000000  48.137108  11.575382  \n",
       "3               0.200000      0.375000  49.453872  11.077298  \n",
       "4               0.333333      0.208333  48.366804  10.898697  "
      ]
     },
     "execution_count": 62,
     "metadata": {},
     "output_type": "execute_result"
    }
   ],
   "source": [
    "clustered_geo_df = pd.merge(left=df_for_clustering, right=geo_df, on='City')\n",
    "clustered_geo_df.head()"
   ]
  },
  {
   "cell_type": "markdown",
   "metadata": {},
   "source": [
    "Finally, let's create the map containing the clusters!"
   ]
  },
  {
   "cell_type": "code",
   "execution_count": 63,
   "metadata": {},
   "outputs": [],
   "source": [
    "import folium # map rendering library\n",
    "import matplotlib.cm as cm\n",
    "import matplotlib.colors as colors\n",
    "import numpy as np"
   ]
  },
  {
   "cell_type": "code",
   "execution_count": 64,
   "metadata": {},
   "outputs": [
    {
     "data": {
      "text/html": [
       "<div style=\"width:100%;\"><div style=\"position:relative;width:100%;height:0;padding-bottom:60%;\"><iframe src=\"about:blank\" style=\"position:absolute;width:100%;height:100%;left:0;top:0;border:none !important;\" data-html=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 onload=\"this.contentDocument.open();this.contentDocument.write(atob(this.getAttribute('data-html')));this.contentDocument.close();\" allowfullscreen webkitallowfullscreen mozallowfullscreen></iframe></div></div>"
      ],
      "text/plain": [
       "<folium.folium.Map at 0x174e8578548>"
      ]
     },
     "execution_count": 64,
     "metadata": {},
     "output_type": "execute_result"
    }
   ],
   "source": [
    "# create map\n",
    "map_clusters = folium.Map(location=[52.517037, 13.388860], zoom_start=5.5)\n",
    "\n",
    "# set color scheme for the clusters\n",
    "x = np.arange(OPTIMAL_CLUSTERS)\n",
    "ys = [i + x + (i*x)**2 for i in range(OPTIMAL_CLUSTERS)]\n",
    "colors_array = cm.rainbow(np.linspace(0, 1, len(ys)))\n",
    "rainbow = [colors.rgb2hex(i) for i in colors_array]\n",
    "\n",
    "# add markers to the map\n",
    "markers_colors = []\n",
    "for lat, lon, poi, cluster in zip(clustered_geo_df['Latitude'], clustered_geo_df['Longitude'],\\\n",
    "                                  clustered_geo_df['City'], clustered_geo_df['Cluster Labels']):\n",
    "    label = folium.Popup(str(poi) + ' Cluster ' + str(cluster), parse_html=True)\n",
    "    folium.CircleMarker(\n",
    "        [lat, lon],\n",
    "        radius=10,\n",
    "        popup=label,\n",
    "        color=rainbow[cluster-1],\n",
    "        fill=True,\n",
    "        fill_color=rainbow[cluster-1],\n",
    "        fill_opacity=0.7).add_to(map_clusters)\n",
    "       \n",
    "map_clusters"
   ]
  },
  {
   "cell_type": "markdown",
   "metadata": {},
   "source": [
    "As we can see from the map, the yellow clusters represent the best cities to relocate to, pretty much as we established with the Score index parameter calculated above!\n",
    "\n",
    "Let's group together the cities in each cluster."
   ]
  },
  {
   "cell_type": "code",
   "execution_count": 65,
   "metadata": {},
   "outputs": [
    {
     "data": {
      "text/html": [
       "<style  type=\"text/css\" >\n",
       "</style><table id=\"T_67e6b24c_76ac_11ea_981b_e09d31daa880\" ><thead>    <tr>        <th class=\"col_heading level0 col0\" >Cluster Labels</th>        <th class=\"col_heading level0 col1\" >City</th>    </tr></thead><tbody>\n",
       "                <tr>\n",
       "                                <td id=\"T_67e6b24c_76ac_11ea_981b_e09d31daa880row0_col0\" class=\"data row0 col0\" >0</td>\n",
       "                        <td id=\"T_67e6b24c_76ac_11ea_981b_e09d31daa880row0_col1\" class=\"data row0 col1\" >['Essen', 'Duisburg', 'Bochum', 'Wuppertal', 'Bielefeld', 'Gelsenkirchen', 'Mönchengladbach', 'Aachen', 'Krefeld', 'Oberhausen', 'Hagen', 'Hamm', 'Mülheim an der Ruhr', 'Leverkusen', 'Solingen', 'Herne', 'Bottrop', 'Remscheid', 'Offenbach am Main', 'Leipzig', 'Dresden', 'Chemnitz', 'Bremen', 'Bremerhaven', 'Oldenburg', 'Osnabrück', 'Salzgitter', 'Lübeck', 'Magdeburg', 'Jena', 'Trier', 'Rostock', 'Saarbrücken', 'Potsdam']</td>\n",
       "            </tr>\n",
       "            <tr>\n",
       "                                <td id=\"T_67e6b24c_76ac_11ea_981b_e09d31daa880row1_col0\" class=\"data row1 col0\" >1</td>\n",
       "                        <td id=\"T_67e6b24c_76ac_11ea_981b_e09d31daa880row1_col1\" class=\"data row1 col1\" >['Nuremberg', 'Augsburg', 'Regensburg', 'Ingolstadt', 'Würzburg', 'Fürth', 'Erlangen', 'Wiesbaden', 'Kassel', 'Darmstadt', 'Karlsruhe', 'Heidelberg', 'Ulm', 'Heilbronn', 'Pforzheim', 'Braunschweig', 'Wolfsburg', 'Kiel', 'Erfurt', 'Mainz', 'Ludwigshafen am Rhein', 'Koblenz']</td>\n",
       "            </tr>\n",
       "            <tr>\n",
       "                                <td id=\"T_67e6b24c_76ac_11ea_981b_e09d31daa880row2_col0\" class=\"data row2 col0\" >2</td>\n",
       "                        <td id=\"T_67e6b24c_76ac_11ea_981b_e09d31daa880row2_col1\" class=\"data row2 col1\" >['Berlin', 'Hamburg']</td>\n",
       "            </tr>\n",
       "            <tr>\n",
       "                                <td id=\"T_67e6b24c_76ac_11ea_981b_e09d31daa880row3_col0\" class=\"data row3 col0\" >3</td>\n",
       "                        <td id=\"T_67e6b24c_76ac_11ea_981b_e09d31daa880row3_col1\" class=\"data row3 col1\" >['Munich', 'Cologne', 'Düsseldorf', 'Dortmund', 'Bonn', 'Münster', 'Frankfurt am Main', 'Stuttgart', 'Mannheim', 'Freiburg im Breisgau']</td>\n",
       "            </tr>\n",
       "    </tbody></table>"
      ],
      "text/plain": [
       "<pandas.io.formats.style.Styler at 0x174e855bbc8>"
      ]
     },
     "execution_count": 65,
     "metadata": {},
     "output_type": "execute_result"
    }
   ],
   "source": [
    "df_pretty2 = clustered_geo_df.groupby('Cluster Labels')['City'].agg(lambda x: list(x))\n",
    "\n",
    "df_pretty2.reset_index().style.hide_index()"
   ]
  },
  {
   "cell_type": "markdown",
   "metadata": {},
   "source": [
    "# Conclusions"
   ]
  },
  {
   "cell_type": "raw",
   "metadata": {},
   "source": [
    "The business problem was very challenging.\n",
    "Let's make a recap of what we accomplished.\n",
    "Firstly we gathered some data related to the biggest german cities with > 100'000 citizens from Wikipedia; this data included exact population, GDP per state, Average Employer Net Income per year and Unemployment Rate.\n",
    "Then we obtained the number of venues of interest for our client for each city, using the Foursquare API.\n",
    "We grouped these observations in one simple Dataframe, and then we normalized the data using the Simple Feature Scaling approach.\n",
    "\n",
    "Given our Wish Matrix (based on the 'weights' of each parameter given by our client), for each city we calculated a score index.\n",
    "According to this parameter, we've found that the best cities to relocate to are:\n",
    "1) Munich\n",
    "2) Stuttgart\n",
    "3) Ingolstadt\n",
    "4) Frankfurt am Main\n",
    "5) Mannheim\n",
    "6) Hamburg\n",
    "7) Cologne\n",
    "8) Nuremberg\n",
    "9) Freiburg im Breisgau\n",
    "\n",
    "\n",
    "Next, we've build a KMeans model, to cluster the cities and to show a map of the clusters.\n",
    "We've seen that 4 was the best K-parameter thanks to the elbow method.\n",
    "\n",
    "The yellow cluster was the one having the best cities to relocate to.\n",
    "In the yellow cluster, we have 11 cities:\n",
    "'Munich', 'Stuttgart', 'Frankfurt am Main', 'Mannheim', 'Hamburg', 'Cologne', 'Freiburg im Breisgau', 'Düsseldorf', 'Dortmund', 'Bonn' and 'Münster'.\n",
    "\n",
    "As many as 7 cities out of the 11 in the yellow cluster appear also in the best 9 cities calculated using the score index!\n",
    "That's what can be called a great result!"
   ]
  }
 ],
 "metadata": {
  "kernelspec": {
   "display_name": "Python 3",
   "language": "python",
   "name": "python3"
  },
  "language_info": {
   "codemirror_mode": {
    "name": "ipython",
    "version": 3
   },
   "file_extension": ".py",
   "mimetype": "text/x-python",
   "name": "python",
   "nbconvert_exporter": "python",
   "pygments_lexer": "ipython3",
   "version": "3.7.6"
  }
 },
 "nbformat": 4,
 "nbformat_minor": 4
}
